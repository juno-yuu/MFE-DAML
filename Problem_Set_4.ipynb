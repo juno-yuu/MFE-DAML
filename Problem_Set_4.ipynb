{
  "nbformat": 4,
  "nbformat_minor": 0,
  "metadata": {
    "colab": {
      "name": "Problem Set 4.ipynb",
      "provenance": [],
      "include_colab_link": true
    },
    "kernelspec": {
      "display_name": "Python 3",
      "name": "python3"
    },
    "language_info": {
      "name": "python"
    }
  },
  "cells": [
    {
      "cell_type": "markdown",
      "metadata": {
        "id": "view-in-github",
        "colab_type": "text"
      },
      "source": [
        "<a href=\"https://colab.research.google.com/github/juno-yuu/MFE-DAML/blob/main/Problem_Set_4.ipynb\" target=\"_parent\"><img src=\"https://colab.research.google.com/assets/colab-badge.svg\" alt=\"Open In Colab\"/></a>"
      ]
    },
    {
      "cell_type": "markdown",
      "metadata": {
        "id": "Vx1k1QjkG0VH"
      },
      "source": [
        "## Problem Set 4"
      ]
    },
    {
      "cell_type": "markdown",
      "metadata": {
        "id": "FqgOXc5Q8ULG"
      },
      "source": [
        "### Question 1: Automatic Stock Picking Algorithm\n"
      ]
    },
    {
      "cell_type": "markdown",
      "metadata": {
        "id": "qeo-ZkpP8bGU"
      },
      "source": [
        "a. Download the data. The firm-level characteristics you will use are lnIssue, lnProf,\n",
        "lnInv, and lnME. For each of these four characteristics, create new, additional\n",
        "characteristics as the squared value of the original characteristic. Name the new\n",
        "characteristics the same as the original, but with a \"2\" at the end. For instance, for\n",
        "lnProf, the squared value should be lnProf2. Further, create additional characteristics\n",
        "by multiplying each characteristic with lnME (except for lnME itself, which you already\n",
        "have squared). To name these, add _ME at the end. Thus, lnProf interacted with lnME is\n",
        "named lnProf_ME. You should have now gone from 4 to 11 characteristics."
      ]
    },
    {
      "cell_type": "code",
      "metadata": {
        "id": "b9R94u8lnb0d"
      },
      "source": [
        "import os\n",
        "import pandas  as pd\n",
        "import numpy as np\n",
        "import matplotlib.pyplot as plt\n",
        "import sklearn.metrics as metrics # make sure scikit-learn is installed\n",
        "from sklearn.metrics import mean_squared_error\n",
        "from sklearn.linear_model import ElasticNet\n",
        "import warnings\n",
        "warnings.filterwarnings(action='once')"
      ],
      "execution_count": 2,
      "outputs": []
    },
    {
      "cell_type": "code",
      "metadata": {
        "id": "3tyE3gtbn_5A"
      },
      "source": [
        "from google.colab import drive\n",
        "drive.mount('/content/drive')"
      ],
      "execution_count": null,
      "outputs": []
    },
    {
      "cell_type": "code",
      "metadata": {
        "id": "2X4dwqN0oTFf"
      },
      "source": [
        "#load data\n",
        "data_raw = pd.read_csv(\"/content/drive/MyDrive/MFE 431 DAML /StockRetAcct_DT.csv\")\n",
        "\n",
        "data = data_raw[['FirmID','year','lnIssue','lnProf','lnInv','lnME']]\n"
      ],
      "execution_count": 3,
      "outputs": []
    },
    {
      "cell_type": "code",
      "metadata": {
        "colab": {
          "base_uri": "https://localhost:8080/",
          "height": 204
        },
        "id": "uFeCwvNn9Sk7",
        "outputId": "44fd58e0-f1fe-486d-d9f1-a16f9b00bc76"
      },
      "source": [
        "# creat new,  additional characteristics as the squared value of the original characteristic.\n",
        "data= pd.concat([data,data.iloc[:,2:6].apply(np.square, axis=1).add_suffix('2')],axis=1)\n",
        "# create additional characteristics by multiplying each characteristic with lnME\n",
        "data = pd.concat([data,data.iloc[:,2:5].multiply(data[\"lnME\"], axis=\"index\").add_suffix('_ME')],axis=1) #11 variables included\n",
        "data= data.dropna()\n",
        "data.head()"
      ],
      "execution_count": 4,
      "outputs": [
        {
          "output_type": "execute_result",
          "data": {
            "text/html": [
              "<div>\n",
              "<style scoped>\n",
              "    .dataframe tbody tr th:only-of-type {\n",
              "        vertical-align: middle;\n",
              "    }\n",
              "\n",
              "    .dataframe tbody tr th {\n",
              "        vertical-align: top;\n",
              "    }\n",
              "\n",
              "    .dataframe thead th {\n",
              "        text-align: right;\n",
              "    }\n",
              "</style>\n",
              "<table border=\"1\" class=\"dataframe\">\n",
              "  <thead>\n",
              "    <tr style=\"text-align: right;\">\n",
              "      <th></th>\n",
              "      <th>FirmID</th>\n",
              "      <th>year</th>\n",
              "      <th>lnIssue</th>\n",
              "      <th>lnProf</th>\n",
              "      <th>lnInv</th>\n",
              "      <th>lnME</th>\n",
              "      <th>lnIssue2</th>\n",
              "      <th>lnProf2</th>\n",
              "      <th>lnInv2</th>\n",
              "      <th>lnME2</th>\n",
              "      <th>lnIssue_ME</th>\n",
              "      <th>lnProf_ME</th>\n",
              "      <th>lnInv_ME</th>\n",
              "    </tr>\n",
              "  </thead>\n",
              "  <tbody>\n",
              "    <tr>\n",
              "      <th>0</th>\n",
              "      <td>6</td>\n",
              "      <td>1980</td>\n",
              "      <td>0.031344</td>\n",
              "      <td>0.201767</td>\n",
              "      <td>0.093626</td>\n",
              "      <td>12.581472</td>\n",
              "      <td>0.000982</td>\n",
              "      <td>0.040710</td>\n",
              "      <td>0.008766</td>\n",
              "      <td>158.293448</td>\n",
              "      <td>0.394356</td>\n",
              "      <td>2.538527</td>\n",
              "      <td>1.177954</td>\n",
              "    </tr>\n",
              "    <tr>\n",
              "      <th>1</th>\n",
              "      <td>6</td>\n",
              "      <td>1981</td>\n",
              "      <td>0.044213</td>\n",
              "      <td>0.215661</td>\n",
              "      <td>0.087242</td>\n",
              "      <td>12.907996</td>\n",
              "      <td>0.001955</td>\n",
              "      <td>0.046510</td>\n",
              "      <td>0.007611</td>\n",
              "      <td>166.616365</td>\n",
              "      <td>0.570708</td>\n",
              "      <td>2.783750</td>\n",
              "      <td>1.126121</td>\n",
              "    </tr>\n",
              "    <tr>\n",
              "      <th>2</th>\n",
              "      <td>6</td>\n",
              "      <td>1982</td>\n",
              "      <td>-0.068195</td>\n",
              "      <td>0.184087</td>\n",
              "      <td>0.111663</td>\n",
              "      <td>12.557775</td>\n",
              "      <td>0.004651</td>\n",
              "      <td>0.033888</td>\n",
              "      <td>0.012469</td>\n",
              "      <td>157.697701</td>\n",
              "      <td>-0.856377</td>\n",
              "      <td>2.311729</td>\n",
              "      <td>1.402244</td>\n",
              "    </tr>\n",
              "    <tr>\n",
              "      <th>3</th>\n",
              "      <td>6</td>\n",
              "      <td>1983</td>\n",
              "      <td>-0.071780</td>\n",
              "      <td>0.165531</td>\n",
              "      <td>-0.033117</td>\n",
              "      <td>12.561954</td>\n",
              "      <td>0.005152</td>\n",
              "      <td>0.027401</td>\n",
              "      <td>0.001097</td>\n",
              "      <td>157.802677</td>\n",
              "      <td>-0.901693</td>\n",
              "      <td>2.079396</td>\n",
              "      <td>-0.416017</td>\n",
              "    </tr>\n",
              "    <tr>\n",
              "      <th>4</th>\n",
              "      <td>10</td>\n",
              "      <td>1991</td>\n",
              "      <td>0.115204</td>\n",
              "      <td>0.239788</td>\n",
              "      <td>0.300051</td>\n",
              "      <td>11.565831</td>\n",
              "      <td>0.013272</td>\n",
              "      <td>0.057498</td>\n",
              "      <td>0.090031</td>\n",
              "      <td>133.768451</td>\n",
              "      <td>1.332431</td>\n",
              "      <td>2.773345</td>\n",
              "      <td>3.470341</td>\n",
              "    </tr>\n",
              "  </tbody>\n",
              "</table>\n",
              "</div>"
            ],
            "text/plain": [
              "   FirmID  year   lnIssue  ...  lnIssue_ME  lnProf_ME  lnInv_ME\n",
              "0       6  1980  0.031344  ...    0.394356   2.538527  1.177954\n",
              "1       6  1981  0.044213  ...    0.570708   2.783750  1.126121\n",
              "2       6  1982 -0.068195  ...   -0.856377   2.311729  1.402244\n",
              "3       6  1983 -0.071780  ...   -0.901693   2.079396 -0.416017\n",
              "4      10  1991  0.115204  ...    1.332431   2.773345  3.470341\n",
              "\n",
              "[5 rows x 13 columns]"
            ]
          },
          "metadata": {
            "tags": []
          },
          "execution_count": 4
        }
      ]
    },
    {
      "cell_type": "markdown",
      "metadata": {
        "id": "XGO_Ehhi_3vw"
      },
      "source": [
        "(i) For each year in the sample, cross-sectionally demean each of the 11 characteristics.\n",
        "That is, for each characteristic and each year subtract the average value of that\n",
        "characteristic across stocks. Then add as final characteristic a column of 1's to the\n",
        "dataset. This effectively inserts an intercept in the relation between the MVE portfolio\n",
        "weight and the characteristics.\n"
      ]
    },
    {
      "cell_type": "code",
      "metadata": {
        "id": "01SyQmqF_3FN"
      },
      "source": [
        "df_demean=data.copy()\n",
        "def demeaned(arr):\n",
        "  return arr- arr.mean()\n",
        "\n",
        "df_demean = df_demean.groupby('year').transform(demeaned)\n",
        "df_demean[['c']] = 1\n",
        "df_demean[['year']] = data[['year']]\n",
        "#df_demean = df_demean.set_index('year') #inserts an intercept in the relation between the MVE portfolio weight and the characteristics\n",
        "#For matrix multiplication, we drop the last row of the dataframe"
      ],
      "execution_count": 5,
      "outputs": []
    },
    {
      "cell_type": "markdown",
      "metadata": {
        "id": "9sKq0vAOLeQD"
      },
      "source": [
        "Next calculate the factor portfolio returns corresponding to each of these 12\n",
        "characteristics, as explained on slide 48 in the Topic 4 note (F is implicitly defined in\n",
        "the equation there). Note that the factor corresponding to the constant is simply an\n",
        "equal-weighted portfolio of all stocks (the \"market\"). The overall idea is that with this\n",
        "approach you have a market factor and long-short characteristics factors."
      ]
    },
    {
      "cell_type": "markdown",
      "metadata": {
        "id": "lItrVRV8LgZw"
      },
      "source": [
        "\n",
        "\n",
        "*   Here by slides 48, $F$ is defined as $F_{t+1} = \\sum^{N_t}_{i=1}X_{i,t}R^e_{i,t+1}$, where $X_{i,t}$ is 11 characteristcis in this case, $R^e_{i,t+1}$ is the next priod return\n",
        "\n",
        "\n",
        "\n",
        "\n",
        "\n",
        "\n",
        "\n"
      ]
    },
    {
      "cell_type": "code",
      "metadata": {
        "id": "lIHEeK1sNGzP"
      },
      "source": [
        "# create next period excess returns\n",
        "df_demean['ExRet'] = np.exp(data_raw.lnAnnRet)-np.exp(data_raw.lnRf)"
      ],
      "execution_count": 6,
      "outputs": []
    },
    {
      "cell_type": "code",
      "metadata": {
        "id": "5K--QrqfFW3Q"
      },
      "source": [
        "# get sample mean\n",
        "def dot(col):\n",
        "    return col.T@col.ExRet\n",
        "\n",
        "Factor_Return = df_demean.iloc[:,1:].groupby('year').apply(dot)\n",
        "Factor_Return = Factor_Return.drop(['year'], axis = 1).iloc[:,0:12]\n",
        "# get variance-covariance matrix\n",
        "col_name = ('lnIssue','lnProf', 'lnInv', 'lnME',\n",
        "       'lnIssue2','lnProf2','lnInv2','lnME2','lnIssue_ME','lnProf_ME','lnInv_ME', 'C',)\n",
        "cov = pd.DataFrame(np.cov(Factor_Return.T))\n",
        "cov.columns=col_name\n",
        "cov.index=col_name\n",
        "# get sharpe ratio\n",
        "sharpe_ratio = pd.DataFrame((Factor_Return.mean(axis=0))/(np.sqrt(np.diag(cov))))\n",
        "sharpe_ratio.columns = ['Sharpe Ratio']"
      ],
      "execution_count": 7,
      "outputs": []
    },
    {
      "cell_type": "code",
      "metadata": {
        "colab": {
          "base_uri": "https://localhost:8080/",
          "height": 421
        },
        "id": "k60vogPqiS2S",
        "outputId": "5b77482b-8f09-488b-f752-05d1e6e383ac"
      },
      "source": [
        "cov"
      ],
      "execution_count": 8,
      "outputs": [
        {
          "output_type": "execute_result",
          "data": {
            "text/html": [
              "<div>\n",
              "<style scoped>\n",
              "    .dataframe tbody tr th:only-of-type {\n",
              "        vertical-align: middle;\n",
              "    }\n",
              "\n",
              "    .dataframe tbody tr th {\n",
              "        vertical-align: top;\n",
              "    }\n",
              "\n",
              "    .dataframe thead th {\n",
              "        text-align: right;\n",
              "    }\n",
              "</style>\n",
              "<table border=\"1\" class=\"dataframe\">\n",
              "  <thead>\n",
              "    <tr style=\"text-align: right;\">\n",
              "      <th></th>\n",
              "      <th>lnIssue</th>\n",
              "      <th>lnProf</th>\n",
              "      <th>lnInv</th>\n",
              "      <th>lnME</th>\n",
              "      <th>lnIssue2</th>\n",
              "      <th>lnProf2</th>\n",
              "      <th>lnInv2</th>\n",
              "      <th>lnME2</th>\n",
              "      <th>lnIssue_ME</th>\n",
              "      <th>lnProf_ME</th>\n",
              "      <th>lnInv_ME</th>\n",
              "      <th>C</th>\n",
              "    </tr>\n",
              "  </thead>\n",
              "  <tbody>\n",
              "    <tr>\n",
              "      <th>lnIssue</th>\n",
              "      <td>484.247627</td>\n",
              "      <td>-723.995935</td>\n",
              "      <td>479.372073</td>\n",
              "      <td>371.861285</td>\n",
              "      <td>269.099214</td>\n",
              "      <td>991.403035</td>\n",
              "      <td>725.136400</td>\n",
              "      <td>1.140169e+04</td>\n",
              "      <td>6769.406854</td>\n",
              "      <td>-9750.236593</td>\n",
              "      <td>7128.603667</td>\n",
              "      <td>1497.966308</td>\n",
              "    </tr>\n",
              "    <tr>\n",
              "      <th>lnProf</th>\n",
              "      <td>-723.995935</td>\n",
              "      <td>1502.070512</td>\n",
              "      <td>-660.189133</td>\n",
              "      <td>-1398.098805</td>\n",
              "      <td>-350.328973</td>\n",
              "      <td>-2143.373967</td>\n",
              "      <td>-1076.862146</td>\n",
              "      <td>-4.193521e+04</td>\n",
              "      <td>-10227.585057</td>\n",
              "      <td>20022.133906</td>\n",
              "      <td>-10181.853016</td>\n",
              "      <td>-13.422415</td>\n",
              "    </tr>\n",
              "    <tr>\n",
              "      <th>lnInv</th>\n",
              "      <td>479.372073</td>\n",
              "      <td>-660.189133</td>\n",
              "      <td>696.573701</td>\n",
              "      <td>564.566730</td>\n",
              "      <td>278.599125</td>\n",
              "      <td>847.547110</td>\n",
              "      <td>1006.271201</td>\n",
              "      <td>1.733066e+04</td>\n",
              "      <td>6748.121943</td>\n",
              "      <td>-8870.453907</td>\n",
              "      <td>10144.641237</td>\n",
              "      <td>1476.757452</td>\n",
              "    </tr>\n",
              "    <tr>\n",
              "      <th>lnME</th>\n",
              "      <td>371.861285</td>\n",
              "      <td>-1398.098805</td>\n",
              "      <td>564.566730</td>\n",
              "      <td>7744.138324</td>\n",
              "      <td>156.802587</td>\n",
              "      <td>2170.171371</td>\n",
              "      <td>1036.013349</td>\n",
              "      <td>2.213437e+05</td>\n",
              "      <td>6233.656933</td>\n",
              "      <td>-17245.349227</td>\n",
              "      <td>10090.637268</td>\n",
              "      <td>-7231.443892</td>\n",
              "    </tr>\n",
              "    <tr>\n",
              "      <th>lnIssue2</th>\n",
              "      <td>269.099214</td>\n",
              "      <td>-350.328973</td>\n",
              "      <td>278.599125</td>\n",
              "      <td>156.802587</td>\n",
              "      <td>205.944691</td>\n",
              "      <td>493.483351</td>\n",
              "      <td>435.031680</td>\n",
              "      <td>5.069551e+03</td>\n",
              "      <td>3744.292151</td>\n",
              "      <td>-4707.365274</td>\n",
              "      <td>4107.135716</td>\n",
              "      <td>1076.968783</td>\n",
              "    </tr>\n",
              "    <tr>\n",
              "      <th>lnProf2</th>\n",
              "      <td>991.403035</td>\n",
              "      <td>-2143.373967</td>\n",
              "      <td>847.547110</td>\n",
              "      <td>2170.171371</td>\n",
              "      <td>493.483351</td>\n",
              "      <td>3219.290859</td>\n",
              "      <td>1393.813398</td>\n",
              "      <td>6.523511e+04</td>\n",
              "      <td>14010.534553</td>\n",
              "      <td>-28515.993295</td>\n",
              "      <td>13205.162126</td>\n",
              "      <td>-100.660677</td>\n",
              "    </tr>\n",
              "    <tr>\n",
              "      <th>lnInv2</th>\n",
              "      <td>725.136400</td>\n",
              "      <td>-1076.862146</td>\n",
              "      <td>1006.271201</td>\n",
              "      <td>1036.013349</td>\n",
              "      <td>435.031680</td>\n",
              "      <td>1393.813398</td>\n",
              "      <td>1525.807832</td>\n",
              "      <td>3.147170e+04</td>\n",
              "      <td>10257.780966</td>\n",
              "      <td>-14435.044332</td>\n",
              "      <td>14806.442053</td>\n",
              "      <td>2223.695962</td>\n",
              "    </tr>\n",
              "    <tr>\n",
              "      <th>lnME2</th>\n",
              "      <td>11401.693501</td>\n",
              "      <td>-41935.208286</td>\n",
              "      <td>17330.657306</td>\n",
              "      <td>221343.687261</td>\n",
              "      <td>5069.550922</td>\n",
              "      <td>65235.107724</td>\n",
              "      <td>31471.703066</td>\n",
              "      <td>6.352930e+06</td>\n",
              "      <td>188974.433171</td>\n",
              "      <td>-519988.886182</td>\n",
              "      <td>306205.313143</td>\n",
              "      <td>-191649.847340</td>\n",
              "    </tr>\n",
              "    <tr>\n",
              "      <th>lnIssue_ME</th>\n",
              "      <td>6769.406854</td>\n",
              "      <td>-10227.585057</td>\n",
              "      <td>6748.121943</td>\n",
              "      <td>6233.656933</td>\n",
              "      <td>3744.292151</td>\n",
              "      <td>14010.534553</td>\n",
              "      <td>10257.780966</td>\n",
              "      <td>1.889744e+05</td>\n",
              "      <td>94887.113693</td>\n",
              "      <td>-137586.627716</td>\n",
              "      <td>100686.054500</td>\n",
              "      <td>19988.314465</td>\n",
              "    </tr>\n",
              "    <tr>\n",
              "      <th>lnProf_ME</th>\n",
              "      <td>-9750.236593</td>\n",
              "      <td>20022.133906</td>\n",
              "      <td>-8870.453907</td>\n",
              "      <td>-17245.349227</td>\n",
              "      <td>-4707.365274</td>\n",
              "      <td>-28515.993295</td>\n",
              "      <td>-14435.044332</td>\n",
              "      <td>-5.199889e+05</td>\n",
              "      <td>-137586.627716</td>\n",
              "      <td>267319.124203</td>\n",
              "      <td>-136506.098213</td>\n",
              "      <td>-2712.426978</td>\n",
              "    </tr>\n",
              "    <tr>\n",
              "      <th>lnInv_ME</th>\n",
              "      <td>7128.603667</td>\n",
              "      <td>-10181.853016</td>\n",
              "      <td>10144.641237</td>\n",
              "      <td>10090.637268</td>\n",
              "      <td>4107.135716</td>\n",
              "      <td>13205.162126</td>\n",
              "      <td>14806.442053</td>\n",
              "      <td>3.062053e+05</td>\n",
              "      <td>100686.054500</td>\n",
              "      <td>-136506.098213</td>\n",
              "      <td>148605.809299</td>\n",
              "      <td>20099.126512</td>\n",
              "    </tr>\n",
              "    <tr>\n",
              "      <th>C</th>\n",
              "      <td>1497.966308</td>\n",
              "      <td>-13.422415</td>\n",
              "      <td>1476.757452</td>\n",
              "      <td>-7231.443892</td>\n",
              "      <td>1076.968783</td>\n",
              "      <td>-100.660677</td>\n",
              "      <td>2223.695962</td>\n",
              "      <td>-1.916498e+05</td>\n",
              "      <td>19988.314465</td>\n",
              "      <td>-2712.426978</td>\n",
              "      <td>20099.126512</td>\n",
              "      <td>94219.137066</td>\n",
              "    </tr>\n",
              "  </tbody>\n",
              "</table>\n",
              "</div>"
            ],
            "text/plain": [
              "                 lnIssue        lnProf  ...       lnInv_ME              C\n",
              "lnIssue       484.247627   -723.995935  ...    7128.603667    1497.966308\n",
              "lnProf       -723.995935   1502.070512  ...  -10181.853016     -13.422415\n",
              "lnInv         479.372073   -660.189133  ...   10144.641237    1476.757452\n",
              "lnME          371.861285  -1398.098805  ...   10090.637268   -7231.443892\n",
              "lnIssue2      269.099214   -350.328973  ...    4107.135716    1076.968783\n",
              "lnProf2       991.403035  -2143.373967  ...   13205.162126    -100.660677\n",
              "lnInv2        725.136400  -1076.862146  ...   14806.442053    2223.695962\n",
              "lnME2       11401.693501 -41935.208286  ...  306205.313143 -191649.847340\n",
              "lnIssue_ME   6769.406854 -10227.585057  ...  100686.054500   19988.314465\n",
              "lnProf_ME   -9750.236593  20022.133906  ... -136506.098213   -2712.426978\n",
              "lnInv_ME     7128.603667 -10181.853016  ...  148605.809299   20099.126512\n",
              "C            1497.966308    -13.422415  ...   20099.126512   94219.137066\n",
              "\n",
              "[12 rows x 12 columns]"
            ]
          },
          "metadata": {
            "tags": []
          },
          "execution_count": 8
        }
      ]
    },
    {
      "cell_type": "markdown",
      "metadata": {
        "id": "YfQvpouLbdg5"
      },
      "source": [
        "(ii) Next, you are to use the Elastic Net procedure (with alpha (l1_ratio) =0.5) to estimate\n",
        "the b coefficients. We will use the 25 year sample from 1980-2004 for the crossvalidation\n",
        "exercise, and then we will use the 2005-2014 period for the out of sample\n",
        "testing. The sklearn procedure ElasticNet is useful here, but note that you have to code\n",
        "up the cross-validation yourself as the process we need to follow does not correspond\n",
        "to that coded up in ElasticNetCV"
      ]
    },
    {
      "cell_type": "markdown",
      "metadata": {
        "id": "06QnELGyfY4x"
      },
      "source": [
        "First, find sample average factor returns and covariance matrix from\n",
        "1980-1999.\n"
      ]
    },
    {
      "cell_type": "code",
      "metadata": {
        "id": "r0wHynR1H5az"
      },
      "source": [
        "# First subset the data \n",
        "# 1980-2004\n",
        "Factor_insample = Factor_Return[0:25]\n",
        "Factor_outsample = Factor_Return[25:]"
      ],
      "execution_count": 9,
      "outputs": []
    },
    {
      "cell_type": "code",
      "metadata": {
        "colab": {
          "base_uri": "https://localhost:8080/",
          "height": 390
        },
        "id": "wbiYXCYbf2x0",
        "outputId": "c1cbd065-5019-4b0b-8aab-738645419bcc"
      },
      "source": [
        "Factor_outsample"
      ],
      "execution_count": 10,
      "outputs": [
        {
          "output_type": "execute_result",
          "data": {
            "text/html": [
              "<div>\n",
              "<style scoped>\n",
              "    .dataframe tbody tr th:only-of-type {\n",
              "        vertical-align: middle;\n",
              "    }\n",
              "\n",
              "    .dataframe tbody tr th {\n",
              "        vertical-align: top;\n",
              "    }\n",
              "\n",
              "    .dataframe thead th {\n",
              "        text-align: right;\n",
              "    }\n",
              "</style>\n",
              "<table border=\"1\" class=\"dataframe\">\n",
              "  <thead>\n",
              "    <tr style=\"text-align: right;\">\n",
              "      <th></th>\n",
              "      <th>lnIssue</th>\n",
              "      <th>lnProf</th>\n",
              "      <th>lnInv</th>\n",
              "      <th>lnME</th>\n",
              "      <th>lnIssue2</th>\n",
              "      <th>lnProf2</th>\n",
              "      <th>lnInv2</th>\n",
              "      <th>lnME2</th>\n",
              "      <th>lnIssue_ME</th>\n",
              "      <th>lnProf_ME</th>\n",
              "      <th>lnInv_ME</th>\n",
              "      <th>c</th>\n",
              "    </tr>\n",
              "    <tr>\n",
              "      <th>year</th>\n",
              "      <th></th>\n",
              "      <th></th>\n",
              "      <th></th>\n",
              "      <th></th>\n",
              "      <th></th>\n",
              "      <th></th>\n",
              "      <th></th>\n",
              "      <th></th>\n",
              "      <th></th>\n",
              "      <th></th>\n",
              "      <th></th>\n",
              "      <th></th>\n",
              "    </tr>\n",
              "  </thead>\n",
              "  <tbody>\n",
              "    <tr>\n",
              "      <th>2005</th>\n",
              "      <td>5.403550</td>\n",
              "      <td>-2.861234</td>\n",
              "      <td>1.708085</td>\n",
              "      <td>-41.959234</td>\n",
              "      <td>-1.422053</td>\n",
              "      <td>-2.234435</td>\n",
              "      <td>-1.794967</td>\n",
              "      <td>-1276.310760</td>\n",
              "      <td>75.806231</td>\n",
              "      <td>-52.737596</td>\n",
              "      <td>17.075068</td>\n",
              "      <td>174.051859</td>\n",
              "    </tr>\n",
              "    <tr>\n",
              "      <th>2006</th>\n",
              "      <td>1.065737</td>\n",
              "      <td>8.155112</td>\n",
              "      <td>-4.654037</td>\n",
              "      <td>30.883260</td>\n",
              "      <td>1.875986</td>\n",
              "      <td>-0.493804</td>\n",
              "      <td>-1.387720</td>\n",
              "      <td>917.235500</td>\n",
              "      <td>19.074520</td>\n",
              "      <td>125.966341</td>\n",
              "      <td>-59.573930</td>\n",
              "      <td>216.732893</td>\n",
              "    </tr>\n",
              "    <tr>\n",
              "      <th>2007</th>\n",
              "      <td>4.773745</td>\n",
              "      <td>1.710196</td>\n",
              "      <td>10.936219</td>\n",
              "      <td>27.226499</td>\n",
              "      <td>-4.487414</td>\n",
              "      <td>-1.382284</td>\n",
              "      <td>7.228035</td>\n",
              "      <td>804.362341</td>\n",
              "      <td>66.023493</td>\n",
              "      <td>35.057233</td>\n",
              "      <td>164.519983</td>\n",
              "      <td>-276.838506</td>\n",
              "    </tr>\n",
              "    <tr>\n",
              "      <th>2008</th>\n",
              "      <td>-15.464643</td>\n",
              "      <td>-0.101803</td>\n",
              "      <td>-5.093357</td>\n",
              "      <td>-62.637990</td>\n",
              "      <td>-9.028331</td>\n",
              "      <td>7.351371</td>\n",
              "      <td>-6.024950</td>\n",
              "      <td>-1851.107589</td>\n",
              "      <td>-229.655133</td>\n",
              "      <td>-4.709369</td>\n",
              "      <td>-85.676952</td>\n",
              "      <td>-444.684432</td>\n",
              "    </tr>\n",
              "    <tr>\n",
              "      <th>2009</th>\n",
              "      <td>0.374578</td>\n",
              "      <td>19.581095</td>\n",
              "      <td>-13.822912</td>\n",
              "      <td>-54.798470</td>\n",
              "      <td>1.010859</td>\n",
              "      <td>-27.654778</td>\n",
              "      <td>-4.455894</td>\n",
              "      <td>-1677.502640</td>\n",
              "      <td>-1.699760</td>\n",
              "      <td>238.630013</td>\n",
              "      <td>-203.434141</td>\n",
              "      <td>427.442543</td>\n",
              "    </tr>\n",
              "    <tr>\n",
              "      <th>2010</th>\n",
              "      <td>-7.530569</td>\n",
              "      <td>5.394919</td>\n",
              "      <td>-9.812465</td>\n",
              "      <td>-26.808727</td>\n",
              "      <td>-7.807869</td>\n",
              "      <td>3.291916</td>\n",
              "      <td>-1.474337</td>\n",
              "      <td>-912.792836</td>\n",
              "      <td>-110.678127</td>\n",
              "      <td>72.380370</td>\n",
              "      <td>-132.181752</td>\n",
              "      <td>658.424530</td>\n",
              "    </tr>\n",
              "    <tr>\n",
              "      <th>2011</th>\n",
              "      <td>-7.263162</td>\n",
              "      <td>-4.892317</td>\n",
              "      <td>-1.622873</td>\n",
              "      <td>25.059469</td>\n",
              "      <td>-2.924255</td>\n",
              "      <td>2.446160</td>\n",
              "      <td>-0.145948</td>\n",
              "      <td>833.604157</td>\n",
              "      <td>-116.161621</td>\n",
              "      <td>-56.977095</td>\n",
              "      <td>-27.132711</td>\n",
              "      <td>-31.666686</td>\n",
              "    </tr>\n",
              "    <tr>\n",
              "      <th>2012</th>\n",
              "      <td>2.942764</td>\n",
              "      <td>-3.639943</td>\n",
              "      <td>-4.412319</td>\n",
              "      <td>-17.032645</td>\n",
              "      <td>2.427037</td>\n",
              "      <td>2.597757</td>\n",
              "      <td>-0.524024</td>\n",
              "      <td>-533.038245</td>\n",
              "      <td>35.795494</td>\n",
              "      <td>-54.423026</td>\n",
              "      <td>-63.360507</td>\n",
              "      <td>432.747329</td>\n",
              "    </tr>\n",
              "    <tr>\n",
              "      <th>2013</th>\n",
              "      <td>1.631391</td>\n",
              "      <td>2.286579</td>\n",
              "      <td>-2.027161</td>\n",
              "      <td>15.910035</td>\n",
              "      <td>1.369023</td>\n",
              "      <td>7.275314</td>\n",
              "      <td>-1.685727</td>\n",
              "      <td>442.138990</td>\n",
              "      <td>23.019043</td>\n",
              "      <td>34.974434</td>\n",
              "      <td>-23.465789</td>\n",
              "      <td>416.360318</td>\n",
              "    </tr>\n",
              "    <tr>\n",
              "      <th>2014</th>\n",
              "      <td>0.107561</td>\n",
              "      <td>-3.278064</td>\n",
              "      <td>16.772211</td>\n",
              "      <td>8.095452</td>\n",
              "      <td>-0.696480</td>\n",
              "      <td>4.100347</td>\n",
              "      <td>14.020280</td>\n",
              "      <td>261.598588</td>\n",
              "      <td>-1.578293</td>\n",
              "      <td>-39.535929</td>\n",
              "      <td>239.621299</td>\n",
              "      <td>103.158813</td>\n",
              "    </tr>\n",
              "  </tbody>\n",
              "</table>\n",
              "</div>"
            ],
            "text/plain": [
              "        lnIssue     lnProf      lnInv  ...   lnProf_ME    lnInv_ME           c\n",
              "year                                   ...                                    \n",
              "2005   5.403550  -2.861234   1.708085  ...  -52.737596   17.075068  174.051859\n",
              "2006   1.065737   8.155112  -4.654037  ...  125.966341  -59.573930  216.732893\n",
              "2007   4.773745   1.710196  10.936219  ...   35.057233  164.519983 -276.838506\n",
              "2008 -15.464643  -0.101803  -5.093357  ...   -4.709369  -85.676952 -444.684432\n",
              "2009   0.374578  19.581095 -13.822912  ...  238.630013 -203.434141  427.442543\n",
              "2010  -7.530569   5.394919  -9.812465  ...   72.380370 -132.181752  658.424530\n",
              "2011  -7.263162  -4.892317  -1.622873  ...  -56.977095  -27.132711  -31.666686\n",
              "2012   2.942764  -3.639943  -4.412319  ...  -54.423026  -63.360507  432.747329\n",
              "2013   1.631391   2.286579  -2.027161  ...   34.974434  -23.465789  416.360318\n",
              "2014   0.107561  -3.278064  16.772211  ...  -39.535929  239.621299  103.158813\n",
              "\n",
              "[10 rows x 12 columns]"
            ]
          },
          "metadata": {
            "tags": []
          },
          "execution_count": 10
        }
      ]
    },
    {
      "cell_type": "code",
      "metadata": {
        "colab": {
          "base_uri": "https://localhost:8080/"
        },
        "id": "7Dl-GzrtzqEG",
        "outputId": "0b8b88c3-1185-470b-86c0-f493cc23039c"
      },
      "source": [
        "alphas = (10 ** np.linspace(10, -10, 500) * 0.002)\n",
        "y25sample = Factor_Return[0:25]\n",
        "fold1 = y25sample.drop(labels=range(2000,2005)) # 1980-1999\n",
        "fold2 = y25sample.drop(labels=range(1995,2000)) # 1980-1994 & 2000-2004\n",
        "fold3 = y25sample.drop(labels=range(1990,1955)) # 1980-1989 & 1995-2004\n",
        "fold4 = y25sample.drop(labels=range(1985,1990)) # 1980-1984 & 1990-2004\n",
        "fold5 = y25sample.drop(labels=range(1980,1985)) # 1985 - 2004\n",
        "test1 = y25sample[20:25]\n",
        "test2 = y25sample[15:20]\n",
        "test3 = y25sample[10:15]\n",
        "test4 = y25sample[5:10]\n",
        "test5 = y25sample[0:5]\n",
        "mse = [0] * 500\n",
        "for i in range(0, 500):\n",
        "  model = ElasticNet(alpha=alphas[i], fit_intercept=False, max_iter=1000000)\n",
        "  coef1 = model.fit(fold1.cov(), fold1.mean()).coef_\n",
        "  mse1 = np.mean((np.dot(test1.cov(), coef1) - test1.mean()) ** 2)\n",
        "  coef2 = model.fit(fold2.cov(), fold2.mean()).coef_\n",
        "  mse2 = np.mean((np.dot(test2.cov(), coef2) - test2.mean()) ** 2)\n",
        "  coef3 = model.fit(fold3.cov(), fold3.mean()).coef_\n",
        "  mse3 = np.mean((np.dot(test3.cov(), coef3) - test3.mean()) ** 2)\n",
        "  coef4 = model.fit(fold4.cov(), fold4.mean()).coef_\n",
        "  mse4 = np.mean((np.dot(test4.cov(), coef4) - test4.mean()) ** 2)\n",
        "  coef5 = model.fit(fold5.cov(), fold5.mean()).coef_\n",
        "  mse5 = np.mean((np.dot(test5.cov(), coef5) - test5.mean()) ** 2)\n",
        "  mse[i] = np.mean([mse1, mse2, mse3, mse4, mse5])\n",
        "\n",
        "\n"
      ],
      "execution_count": 26,
      "outputs": [
        {
          "output_type": "stream",
          "text": [
            "The minimum MSE is 96844.382049 at alpha= 286643.845101\n"
          ],
          "name": "stdout"
        }
      ]
    },
    {
      "cell_type": "code",
      "metadata": {
        "colab": {
          "base_uri": "https://localhost:8080/"
        },
        "id": "39qhGYfZ2USW",
        "outputId": "e3858dd2-bdaf-497e-cbc6-0d4848849937"
      },
      "source": [
        "# output results\n",
        "ind = mse.index(min(mse))\n",
        "best_alpha = alphas[ind]\n",
        "print(\"The minimum MSE achieved is {0:2f} at alpha equals to {01:2f}\".format(min(mse),best_alpha))"
      ],
      "execution_count": 29,
      "outputs": [
        {
          "output_type": "stream",
          "text": [
            "The minimum MSE achieved is 96844.382049 at alpha equals to 286643.845101\n"
          ],
          "name": "stdout"
        }
      ]
    },
    {
      "cell_type": "markdown",
      "metadata": {
        "id": "R22MLqXDL4L_"
      },
      "source": [
        "iii) With the final b-vector in hand, calculate the out-of-sample average return, standard\n",
        "deviation, and Sharpe ratio for the corresponding estimated \"ex ante\" MVE portfolio\n",
        "with return b'F_t in the period 2005-2014."
      ]
    },
    {
      "cell_type": "code",
      "metadata": {
        "colab": {
          "base_uri": "https://localhost:8080/"
        },
        "id": "4kFw3SGFj6MU",
        "outputId": "357b31ac-5e2e-4f17-a33c-e988cb7c5f4a"
      },
      "source": [
        "# using best alpha found in the last question do outsample prediction and test\n",
        "model = ElasticNet(alpha=alphas[mse.index(min(mse))], fit_intercept=False,max_iter=1000000)\n",
        "coef_opt = model.fit(y25sample.cov(), y25sample.mean()).coef_\n",
        "\n",
        "pred = np.dot(Factor_outsample,coef_opt)\n",
        "mean_outsample = pred.mean()\n",
        "std_outsample = pred.std()\n",
        "sharpe_ratio_outsample = mean_outsample/std_outsample\n",
        "print(\"Out of Sample Return mean is {:2f}\".format(mean_outsample))\n",
        "print(\"Out of Sample Return standard deviation is {:2f}\".format(std_outsample))\n",
        "print(\"Out of Sample Return sharpe ratio {:2f}\".format(sharpe_ratio_outsample))"
      ],
      "execution_count": 22,
      "outputs": [
        {
          "output_type": "stream",
          "text": [
            "Out of Sample Return mean is 0.422159\n",
            "Out of Sample Return standard deviation is 0.938750\n",
            "Out of Sample Return sharpe ratio 0.449703\n"
          ],
          "name": "stdout"
        }
      ]
    },
    {
      "cell_type": "markdown",
      "metadata": {
        "id": "Mix3_msML8J6"
      },
      "source": [
        "iv) Plot the cumulative return on this portfolio relative to that on the market (get market\n",
        "return using the value-weights in the sample, MEwt) over the 2005-2014 period,\n",
        "where you normalize the \"MVE\" portfolio's standard deviation to be the same as the\n",
        "market over this period. Compare. Note that one should really redo the estimation\n",
        "each year to get proper out of sample results that would mimic what you would do in\n",
        "the real world. Also, you could experiment in the in-sample cross-validation with\n",
        "different values for lambda to see what works best."
      ]
    },
    {
      "cell_type": "code",
      "metadata": {
        "id": "uh3eJiFIMw-j"
      },
      "source": [
        "df_compare = data_raw.loc[data_raw['year']>=2005]\n",
        "df_compare = df_compare.loc[df_compare['year']<=2015]\n",
        "df_compare['ExRet'] = np.exp(data_raw.lnAnnRet)-np.exp(data_raw.lnRf)\n",
        "df_compare = df_compare[['year','ExRet','MEwt']]\n",
        "def dot(col):\n",
        "    return col.T@col.ExRet\n",
        "\n",
        "mkt_rtn = df_compare.groupby('year').apply(dot)[['MEwt']]\n",
        "mkt_rtn.columns = ['Market Return']\n",
        "#normalize return\n",
        "normal_vector = mkt_rtn.std()/std_outsample\n",
        "model_return_norm = pred*normal_vector['Market Return']\n",
        "model_return = pd.DataFrame(model_return_norm,index = range(2005,2015))\n",
        "model_return.columns = ['Model Return']\n",
        "df_plot = model_return.join(mkt_rtn)\n",
        "df_plot['Market Culmulative Return'] = np.cumprod(1 + mkt_rtn)-1\n",
        "df_plot['Model Culmulative Return'] = np.cumprod(1 + model_return)-1"
      ],
      "execution_count": 24,
      "outputs": []
    },
    {
      "cell_type": "code",
      "metadata": {
        "colab": {
          "base_uri": "https://localhost:8080/",
          "height": 265
        },
        "id": "3SuCn-QiWz8l",
        "outputId": "3adb0920-8d00-4e64-eccb-468c50b29fc6"
      },
      "source": [
        "ax = plt.gca()\n",
        "\n",
        "df_plot.plot(kind='line',y='Model Culmulative Return',ax=ax)\n",
        "df_plot.plot(kind='line',y='Market Culmulative Return', color='red', ax=ax)\n",
        "\n",
        "plt.show()"
      ],
      "execution_count": 25,
      "outputs": [
        {
          "output_type": "display_data",
          "data": {
            "image/png": "[encoded data removed]",
            "text/plain": [
              "<Figure size 432x288 with 1 Axes>"
            ]
          },
          "metadata": {
            "tags": [],
            "needs_background": "light"
          }
        }
      ]
    }
  ]
}