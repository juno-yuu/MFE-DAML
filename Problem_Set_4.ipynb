{
  "nbformat": 4,
  "nbformat_minor": 0,
  "metadata": {
    "colab": {
      "name": "Problem Set 4.ipynb",
      "provenance": [],
      "include_colab_link": true
    },
    "kernelspec": {
      "name": "python3",
      "display_name": "Python 3"
    },
    "language_info": {
      "name": "python"
    }
  },
  "cells": [
    {
      "cell_type": "markdown",
      "metadata": {
        "id": "view-in-github",
        "colab_type": "text"
      },
      "source": [
        "<a href=\"https://colab.research.google.com/github/juno-yuu/MFE-DAML/blob/main/Problem_Set_4.ipynb\" target=\"_parent\"><img src=\"https://colab.research.google.com/assets/colab-badge.svg\" alt=\"Open In Colab\"/></a>"
      ]
    },
    {
      "cell_type": "markdown",
      "metadata": {
        "id": "Vx1k1QjkG0VH"
      },
      "source": [
        "## Problem Set 4"
      ]
    },
    {
      "cell_type": "markdown",
      "metadata": {
        "id": "FqgOXc5Q8ULG"
      },
      "source": [
        "### Question 1: Automatic Stock Picking Algorithm\n"
      ]
    },
    {
      "cell_type": "markdown",
      "metadata": {
        "id": "qeo-ZkpP8bGU"
      },
      "source": [
        "a. Download the data. The firm-level characteristics you will use are lnIssue, lnProf,\n",
        "lnInv, and lnME. For each of these four characteristics, create new, additional\n",
        "characteristics as the squared value of the original characteristic. Name the new\n",
        "characteristics the same as the original, but with a \"2\" at the end. For instance, for\n",
        "lnProf, the squared value should be lnProf2. Further, create additional characteristics\n",
        "by multiplying each characteristic with lnME (except for lnME itself, which you already\n",
        "have squared). To name these, add _ME at the end. Thus, lnProf interacted with lnME is\n",
        "named lnProf_ME. You should have now gone from 4 to 11 characteristics."
      ]
    },
    {
      "cell_type": "code",
      "metadata": {
        "id": "b9R94u8lnb0d"
      },
      "source": [
        "import os\n",
        "import pandas  as pd\n",
        "import numpy as np\n",
        "import matplotlib.pyplot as plt\n",
        "import sklearn.metrics as metrics # make sure scikit-learn is installed\n",
        "from sklearn.metrics import mean_squared_error\n",
        "from sklearn.linear_model import ElasticNet\n",
        "import warnings\n",
        "warnings.filterwarnings(action='once')"
      ],
      "execution_count": 576,
      "outputs": []
    },
    {
      "cell_type": "code",
      "metadata": {
        "id": "3tyE3gtbn_5A"
      },
      "source": [
        "from google.colab import drive\n",
        "drive.mount('/content/drive')"
      ],
      "execution_count": null,
      "outputs": []
    },
    {
      "cell_type": "code",
      "metadata": {
        "id": "2X4dwqN0oTFf"
      },
      "source": [
        "#load data\n",
        "data_raw = pd.read_csv(\"/content/drive/MyDrive/MFE 431 DAML /StockRetAcct_DT.csv\")\n",
        "data_raw = data_raw.dropna()\n",
        "data = data_raw[['FirmID','year','lnIssue','lnProf','lnInv','lnME']]\n"
      ],
      "execution_count": 578,
      "outputs": []
    },
    {
      "cell_type": "code",
      "metadata": {
        "id": "uFeCwvNn9Sk7"
      },
      "source": [
        "# creat new,  additional characteristics as the squared value of the original characteristic.\n",
        "data= pd.concat([data,data.iloc[:,2:6].apply(np.square, axis=1).add_suffix('2')],axis=1)\n",
        "# create additional characteristics by multiplying each characteristic with lnME\n",
        "data = pd.concat([data,data.iloc[:,2:5].multiply(data[\"lnME\"], axis=\"index\").add_suffix('_ME')],axis=1) #11 variables included"
      ],
      "execution_count": 579,
      "outputs": []
    },
    {
      "cell_type": "markdown",
      "metadata": {
        "id": "XGO_Ehhi_3vw"
      },
      "source": [
        "(i) For each year in the sample, cross-sectionally demean each of the 11 characteristics.\n",
        "That is, for each characteristic and each year subtract the average value of that\n",
        "characteristic across stocks. Then add as final characteristic a column of 1's to the\n",
        "dataset. This effectively inserts an intercept in the relation between the MVE portfolio\n",
        "weight and the characteristics.\n"
      ]
    },
    {
      "cell_type": "code",
      "metadata": {
        "id": "01SyQmqF_3FN"
      },
      "source": [
        "def demeaned(arr):\n",
        "  return arr- arr.mean()\n",
        "df_demean=data.copy()\n",
        "df_demean = df_demean.groupby('year').transform(demeaned)\n",
        "df_demean[['c']] = 1\n",
        "df_demean[['year']] = data[['year']]\n",
        "#df_demean = df_demean.set_index('year') #inserts an intercept in the relation between the MVE portfolio weight and the characteristics\n",
        "#For matrix multiplication, we drop the last row of the dataframe"
      ],
      "execution_count": 469,
      "outputs": []
    },
    {
      "cell_type": "markdown",
      "metadata": {
        "id": "9sKq0vAOLeQD"
      },
      "source": [
        "Next calculate the factor portfolio returns corresponding to each of these 12\n",
        "characteristics, as explained on slide 48 in the Topic 4 note (F is implicitly defined in\n",
        "the equation there). Note that the factor corresponding to the constant is simply an\n",
        "equal-weighted portfolio of all stocks (the \"market\"). The overall idea is that with this\n",
        "approach you have a market factor and long-short characteristics factors."
      ]
    },
    {
      "cell_type": "markdown",
      "metadata": {
        "id": "lItrVRV8LgZw"
      },
      "source": [
        "\n",
        "\n",
        "*   Here by slides 48, $F$ is defined as $F_{t+1} = \\sum^{N_t}_{i=1}X_{i,t}R^e_{i,t+1}$, where $X_{i,t}$ is 11 characteristcis in this case, $R^e_{i,t+1}$ is the next priod return\n",
        "\n",
        "\n",
        "\n",
        "\n",
        "\n",
        "\n",
        "\n"
      ]
    },
    {
      "cell_type": "code",
      "metadata": {
        "id": "lIHEeK1sNGzP"
      },
      "source": [
        "# create next period excess returns\n",
        "df_demean['ExRet'] = np.exp(data_raw.lnAnnRet)-np.exp(data_raw.lnRf)"
      ],
      "execution_count": 580,
      "outputs": []
    },
    {
      "cell_type": "code",
      "metadata": {
        "id": "5K--QrqfFW3Q"
      },
      "source": [
        "# get sample mean\n",
        "def dot(col):\n",
        "    return col.T@col.ExRet\n",
        "\n",
        "Factor_Return = df_demean.iloc[:,1:].groupby('year').apply(dot)\n",
        "Factor_Return = Factor_Return.drop(['year'], axis = 1)\n",
        "# get variance-covariance matrix\n",
        "cov = pd.DataFrame(np.cov(Factor_Return.T))\n",
        "# get sharpe ratio\n",
        "sharpe_ratio = pd.DataFrame((Factor_Return.apply(np.mean,axis=0))/(np.sqrt(np.diag(cov))))"
      ],
      "execution_count": 581,
      "outputs": []
    },
    {
      "cell_type": "markdown",
      "metadata": {
        "id": "YfQvpouLbdg5"
      },
      "source": [
        "(ii) Next, you are to use the Elastic Net procedure (with alpha (l1_ratio) =0.5) to estimate\n",
        "the b coefficients. We will use the 25 year sample from 1980-2004 for the crossvalidation\n",
        "exercise, and then we will use the 2005-2014 period for the out of sample\n",
        "testing. The sklearn procedure ElasticNet is useful here, but note that you have to code\n",
        "up the cross-validation yourself as the process we need to follow does not correspond\n",
        "to that coded up in ElasticNetCV"
      ]
    },
    {
      "cell_type": "markdown",
      "metadata": {
        "id": "06QnELGyfY4x"
      },
      "source": [
        "First, find sample average factor returns and covariance matrix from\n",
        "1980-1999.\n"
      ]
    },
    {
      "cell_type": "code",
      "metadata": {
        "id": "r0wHynR1H5az"
      },
      "source": [
        "# First subset the data \n",
        "# 1980-2004\n",
        "Factor_insample = Factor_Return[0:25]\n",
        "Factor_outsample = Factor_Return[25:]\n"
      ],
      "execution_count": 472,
      "outputs": []
    },
    {
      "cell_type": "code",
      "metadata": {
        "id": "Yjl4Dh_7ifDQ"
      },
      "source": [
        "# First set alpha\n",
        "alphas = 1/(10**np.linspace(10,-1,50)*0.02)\n",
        "def CV(alphas,cut_point): \n",
        "  train_data = Factor_insample.drop(Factor_insample.index[cut_point:cut_point+5]) #drop 5 years everytime\n",
        "  train_y = train_data.apply(np.mean,axis=0) #mean of remaining data\n",
        "  test_data = Factor_insample.iloc[cut_point:cut_point+5] #dropped data\n",
        "  test_y = test_data.apply(np.mean,axis=0) #mean of dropped data\n",
        "  train_x = np.cov(train_data.T) #get cov\n",
        "  test_x = np.cov(test_data.T)\n",
        "  model = ElasticNet(alpha=alphas, l1_ratio=0.5, fit_intercept=False,max_iter=10^6)\n",
        "  model_fit = model.fit(X=train_x, y=train_y)\n",
        "  coefs_insample = model_fit.coef_\n",
        "  pred_y = np.matmul(test_x,coefs_insample)\n",
        "  mse= np.mean((pred_y-test_y)**2)\n",
        "  return mse \n",
        "\n",
        "mse_mean = np.zeros(len(alphas))\n",
        "for j,a in enumerate(alphas):\n",
        "  mse_each = np.zeros(5)\n",
        "  for i in range(5):\n",
        "    cut_point=[0,5,10,15,20]\n",
        "    mse_each[i] =CV(alphas=a,cut_point=cut_point[i])\n",
        "  mse_mean[j] = mse_each.mean()\n"
      ],
      "execution_count": null,
      "outputs": []
    },
    {
      "cell_type": "markdown",
      "metadata": {
        "id": "R22MLqXDL4L_"
      },
      "source": [
        "iii) With the final b-vector in hand, calculate the out-of-sample average return, standard\n",
        "deviation, and Sharpe ratio for the corresponding estimated \"ex ante\" MVE portfolio\n",
        "with return b'F_t in the period 2005-2014."
      ]
    },
    {
      "cell_type": "code",
      "metadata": {
        "id": "4kFw3SGFj6MU",
        "colab": {
          "base_uri": "https://localhost:8080/"
        },
        "outputId": "28a77d08-167a-46ea-d6e8-717b41809fe2"
      },
      "source": [
        "index = np.argmin(mse_mean)\n",
        "min_alpha = alphas[index] #Find min alpha\n",
        " \n",
        "model_opt = ElasticNet(alpha=min_alpha,l1_ratio=0.5, fit_intercept=False, max_iter=10^7)\n",
        "y = Factor_insample.mean(axis=0)\n",
        "model_opt_fit = model_opt.fit(cov,y)\n",
        "coef_opt = model_opt_fit.coef_\n",
        "pred = np.dot(Factor_outsample,coef_opt)\n",
        "mean_outsample = pred.mean()\n",
        "std_outsample = pred.std()\n",
        "sharpe_ratio_outsample = mean_outsample/std_outsample\n",
        "print(\"Out of Sample Return mean is {:2f}\".format(mean_outsample))\n",
        "print(\"Out of Sample Return standard deviation is {:2f}\".format(std_outsample))\n",
        "print(\"Out of Sample Return sharpe ratio {:2f}\".format(sharpe_ratio_outsample))"
      ],
      "execution_count": 584,
      "outputs": [
        {
          "output_type": "stream",
          "text": [
            "Out of Sample Return mean is 0.894364\n",
            "Out of Sample Return standard deviation is 1.091803\n",
            "Out of Sample Return sharpe ratio 0.819163\n"
          ],
          "name": "stdout"
        },
        {
          "output_type": "stream",
          "text": [
            "/usr/local/lib/python3.7/dist-packages/sklearn/linear_model/_coordinate_descent.py:476: ConvergenceWarning: Objective did not converge. You might want to increase the number of iterations. Duality gap: 8476.249502856324, tolerance: 33.33140238343191\n",
            "  positive)\n"
          ],
          "name": "stderr"
        }
      ]
    },
    {
      "cell_type": "markdown",
      "metadata": {
        "id": "Mix3_msML8J6"
      },
      "source": [
        "iv) Plot the cumulative return on this portfolio relative to that on the market (get market\n",
        "return using the value-weights in the sample, MEwt) over the 2005-2014 period,\n",
        "where you normalize the \"MVE\" portfolio's standard deviation to be the same as the\n",
        "market over this period. Compare. Note that one should really redo the estimation\n",
        "each year to get proper out of sample results that would mimic what you would do in\n",
        "the real world. Also, you could experiment in the in-sample cross-validation with\n",
        "different values for lambda to see what works best."
      ]
    },
    {
      "cell_type": "code",
      "metadata": {
        "id": "uh3eJiFIMw-j"
      },
      "source": [
        "df_compare = data_raw.loc[data_raw['year']>=2005]\n",
        "df_compare = df_compare.loc[df_compare['year']<=2015]\n",
        "df_compare['ExRet'] = np.exp(data_raw.lnAnnRet)-np.exp(data_raw.lnRf)\n",
        "df_compare = df_compare[['year','ExRet','MEwt']]\n",
        "def dot(col):\n",
        "    return col.T@col.ExRet\n",
        "\n",
        "mkt_rtn = df_compare.groupby('year').apply(dot)[['MEwt']]\n",
        "mkt_rtn.columns = ['Market Return']\n",
        "#normalize return\n",
        "normal_vector = mkt_rtn.std()/std_outsample\n",
        "model_return_norm = pred*normal_vector['Market Return']\n",
        "model_return = pd.DataFrame(model_return_norm,index = range(2005,2015))\n",
        "model_return.columns = ['Model Return']\n",
        "df_plot = model_return.join(mkt_rtn)\n",
        "df_plot['Market Culmulative Return'] = np.cumprod(1 + mkt_rtn)-1\n",
        "df_plot['Model Culmulative Return'] = np.cumprod(1 + model_return)-1"
      ],
      "execution_count": 585,
      "outputs": []
    },
    {
      "cell_type": "code",
      "metadata": {
        "colab": {
          "base_uri": "https://localhost:8080/",
          "height": 265
        },
        "id": "3SuCn-QiWz8l",
        "outputId": "4e2d8ed7-8041-4a32-dbd2-17f3f4e43279"
      },
      "source": [
        "ax = plt.gca()\n",
        "\n",
        "df_plot.plot(kind='line',y='Model Culmulative Return',ax=ax)\n",
        "df_plot.plot(kind='line',y='Market Culmulative Return', color='red', ax=ax)\n",
        "\n",
        "plt.show()"
      ],
      "execution_count": 586,
      "outputs": [
        {
          "output_type": "display_data",
          "data": {
            "image/png": "[encoded data removed]",
            "text/plain": [
              "<Figure size 432x288 with 1 Axes>"
            ]
          },
          "metadata": {
            "tags": [],
            "needs_background": "light"
          }
        }
      ]
    }
  ]
}