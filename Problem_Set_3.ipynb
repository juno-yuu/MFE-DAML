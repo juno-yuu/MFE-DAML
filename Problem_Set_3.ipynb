{
  "nbformat": 4,
  "nbformat_minor": 0,
  "metadata": {
    "colab": {
      "name": "Problem Set 3.ipynb",
      "provenance": [],
      "toc_visible": true,
      "authorship_tag": "ABX9TyMiiIy3VPvWWSOVi4gDi6E0",
      "include_colab_link": true
    },
    "kernelspec": {
      "name": "python3",
      "display_name": "Python 3"
    },
    "language_info": {
      "name": "python"
    }
  },
  "cells": [
    {
      "cell_type": "markdown",
      "metadata": {
        "id": "view-in-github",
        "colab_type": "text"
      },
      "source": [
        "<a href=\"https://colab.research.google.com/github/juno-yuu/MFE-DAML/blob/main/Problem_Set_3.ipynb\" target=\"_parent\"><img src=\"https://colab.research.google.com/assets/colab-badge.svg\" alt=\"Open In Colab\"/></a>"
      ]
    },
    {
      "cell_type": "markdown",
      "metadata": {
        "id": "6XFsUtYhevS4"
      },
      "source": [
        "## Problem Set 3"
      ]
    },
    {
      "cell_type": "markdown",
      "metadata": {
        "id": "K9tXp5SBgJgw"
      },
      "source": [
        "### Question 1: Predicting default\n",
        "\n"
      ]
    },
    {
      "cell_type": "markdown",
      "metadata": {
        "id": "fioN3GVJoud8"
      },
      "source": [
        "#### a. We will use the column \"loan_status\" as the indicator for whether the loan was paid or there was a default.\n",
        "i) Drop all rows where \"loan_status\" is not equal to either \"Fully Paid\" or \"Charged Off.\" Define the new variable Default as 1 (or TRUE) if \"loan_status\" is equal to \"Charged Off\", and 0 (or FALSE) otherwise."
      ]
    },
    {
      "cell_type": "code",
      "metadata": {
        "colab": {
          "base_uri": "https://localhost:8080/"
        },
        "id": "Wa-s3O2sgeOg",
        "outputId": "364b9369-0209-4eae-e9bf-94f8a317b9da"
      },
      "source": [
        "import os\n",
        "import pandas  as pd\n",
        "import seaborn as sns\n",
        "import numpy   as np\n",
        "import matplotlib.pyplot       as plt\n",
        "import statsmodels.api as sm\n",
        "from statsmodels.discrete.discrete_model import Logit\n",
        "from scipy.optimize import minimize\n",
        "from matplotlib import cm\n",
        "import statsmodels.api as sm\n",
        "from patsy import dmatrices\n",
        "from scipy.stats import chi2\n",
        "from sklearn.metrics import roc_curve, auc\n",
        "import pylab as pl\n",
        "from prettytable import PrettyTable"
      ],
      "execution_count": 1,
      "outputs": [
        {
          "output_type": "stream",
          "text": [
            "/usr/local/lib/python3.7/dist-packages/statsmodels/tools/_testing.py:19: FutureWarning: pandas.util.testing is deprecated. Use the functions in the public API at pandas.testing instead.\n",
            "  import pandas.util.testing as tm\n"
          ],
          "name": "stderr"
        }
      ]
    },
    {
      "cell_type": "code",
      "metadata": {
        "colab": {
          "base_uri": "https://localhost:8080/"
        },
        "id": "V9uEMHwnkFNY",
        "outputId": "7a4cb42a-b4e6-49e8-a22c-4912df39a435"
      },
      "source": [
        "# mount your Google Drive so you can locate your data files.\n",
        "from google.colab import drive\n",
        "drive.mount('/content/drive')#@title"
      ],
      "execution_count": 2,
      "outputs": [
        {
          "output_type": "stream",
          "text": [
            "Mounted at /content/drive\n"
          ],
          "name": "stdout"
        }
      ]
    },
    {
      "cell_type": "code",
      "metadata": {
        "colab": {
          "base_uri": "https://localhost:8080/",
          "height": 428
        },
        "id": "2TqS7YkEkWm-",
        "outputId": "7269b786-d189-47e6-a96c-eda9cda74e14"
      },
      "source": [
        "#load data\n",
        "df = pd.read_csv(\"/content/LendingClub_LoanStats3a_v12.csv\")\n",
        "#select rows of Fully Paid and Charged off\n",
        "df = df[(df['loan_status'] == \"Fully Paid\") | (df['loan_status'] == \"Charged Off\")]\n",
        "df.head()"
      ],
      "execution_count": 4,
      "outputs": [
        {
          "output_type": "stream",
          "text": [
            "/usr/local/lib/python3.7/dist-packages/IPython/core/interactiveshell.py:2718: DtypeWarning: Columns (21,24,29,31) have mixed types.Specify dtype option on import or set low_memory=False.\n",
            "  interactivity=interactivity, compiler=compiler, result=result)\n"
          ],
          "name": "stderr"
        },
        {
          "output_type": "execute_result",
          "data": {
            "text/html": [
              "<div>\n",
              "<style scoped>\n",
              "    .dataframe tbody tr th:only-of-type {\n",
              "        vertical-align: middle;\n",
              "    }\n",
              "\n",
              "    .dataframe tbody tr th {\n",
              "        vertical-align: top;\n",
              "    }\n",
              "\n",
              "    .dataframe thead th {\n",
              "        text-align: right;\n",
              "    }\n",
              "</style>\n",
              "<table border=\"1\" class=\"dataframe\">\n",
              "  <thead>\n",
              "    <tr style=\"text-align: right;\">\n",
              "      <th></th>\n",
              "      <th>id</th>\n",
              "      <th>member_id</th>\n",
              "      <th>loan_amnt</th>\n",
              "      <th>funded_amnt</th>\n",
              "      <th>funded_amnt_inv</th>\n",
              "      <th>term</th>\n",
              "      <th>int_rate</th>\n",
              "      <th>installment</th>\n",
              "      <th>grade</th>\n",
              "      <th>sub_grade</th>\n",
              "      <th>emp_length</th>\n",
              "      <th>home_ownership</th>\n",
              "      <th>annual_inc</th>\n",
              "      <th>verification_status</th>\n",
              "      <th>issue_d</th>\n",
              "      <th>loan_status</th>\n",
              "      <th>pymnt_plan</th>\n",
              "      <th>purpose</th>\n",
              "      <th>title</th>\n",
              "      <th>zip_code</th>\n",
              "      <th>addr_state</th>\n",
              "      <th>dti</th>\n",
              "      <th>delinq_2yrs</th>\n",
              "      <th>earliest_cr_line</th>\n",
              "      <th>inq_last_6mths</th>\n",
              "      <th>open_acc</th>\n",
              "      <th>pub_rec</th>\n",
              "      <th>revol_bal</th>\n",
              "      <th>revol_util</th>\n",
              "      <th>total_acc</th>\n",
              "      <th>initial_list_status</th>\n",
              "      <th>out_prncp</th>\n",
              "      <th>out_prncp_inv</th>\n",
              "      <th>total_pymnt</th>\n",
              "      <th>total_pymnt_inv</th>\n",
              "      <th>total_rec_prncp</th>\n",
              "      <th>total_rec_int</th>\n",
              "      <th>total_rec_late_fee</th>\n",
              "      <th>recoveries</th>\n",
              "      <th>collection_recovery_fee</th>\n",
              "    </tr>\n",
              "  </thead>\n",
              "  <tbody>\n",
              "    <tr>\n",
              "      <th>0</th>\n",
              "      <td>1077501</td>\n",
              "      <td>1296599</td>\n",
              "      <td>5000</td>\n",
              "      <td>5000</td>\n",
              "      <td>4975.0</td>\n",
              "      <td>36 months</td>\n",
              "      <td>0.1065</td>\n",
              "      <td>162.870000</td>\n",
              "      <td>B</td>\n",
              "      <td>B2</td>\n",
              "      <td>10+ years</td>\n",
              "      <td>RENT</td>\n",
              "      <td>24000.0</td>\n",
              "      <td>Verified</td>\n",
              "      <td>Dec-11</td>\n",
              "      <td>Fully Paid</td>\n",
              "      <td>n</td>\n",
              "      <td>credit_card</td>\n",
              "      <td>Computer</td>\n",
              "      <td>860xx</td>\n",
              "      <td>AZ</td>\n",
              "      <td>27.65</td>\n",
              "      <td>0.0</td>\n",
              "      <td>Jan-85</td>\n",
              "      <td>1</td>\n",
              "      <td>3</td>\n",
              "      <td>0</td>\n",
              "      <td>13648</td>\n",
              "      <td>83.70%</td>\n",
              "      <td>9</td>\n",
              "      <td>f</td>\n",
              "      <td>0</td>\n",
              "      <td>0.0</td>\n",
              "      <td>5863.1553</td>\n",
              "      <td>5833.8398</td>\n",
              "      <td>5000.00000</td>\n",
              "      <td>863.15997</td>\n",
              "      <td>0.000000</td>\n",
              "      <td>0.0</td>\n",
              "      <td>0.00</td>\n",
              "    </tr>\n",
              "    <tr>\n",
              "      <th>1</th>\n",
              "      <td>1077430</td>\n",
              "      <td>1314167</td>\n",
              "      <td>2500</td>\n",
              "      <td>2500</td>\n",
              "      <td>2500.0</td>\n",
              "      <td>60 months</td>\n",
              "      <td>0.1527</td>\n",
              "      <td>59.830002</td>\n",
              "      <td>C</td>\n",
              "      <td>C4</td>\n",
              "      <td>&lt; 1 year</td>\n",
              "      <td>RENT</td>\n",
              "      <td>30000.0</td>\n",
              "      <td>Source Verified</td>\n",
              "      <td>Dec-11</td>\n",
              "      <td>Charged Off</td>\n",
              "      <td>n</td>\n",
              "      <td>car</td>\n",
              "      <td>bike</td>\n",
              "      <td>309xx</td>\n",
              "      <td>GA</td>\n",
              "      <td>1</td>\n",
              "      <td>0.0</td>\n",
              "      <td>Apr-99</td>\n",
              "      <td>5</td>\n",
              "      <td>3</td>\n",
              "      <td>0</td>\n",
              "      <td>1687</td>\n",
              "      <td>9.40%</td>\n",
              "      <td>4</td>\n",
              "      <td>f</td>\n",
              "      <td>0</td>\n",
              "      <td>0.0</td>\n",
              "      <td>1014.5300</td>\n",
              "      <td>1014.5300</td>\n",
              "      <td>456.45999</td>\n",
              "      <td>435.17001</td>\n",
              "      <td>0.000000</td>\n",
              "      <td>122.9</td>\n",
              "      <td>1.11</td>\n",
              "    </tr>\n",
              "    <tr>\n",
              "      <th>2</th>\n",
              "      <td>1077175</td>\n",
              "      <td>1313524</td>\n",
              "      <td>2400</td>\n",
              "      <td>2400</td>\n",
              "      <td>2400.0</td>\n",
              "      <td>36 months</td>\n",
              "      <td>0.1596</td>\n",
              "      <td>84.330002</td>\n",
              "      <td>C</td>\n",
              "      <td>C5</td>\n",
              "      <td>10+ years</td>\n",
              "      <td>RENT</td>\n",
              "      <td>12252.0</td>\n",
              "      <td>Not Verified</td>\n",
              "      <td>Dec-11</td>\n",
              "      <td>Fully Paid</td>\n",
              "      <td>n</td>\n",
              "      <td>small_business</td>\n",
              "      <td>real estate business</td>\n",
              "      <td>606xx</td>\n",
              "      <td>IL</td>\n",
              "      <td>8.72</td>\n",
              "      <td>0.0</td>\n",
              "      <td>Nov-01</td>\n",
              "      <td>2</td>\n",
              "      <td>2</td>\n",
              "      <td>0</td>\n",
              "      <td>2956</td>\n",
              "      <td>98.50%</td>\n",
              "      <td>10</td>\n",
              "      <td>f</td>\n",
              "      <td>0</td>\n",
              "      <td>0.0</td>\n",
              "      <td>3005.6667</td>\n",
              "      <td>3005.6699</td>\n",
              "      <td>2400.00000</td>\n",
              "      <td>605.66998</td>\n",
              "      <td>0.000000</td>\n",
              "      <td>0.0</td>\n",
              "      <td>0.00</td>\n",
              "    </tr>\n",
              "    <tr>\n",
              "      <th>3</th>\n",
              "      <td>1076863</td>\n",
              "      <td>1277178</td>\n",
              "      <td>10000</td>\n",
              "      <td>10000</td>\n",
              "      <td>10000.0</td>\n",
              "      <td>36 months</td>\n",
              "      <td>0.1349</td>\n",
              "      <td>339.310000</td>\n",
              "      <td>C</td>\n",
              "      <td>C1</td>\n",
              "      <td>10+ years</td>\n",
              "      <td>RENT</td>\n",
              "      <td>49200.0</td>\n",
              "      <td>Source Verified</td>\n",
              "      <td>Dec-11</td>\n",
              "      <td>Fully Paid</td>\n",
              "      <td>n</td>\n",
              "      <td>other</td>\n",
              "      <td>personel</td>\n",
              "      <td>917xx</td>\n",
              "      <td>CA</td>\n",
              "      <td>20</td>\n",
              "      <td>0.0</td>\n",
              "      <td>Feb-96</td>\n",
              "      <td>1</td>\n",
              "      <td>10</td>\n",
              "      <td>0</td>\n",
              "      <td>5598</td>\n",
              "      <td>21%</td>\n",
              "      <td>37</td>\n",
              "      <td>f</td>\n",
              "      <td>0</td>\n",
              "      <td>0.0</td>\n",
              "      <td>12231.8900</td>\n",
              "      <td>12231.8900</td>\n",
              "      <td>10000.00000</td>\n",
              "      <td>2214.91990</td>\n",
              "      <td>16.969999</td>\n",
              "      <td>0.0</td>\n",
              "      <td>0.00</td>\n",
              "    </tr>\n",
              "    <tr>\n",
              "      <th>5</th>\n",
              "      <td>1075269</td>\n",
              "      <td>1311441</td>\n",
              "      <td>5000</td>\n",
              "      <td>5000</td>\n",
              "      <td>5000.0</td>\n",
              "      <td>36 months</td>\n",
              "      <td>0.0790</td>\n",
              "      <td>156.460010</td>\n",
              "      <td>A</td>\n",
              "      <td>A4</td>\n",
              "      <td>3 years</td>\n",
              "      <td>RENT</td>\n",
              "      <td>36000.0</td>\n",
              "      <td>Source Verified</td>\n",
              "      <td>Dec-11</td>\n",
              "      <td>Fully Paid</td>\n",
              "      <td>n</td>\n",
              "      <td>wedding</td>\n",
              "      <td>My wedding loan I promise to pay back</td>\n",
              "      <td>852xx</td>\n",
              "      <td>AZ</td>\n",
              "      <td>11.2</td>\n",
              "      <td>0.0</td>\n",
              "      <td>Nov-04</td>\n",
              "      <td>3</td>\n",
              "      <td>9</td>\n",
              "      <td>0</td>\n",
              "      <td>7963</td>\n",
              "      <td>28.30%</td>\n",
              "      <td>12</td>\n",
              "      <td>f</td>\n",
              "      <td>0</td>\n",
              "      <td>0.0</td>\n",
              "      <td>5632.2100</td>\n",
              "      <td>5632.2100</td>\n",
              "      <td>5000.00000</td>\n",
              "      <td>632.21002</td>\n",
              "      <td>0.000000</td>\n",
              "      <td>0.0</td>\n",
              "      <td>0.00</td>\n",
              "    </tr>\n",
              "  </tbody>\n",
              "</table>\n",
              "</div>"
            ],
            "text/plain": [
              "        id  member_id  ...  recoveries  collection_recovery_fee\n",
              "0  1077501    1296599  ...         0.0                     0.00\n",
              "1  1077430    1314167  ...       122.9                     1.11\n",
              "2  1077175    1313524  ...         0.0                     0.00\n",
              "3  1076863    1277178  ...         0.0                     0.00\n",
              "5  1075269    1311441  ...         0.0                     0.00\n",
              "\n",
              "[5 rows x 40 columns]"
            ]
          },
          "metadata": {
            "tags": []
          },
          "execution_count": 4
        }
      ]
    },
    {
      "cell_type": "code",
      "metadata": {
        "colab": {
          "base_uri": "https://localhost:8080/",
          "height": 394
        },
        "id": "wRUb0bgXmiF0",
        "outputId": "c27ffec9-b730-4b61-be46-0d3bd04bc9b1"
      },
      "source": [
        "# Create a new varaible\n",
        "def conditions(x):\n",
        "  if x == 'Charged Off':\n",
        "    return 1\n",
        "  else:\n",
        "    return 0\n",
        "\n",
        "func = np.vectorize(conditions)\n",
        "#define a new variable Default\n",
        "df['Default']=func(df['loan_status']) # transform to dummy variables \n",
        "df.head()"
      ],
      "execution_count": 5,
      "outputs": [
        {
          "output_type": "execute_result",
          "data": {
            "text/html": [
              "<div>\n",
              "<style scoped>\n",
              "    .dataframe tbody tr th:only-of-type {\n",
              "        vertical-align: middle;\n",
              "    }\n",
              "\n",
              "    .dataframe tbody tr th {\n",
              "        vertical-align: top;\n",
              "    }\n",
              "\n",
              "    .dataframe thead th {\n",
              "        text-align: right;\n",
              "    }\n",
              "</style>\n",
              "<table border=\"1\" class=\"dataframe\">\n",
              "  <thead>\n",
              "    <tr style=\"text-align: right;\">\n",
              "      <th></th>\n",
              "      <th>id</th>\n",
              "      <th>member_id</th>\n",
              "      <th>loan_amnt</th>\n",
              "      <th>funded_amnt</th>\n",
              "      <th>funded_amnt_inv</th>\n",
              "      <th>term</th>\n",
              "      <th>int_rate</th>\n",
              "      <th>installment</th>\n",
              "      <th>grade</th>\n",
              "      <th>sub_grade</th>\n",
              "      <th>emp_length</th>\n",
              "      <th>home_ownership</th>\n",
              "      <th>annual_inc</th>\n",
              "      <th>verification_status</th>\n",
              "      <th>issue_d</th>\n",
              "      <th>loan_status</th>\n",
              "      <th>pymnt_plan</th>\n",
              "      <th>purpose</th>\n",
              "      <th>title</th>\n",
              "      <th>zip_code</th>\n",
              "      <th>addr_state</th>\n",
              "      <th>dti</th>\n",
              "      <th>delinq_2yrs</th>\n",
              "      <th>earliest_cr_line</th>\n",
              "      <th>inq_last_6mths</th>\n",
              "      <th>open_acc</th>\n",
              "      <th>pub_rec</th>\n",
              "      <th>revol_bal</th>\n",
              "      <th>revol_util</th>\n",
              "      <th>total_acc</th>\n",
              "      <th>initial_list_status</th>\n",
              "      <th>out_prncp</th>\n",
              "      <th>out_prncp_inv</th>\n",
              "      <th>total_pymnt</th>\n",
              "      <th>total_pymnt_inv</th>\n",
              "      <th>total_rec_prncp</th>\n",
              "      <th>total_rec_int</th>\n",
              "      <th>total_rec_late_fee</th>\n",
              "      <th>recoveries</th>\n",
              "      <th>collection_recovery_fee</th>\n",
              "      <th>Default</th>\n",
              "    </tr>\n",
              "  </thead>\n",
              "  <tbody>\n",
              "    <tr>\n",
              "      <th>0</th>\n",
              "      <td>1077501</td>\n",
              "      <td>1296599</td>\n",
              "      <td>5000</td>\n",
              "      <td>5000</td>\n",
              "      <td>4975.0</td>\n",
              "      <td>36 months</td>\n",
              "      <td>0.1065</td>\n",
              "      <td>162.870000</td>\n",
              "      <td>B</td>\n",
              "      <td>B2</td>\n",
              "      <td>10+ years</td>\n",
              "      <td>RENT</td>\n",
              "      <td>24000.0</td>\n",
              "      <td>Verified</td>\n",
              "      <td>Dec-11</td>\n",
              "      <td>Fully Paid</td>\n",
              "      <td>n</td>\n",
              "      <td>credit_card</td>\n",
              "      <td>Computer</td>\n",
              "      <td>860xx</td>\n",
              "      <td>AZ</td>\n",
              "      <td>27.65</td>\n",
              "      <td>0.0</td>\n",
              "      <td>Jan-85</td>\n",
              "      <td>1</td>\n",
              "      <td>3</td>\n",
              "      <td>0</td>\n",
              "      <td>13648</td>\n",
              "      <td>83.70%</td>\n",
              "      <td>9</td>\n",
              "      <td>f</td>\n",
              "      <td>0</td>\n",
              "      <td>0.0</td>\n",
              "      <td>5863.1553</td>\n",
              "      <td>5833.8398</td>\n",
              "      <td>5000.00000</td>\n",
              "      <td>863.15997</td>\n",
              "      <td>0.000000</td>\n",
              "      <td>0.0</td>\n",
              "      <td>0.00</td>\n",
              "      <td>0</td>\n",
              "    </tr>\n",
              "    <tr>\n",
              "      <th>1</th>\n",
              "      <td>1077430</td>\n",
              "      <td>1314167</td>\n",
              "      <td>2500</td>\n",
              "      <td>2500</td>\n",
              "      <td>2500.0</td>\n",
              "      <td>60 months</td>\n",
              "      <td>0.1527</td>\n",
              "      <td>59.830002</td>\n",
              "      <td>C</td>\n",
              "      <td>C4</td>\n",
              "      <td>&lt; 1 year</td>\n",
              "      <td>RENT</td>\n",
              "      <td>30000.0</td>\n",
              "      <td>Source Verified</td>\n",
              "      <td>Dec-11</td>\n",
              "      <td>Charged Off</td>\n",
              "      <td>n</td>\n",
              "      <td>car</td>\n",
              "      <td>bike</td>\n",
              "      <td>309xx</td>\n",
              "      <td>GA</td>\n",
              "      <td>1</td>\n",
              "      <td>0.0</td>\n",
              "      <td>Apr-99</td>\n",
              "      <td>5</td>\n",
              "      <td>3</td>\n",
              "      <td>0</td>\n",
              "      <td>1687</td>\n",
              "      <td>9.40%</td>\n",
              "      <td>4</td>\n",
              "      <td>f</td>\n",
              "      <td>0</td>\n",
              "      <td>0.0</td>\n",
              "      <td>1014.5300</td>\n",
              "      <td>1014.5300</td>\n",
              "      <td>456.45999</td>\n",
              "      <td>435.17001</td>\n",
              "      <td>0.000000</td>\n",
              "      <td>122.9</td>\n",
              "      <td>1.11</td>\n",
              "      <td>1</td>\n",
              "    </tr>\n",
              "    <tr>\n",
              "      <th>2</th>\n",
              "      <td>1077175</td>\n",
              "      <td>1313524</td>\n",
              "      <td>2400</td>\n",
              "      <td>2400</td>\n",
              "      <td>2400.0</td>\n",
              "      <td>36 months</td>\n",
              "      <td>0.1596</td>\n",
              "      <td>84.330002</td>\n",
              "      <td>C</td>\n",
              "      <td>C5</td>\n",
              "      <td>10+ years</td>\n",
              "      <td>RENT</td>\n",
              "      <td>12252.0</td>\n",
              "      <td>Not Verified</td>\n",
              "      <td>Dec-11</td>\n",
              "      <td>Fully Paid</td>\n",
              "      <td>n</td>\n",
              "      <td>small_business</td>\n",
              "      <td>real estate business</td>\n",
              "      <td>606xx</td>\n",
              "      <td>IL</td>\n",
              "      <td>8.72</td>\n",
              "      <td>0.0</td>\n",
              "      <td>Nov-01</td>\n",
              "      <td>2</td>\n",
              "      <td>2</td>\n",
              "      <td>0</td>\n",
              "      <td>2956</td>\n",
              "      <td>98.50%</td>\n",
              "      <td>10</td>\n",
              "      <td>f</td>\n",
              "      <td>0</td>\n",
              "      <td>0.0</td>\n",
              "      <td>3005.6667</td>\n",
              "      <td>3005.6699</td>\n",
              "      <td>2400.00000</td>\n",
              "      <td>605.66998</td>\n",
              "      <td>0.000000</td>\n",
              "      <td>0.0</td>\n",
              "      <td>0.00</td>\n",
              "      <td>0</td>\n",
              "    </tr>\n",
              "    <tr>\n",
              "      <th>3</th>\n",
              "      <td>1076863</td>\n",
              "      <td>1277178</td>\n",
              "      <td>10000</td>\n",
              "      <td>10000</td>\n",
              "      <td>10000.0</td>\n",
              "      <td>36 months</td>\n",
              "      <td>0.1349</td>\n",
              "      <td>339.310000</td>\n",
              "      <td>C</td>\n",
              "      <td>C1</td>\n",
              "      <td>10+ years</td>\n",
              "      <td>RENT</td>\n",
              "      <td>49200.0</td>\n",
              "      <td>Source Verified</td>\n",
              "      <td>Dec-11</td>\n",
              "      <td>Fully Paid</td>\n",
              "      <td>n</td>\n",
              "      <td>other</td>\n",
              "      <td>personel</td>\n",
              "      <td>917xx</td>\n",
              "      <td>CA</td>\n",
              "      <td>20</td>\n",
              "      <td>0.0</td>\n",
              "      <td>Feb-96</td>\n",
              "      <td>1</td>\n",
              "      <td>10</td>\n",
              "      <td>0</td>\n",
              "      <td>5598</td>\n",
              "      <td>21%</td>\n",
              "      <td>37</td>\n",
              "      <td>f</td>\n",
              "      <td>0</td>\n",
              "      <td>0.0</td>\n",
              "      <td>12231.8900</td>\n",
              "      <td>12231.8900</td>\n",
              "      <td>10000.00000</td>\n",
              "      <td>2214.91990</td>\n",
              "      <td>16.969999</td>\n",
              "      <td>0.0</td>\n",
              "      <td>0.00</td>\n",
              "      <td>0</td>\n",
              "    </tr>\n",
              "    <tr>\n",
              "      <th>5</th>\n",
              "      <td>1075269</td>\n",
              "      <td>1311441</td>\n",
              "      <td>5000</td>\n",
              "      <td>5000</td>\n",
              "      <td>5000.0</td>\n",
              "      <td>36 months</td>\n",
              "      <td>0.0790</td>\n",
              "      <td>156.460010</td>\n",
              "      <td>A</td>\n",
              "      <td>A4</td>\n",
              "      <td>3 years</td>\n",
              "      <td>RENT</td>\n",
              "      <td>36000.0</td>\n",
              "      <td>Source Verified</td>\n",
              "      <td>Dec-11</td>\n",
              "      <td>Fully Paid</td>\n",
              "      <td>n</td>\n",
              "      <td>wedding</td>\n",
              "      <td>My wedding loan I promise to pay back</td>\n",
              "      <td>852xx</td>\n",
              "      <td>AZ</td>\n",
              "      <td>11.2</td>\n",
              "      <td>0.0</td>\n",
              "      <td>Nov-04</td>\n",
              "      <td>3</td>\n",
              "      <td>9</td>\n",
              "      <td>0</td>\n",
              "      <td>7963</td>\n",
              "      <td>28.30%</td>\n",
              "      <td>12</td>\n",
              "      <td>f</td>\n",
              "      <td>0</td>\n",
              "      <td>0.0</td>\n",
              "      <td>5632.2100</td>\n",
              "      <td>5632.2100</td>\n",
              "      <td>5000.00000</td>\n",
              "      <td>632.21002</td>\n",
              "      <td>0.000000</td>\n",
              "      <td>0.0</td>\n",
              "      <td>0.00</td>\n",
              "      <td>0</td>\n",
              "    </tr>\n",
              "  </tbody>\n",
              "</table>\n",
              "</div>"
            ],
            "text/plain": [
              "        id  member_id  loan_amnt  ...  recoveries  collection_recovery_fee Default\n",
              "0  1077501    1296599       5000  ...         0.0                     0.00       0\n",
              "1  1077430    1314167       2500  ...       122.9                     1.11       1\n",
              "2  1077175    1313524       2400  ...         0.0                     0.00       0\n",
              "3  1076863    1277178      10000  ...         0.0                     0.00       0\n",
              "5  1075269    1311441       5000  ...         0.0                     0.00       0\n",
              "\n",
              "[5 rows x 41 columns]"
            ]
          },
          "metadata": {
            "tags": []
          },
          "execution_count": 5
        }
      ]
    },
    {
      "cell_type": "markdown",
      "metadata": {
        "id": "swsj-RpanB9q"
      },
      "source": [
        "(ii) Report the average default rate in the sample (number of defaults divided by total number of loans)"
      ]
    },
    {
      "cell_type": "code",
      "metadata": {
        "colab": {
          "base_uri": "https://localhost:8080/"
        },
        "id": "xQBg2XZNnGlx",
        "outputId": "222b4b9f-9741-4ab2-c17c-a302a1109598"
      },
      "source": [
        "# number of default\n",
        "default_num = np.sum(df['Default'])\n",
        "#get total number of loans\n",
        "#[Note to myself]: total_rows = len(df.axes[0])\n",
        "#          total_cols = len(df.axes[1])\n",
        "loan_num = len(df.axes[0])\n",
        "#average default rate\n",
        "default_rate = default_num/(loan_num)\n",
        "print(\"The average default rate in the sample is {:.4%}\".format(default_rate))\n"
      ],
      "execution_count": 6,
      "outputs": [
        {
          "output_type": "stream",
          "text": [
            "The average default rate in the sample is 14.3535%\n"
          ],
          "name": "stdout"
        }
      ]
    },
    {
      "cell_type": "markdown",
      "metadata": {
        "id": "NYlDzD7Jon1m"
      },
      "source": [
        "#### b. LendingClub gives a \"grade\" to each borrower, designed as a score of each borrowers creditworthiness. The best grade is \"A\", the worst grade is \"G\".\n",
        "i) Run a logistic regression of the Default variable on the grade. Report and explain the regression output. I.e., what is the interpretation of the coefficients? Do the numbers 'make sense'."
      ]
    },
    {
      "cell_type": "code",
      "metadata": {
        "colab": {
          "base_uri": "https://localhost:8080/",
          "height": 395
        },
        "id": "TiVlLaA2pMKz",
        "outputId": "34d0fa80-3983-48bd-e62b-9885e5d32d05"
      },
      "source": [
        "df['c'] = 1\n",
        "y,Xf = dmatrices('Default ~ C(grade)',df,return_type = 'dataframe')\n",
        "logit_grade = sm.GLM(y,Xf,family=sm.families.Binomial()).fit()\n",
        "logit_grade.summary()\n"
      ],
      "execution_count": 7,
      "outputs": [
        {
          "output_type": "execute_result",
          "data": {
            "text/html": [
              "<table class=\"simpletable\">\n",
              "<caption>Generalized Linear Model Regression Results</caption>\n",
              "<tr>\n",
              "  <th>Dep. Variable:</th>        <td>Default</td>     <th>  No. Observations:  </th>  <td> 39412</td> \n",
              "</tr>\n",
              "<tr>\n",
              "  <th>Model:</th>                  <td>GLM</td>       <th>  Df Residuals:      </th>  <td> 39405</td> \n",
              "</tr>\n",
              "<tr>\n",
              "  <th>Model Family:</th>        <td>Binomial</td>     <th>  Df Model:          </th>  <td>     6</td> \n",
              "</tr>\n",
              "<tr>\n",
              "  <th>Link Function:</th>         <td>logit</td>      <th>  Scale:             </th> <td>  1.0000</td>\n",
              "</tr>\n",
              "<tr>\n",
              "  <th>Method:</th>                <td>IRLS</td>       <th>  Log-Likelihood:    </th> <td> -15457.</td>\n",
              "</tr>\n",
              "<tr>\n",
              "  <th>Date:</th>            <td>Thu, 15 Apr 2021</td> <th>  Deviance:          </th> <td>  30914.</td>\n",
              "</tr>\n",
              "<tr>\n",
              "  <th>Time:</th>                <td>21:29:19</td>     <th>  Pearson chi2:      </th> <td>3.94e+04</td>\n",
              "</tr>\n",
              "<tr>\n",
              "  <th>No. Iterations:</th>          <td>6</td>        <th>                     </th>     <td> </td>   \n",
              "</tr>\n",
              "<tr>\n",
              "  <th>Covariance Type:</th>     <td>nonrobust</td>    <th>                     </th>     <td> </td>   \n",
              "</tr>\n",
              "</table>\n",
              "<table class=\"simpletable\">\n",
              "<tr>\n",
              "        <td></td>           <th>coef</th>     <th>std err</th>      <th>z</th>      <th>P>|z|</th>  <th>[0.025</th>    <th>0.975]</th>  \n",
              "</tr>\n",
              "<tr>\n",
              "  <th>Intercept</th>     <td>   -2.7554</td> <td>    0.042</td> <td>  -65.554</td> <td> 0.000</td> <td>   -2.838</td> <td>   -2.673</td>\n",
              "</tr>\n",
              "<tr>\n",
              "  <th>C(grade)[T.B]</th> <td>    0.7614</td> <td>    0.051</td> <td>   15.045</td> <td> 0.000</td> <td>    0.662</td> <td>    0.861</td>\n",
              "</tr>\n",
              "<tr>\n",
              "  <th>C(grade)[T.C]</th> <td>    1.1597</td> <td>    0.052</td> <td>   22.503</td> <td> 0.000</td> <td>    1.059</td> <td>    1.261</td>\n",
              "</tr>\n",
              "<tr>\n",
              "  <th>C(grade)[T.D]</th> <td>    1.4600</td> <td>    0.054</td> <td>   27.130</td> <td> 0.000</td> <td>    1.355</td> <td>    1.565</td>\n",
              "</tr>\n",
              "<tr>\n",
              "  <th>C(grade)[T.E]</th> <td>    1.6983</td> <td>    0.060</td> <td>   28.167</td> <td> 0.000</td> <td>    1.580</td> <td>    1.817</td>\n",
              "</tr>\n",
              "<tr>\n",
              "  <th>C(grade)[T.F]</th> <td>    1.9732</td> <td>    0.079</td> <td>   24.874</td> <td> 0.000</td> <td>    1.818</td> <td>    2.129</td>\n",
              "</tr>\n",
              "<tr>\n",
              "  <th>C(grade)[T.G]</th> <td>    2.0139</td> <td>    0.128</td> <td>   15.734</td> <td> 0.000</td> <td>    1.763</td> <td>    2.265</td>\n",
              "</tr>\n",
              "</table>"
            ],
            "text/plain": [
              "<class 'statsmodels.iolib.summary.Summary'>\n",
              "\"\"\"\n",
              "                 Generalized Linear Model Regression Results                  \n",
              "==============================================================================\n",
              "Dep. Variable:                Default   No. Observations:                39412\n",
              "Model:                            GLM   Df Residuals:                    39405\n",
              "Model Family:                Binomial   Df Model:                            6\n",
              "Link Function:                  logit   Scale:                          1.0000\n",
              "Method:                          IRLS   Log-Likelihood:                -15457.\n",
              "Date:                Thu, 15 Apr 2021   Deviance:                       30914.\n",
              "Time:                        21:29:19   Pearson chi2:                 3.94e+04\n",
              "No. Iterations:                     6                                         \n",
              "Covariance Type:            nonrobust                                         \n",
              "=================================================================================\n",
              "                    coef    std err          z      P>|z|      [0.025      0.975]\n",
              "---------------------------------------------------------------------------------\n",
              "Intercept        -2.7554      0.042    -65.554      0.000      -2.838      -2.673\n",
              "C(grade)[T.B]     0.7614      0.051     15.045      0.000       0.662       0.861\n",
              "C(grade)[T.C]     1.1597      0.052     22.503      0.000       1.059       1.261\n",
              "C(grade)[T.D]     1.4600      0.054     27.130      0.000       1.355       1.565\n",
              "C(grade)[T.E]     1.6983      0.060     28.167      0.000       1.580       1.817\n",
              "C(grade)[T.F]     1.9732      0.079     24.874      0.000       1.818       2.129\n",
              "C(grade)[T.G]     2.0139      0.128     15.734      0.000       1.763       2.265\n",
              "=================================================================================\n",
              "\"\"\""
            ]
          },
          "metadata": {
            "tags": []
          },
          "execution_count": 7
        }
      ]
    },
    {
      "cell_type": "markdown",
      "metadata": {
        "id": "QFo9bOAHuLit"
      },
      "source": [
        "\n",
        "\n",
        "> Take Grade B as an example, The coefficient of grade B is equal to 0.7614, which means, holding other variables fixed, the defualt rate is\n",
        " 0.76 unit higher than our base level, Grade A rating borrowers. \n",
        "\n",
        "\n",
        "\n",
        "> I would say the coefficients make sense to me, as grade \"A\" are for borrowers with best creditworthiness and \"G\" are for people that can be trusted less. The coefficients of the grade ratings are increasing with grade, which means default rates are increasing. This corresponds to the idea of design the creditworthiness score.\n",
        "\n",
        "\n",
        "\n",
        "\n",
        "\n"
      ]
    },
    {
      "cell_type": "markdown",
      "metadata": {
        "id": "qdcFua36cmkR"
      },
      "source": [
        "ii)Construct and report a test of whether the model performs better than the null model where only \"beta0\", and no conditioning information, is present in the logistic model."
      ]
    },
    {
      "cell_type": "code",
      "metadata": {
        "colab": {
          "base_uri": "https://localhost:8080/",
          "height": 269
        },
        "id": "VL_c2DzEyEEe",
        "outputId": "1277f8a5-f5e8-4f6e-f4d6-6ec3ffd9c567"
      },
      "source": [
        "# run logstic null model\n",
        "y,X = dmatrices('Default ~ 1',df,return_type = 'dataframe')\n",
        "logit_grade_null = sm.GLM(y,X,family=sm.families.Binomial()).fit()\n",
        "logit_grade_null.summary()\n"
      ],
      "execution_count": 63,
      "outputs": [
        {
          "output_type": "execute_result",
          "data": {
            "text/html": [
              "<table class=\"simpletable\">\n",
              "<caption>Generalized Linear Model Regression Results</caption>\n",
              "<tr>\n",
              "  <th>Dep. Variable:</th>        <td>Default</td>     <th>  No. Observations:  </th>  <td> 39412</td> \n",
              "</tr>\n",
              "<tr>\n",
              "  <th>Model:</th>                  <td>GLM</td>       <th>  Df Residuals:      </th>  <td> 39411</td> \n",
              "</tr>\n",
              "<tr>\n",
              "  <th>Model Family:</th>        <td>Binomial</td>     <th>  Df Model:          </th>  <td>     0</td> \n",
              "</tr>\n",
              "<tr>\n",
              "  <th>Link Function:</th>         <td>logit</td>      <th>  Scale:             </th> <td>  1.0000</td>\n",
              "</tr>\n",
              "<tr>\n",
              "  <th>Method:</th>                <td>IRLS</td>       <th>  Log-Likelihood:    </th> <td> -16211.</td>\n",
              "</tr>\n",
              "<tr>\n",
              "  <th>Date:</th>            <td>Thu, 15 Apr 2021</td> <th>  Deviance:          </th> <td>  32423.</td>\n",
              "</tr>\n",
              "<tr>\n",
              "  <th>Time:</th>                <td>23:35:19</td>     <th>  Pearson chi2:      </th> <td>3.94e+04</td>\n",
              "</tr>\n",
              "<tr>\n",
              "  <th>No. Iterations:</th>          <td>4</td>        <th>                     </th>     <td> </td>   \n",
              "</tr>\n",
              "<tr>\n",
              "  <th>Covariance Type:</th>     <td>nonrobust</td>    <th>                     </th>     <td> </td>   \n",
              "</tr>\n",
              "</table>\n",
              "<table class=\"simpletable\">\n",
              "<tr>\n",
              "      <td></td>         <th>coef</th>     <th>std err</th>      <th>z</th>      <th>P>|z|</th>  <th>[0.025</th>    <th>0.975]</th>  \n",
              "</tr>\n",
              "<tr>\n",
              "  <th>Intercept</th> <td>   -1.7862</td> <td>    0.014</td> <td> -124.333</td> <td> 0.000</td> <td>   -1.814</td> <td>   -1.758</td>\n",
              "</tr>\n",
              "</table>"
            ],
            "text/plain": [
              "<class 'statsmodels.iolib.summary.Summary'>\n",
              "\"\"\"\n",
              "                 Generalized Linear Model Regression Results                  \n",
              "==============================================================================\n",
              "Dep. Variable:                Default   No. Observations:                39412\n",
              "Model:                            GLM   Df Residuals:                    39411\n",
              "Model Family:                Binomial   Df Model:                            0\n",
              "Link Function:                  logit   Scale:                          1.0000\n",
              "Method:                          IRLS   Log-Likelihood:                -16211.\n",
              "Date:                Thu, 15 Apr 2021   Deviance:                       32423.\n",
              "Time:                        23:35:19   Pearson chi2:                 3.94e+04\n",
              "No. Iterations:                     4                                         \n",
              "Covariance Type:            nonrobust                                         \n",
              "==============================================================================\n",
              "                 coef    std err          z      P>|z|      [0.025      0.975]\n",
              "------------------------------------------------------------------------------\n",
              "Intercept     -1.7862      0.014   -124.333      0.000      -1.814      -1.758\n",
              "==============================================================================\n",
              "\"\"\""
            ]
          },
          "metadata": {
            "tags": []
          },
          "execution_count": 63
        }
      ]
    },
    {
      "cell_type": "code",
      "metadata": {
        "colab": {
          "base_uri": "https://localhost:8080/"
        },
        "id": "sJGfdZeJ43qC",
        "outputId": "f81ecf59-fefd-4d46-c8bb-06185c9f3a52"
      },
      "source": [
        "# do Inclusion-Exclusion Test\n",
        "delta_df= logit_grade.df_model - logit_grade_null.df_model #number of variables thrown out = 6\n",
        "delta_dev=logit_grade_null.deviance-logit_grade.deviance #Change in fit. Fit is worse for simpler model by # “deviance” points\n",
        "#p-value test\n",
        "p_value_chisq = 1-chi2.cdf(delta_dev,delta_df) \n",
        "print('{0} variables has be thrown out by fitting the null model. The null model fit is worse for null model by {1} \"deviance\" points. p-value is {2}'.format(delta_df,delta_dev,p_value_chisq))"
      ],
      "execution_count": 62,
      "outputs": [
        {
          "output_type": "stream",
          "text": [
            "6 variables has be thrown out by fitting the null model. The null model fit is worse for null model by 1508.097255675224 \"deviance\" points. p-value is 0.0\n"
          ],
          "name": "stdout"
        }
      ]
    },
    {
      "cell_type": "markdown",
      "metadata": {
        "id": "gH7K02Rje6qB"
      },
      "source": [
        "By Inclusion-Exclusion Test, p-value is $0$, so that we reject the null hypothesis, which is to say, there is a difference between pool regression vs. null model. The grade model performs better."
      ]
    },
    {
      "cell_type": "markdown",
      "metadata": {
        "id": "e9CVRQGXg3n2"
      },
      "source": [
        "iii) Construct the lift table and the ROC curve for this model. Explain the interpretation of\n",
        "the numbers in the lift table and the lines and axis in the ROC curve. Does the model perform better than a random guess?"
      ]
    },
    {
      "cell_type": "markdown",
      "metadata": {
        "id": "8aXiPStHjU0p"
      },
      "source": [
        "\n",
        "\n",
        "> Sort the data by fitted probabilities and then compute the mean of the\n",
        "Y variable (mean response – in this case, mean default rate) for each decile of fitted probabilities.\n",
        "\n"
      ]
    },
    {
      "cell_type": "code",
      "metadata": {
        "colab": {
          "base_uri": "https://localhost:8080/",
          "height": 390
        },
        "id": "Tpq_icvjhdj6",
        "outputId": "d41a13eb-2d19-4bcd-e9e8-9573ab68e4c3"
      },
      "source": [
        "# fitted probability \n",
        "df['phat'] = logit_grade.predict(Xf)\n",
        "# compute a \"lift\" table\n",
        "# Get quantiles\n",
        "df['rank'] = df['phat'].rank(method='first')\n",
        "df = df.sort_values(by=['rank'])\n",
        "df['deciles'] = pd.qcut(df['rank'].values, 10,labels=np.arange(1, 11, 1))\n",
        "df1 = df[['deciles','phat','Default']] \n",
        "lift = df1.groupby('deciles')[['deciles','Default']].mean()\n",
        "lift['Lift Factor'] = lift['Default']/np.mean(df.Default)\n",
        "lift =lift.sort_values(by=['Default'])\n",
        "lift=lift.sort_values(by=['Default'])\n",
        "lift['Deciles'] = np.arange(1,11,1)\n",
        "lift"
      ],
      "execution_count": 69,
      "outputs": [
        {
          "output_type": "execute_result",
          "data": {
            "text/html": [
              "<div>\n",
              "<style scoped>\n",
              "    .dataframe tbody tr th:only-of-type {\n",
              "        vertical-align: middle;\n",
              "    }\n",
              "\n",
              "    .dataframe tbody tr th {\n",
              "        vertical-align: top;\n",
              "    }\n",
              "\n",
              "    .dataframe thead th {\n",
              "        text-align: right;\n",
              "    }\n",
              "</style>\n",
              "<table border=\"1\" class=\"dataframe\">\n",
              "  <thead>\n",
              "    <tr style=\"text-align: right;\">\n",
              "      <th></th>\n",
              "      <th>Default</th>\n",
              "      <th>Lift Factor</th>\n",
              "      <th>Deciles</th>\n",
              "    </tr>\n",
              "    <tr>\n",
              "      <th>deciles</th>\n",
              "      <th></th>\n",
              "      <th></th>\n",
              "      <th></th>\n",
              "    </tr>\n",
              "  </thead>\n",
              "  <tbody>\n",
              "    <tr>\n",
              "      <th>2</th>\n",
              "      <td>0.054047</td>\n",
              "      <td>0.376544</td>\n",
              "      <td>1</td>\n",
              "    </tr>\n",
              "    <tr>\n",
              "      <th>1</th>\n",
              "      <td>0.069001</td>\n",
              "      <td>0.480723</td>\n",
              "      <td>2</td>\n",
              "    </tr>\n",
              "    <tr>\n",
              "      <th>3</th>\n",
              "      <td>0.090586</td>\n",
              "      <td>0.631109</td>\n",
              "      <td>3</td>\n",
              "    </tr>\n",
              "    <tr>\n",
              "      <th>5</th>\n",
              "      <td>0.114945</td>\n",
              "      <td>0.800818</td>\n",
              "      <td>4</td>\n",
              "    </tr>\n",
              "    <tr>\n",
              "      <th>4</th>\n",
              "      <td>0.118752</td>\n",
              "      <td>0.827336</td>\n",
              "      <td>5</td>\n",
              "    </tr>\n",
              "    <tr>\n",
              "      <th>6</th>\n",
              "      <td>0.147171</td>\n",
              "      <td>1.025330</td>\n",
              "      <td>6</td>\n",
              "    </tr>\n",
              "    <tr>\n",
              "      <th>7</th>\n",
              "      <td>0.170515</td>\n",
              "      <td>1.187969</td>\n",
              "      <td>7</td>\n",
              "    </tr>\n",
              "    <tr>\n",
              "      <th>8</th>\n",
              "      <td>0.191322</td>\n",
              "      <td>1.332930</td>\n",
              "      <td>8</td>\n",
              "    </tr>\n",
              "    <tr>\n",
              "      <th>9</th>\n",
              "      <td>0.206039</td>\n",
              "      <td>1.435463</td>\n",
              "      <td>9</td>\n",
              "    </tr>\n",
              "    <tr>\n",
              "      <th>10</th>\n",
              "      <td>0.272958</td>\n",
              "      <td>1.901682</td>\n",
              "      <td>10</td>\n",
              "    </tr>\n",
              "  </tbody>\n",
              "</table>\n",
              "</div>"
            ],
            "text/plain": [
              "          Default  Lift Factor  Deciles\n",
              "deciles                                \n",
              "2        0.054047     0.376544        1\n",
              "1        0.069001     0.480723        2\n",
              "3        0.090586     0.631109        3\n",
              "5        0.114945     0.800818        4\n",
              "4        0.118752     0.827336        5\n",
              "6        0.147171     1.025330        6\n",
              "7        0.170515     1.187969        7\n",
              "8        0.191322     1.332930        8\n",
              "9        0.206039     1.435463        9\n",
              "10       0.272958     1.901682       10"
            ]
          },
          "metadata": {
            "tags": []
          },
          "execution_count": 69
        }
      ]
    },
    {
      "cell_type": "markdown",
      "metadata": {
        "id": "hOctUtMInDjO"
      },
      "source": [
        "\n",
        "\n",
        "> From the lift table, we can see that the mean response rate for high fitted probailities would much much higher than the lowest fitted probabilities.\n",
        "\n"
      ]
    },
    {
      "cell_type": "code",
      "metadata": {
        "colab": {
          "base_uri": "https://localhost:8080/",
          "height": 296
        },
        "id": "pHZlKwKXw7cE",
        "outputId": "321f6bcf-e5c8-462e-ba93-c501fa41734b"
      },
      "source": [
        "# create ROC curve\n",
        "def simple_roc(labels,scores):\n",
        "    labels = np.flip([x for _,x in sorted(zip(scores,labels),reverse = False)])\n",
        "    return pd.DataFrame({'TPR': np.cumsum(labels)/sum(labels),\n",
        "                         'FPR': np.cumsum(~labels)/sum(~labels)})\n",
        "glm_simple_roc = simple_roc(df.Default==1,df.phat)\n",
        "plt.figure()\n",
        "ax = sns.lineplot(data=glm_simple_roc, x=\"FPR\", y=\"TPR\")\n",
        "plt.plot([0, 1], [0, 1],color='grey', linestyle='dashed', linewidth=2)\n"
      ],
      "execution_count": 97,
      "outputs": [
        {
          "output_type": "execute_result",
          "data": {
            "text/plain": [
              "[<matplotlib.lines.Line2D at 0x7f9347f20190>]"
            ]
          },
          "metadata": {
            "tags": []
          },
          "execution_count": 97
        },
        {
          "output_type": "display_data",
          "data": {
            "image/png": "[encoded data removed]",
            "text/plain": [
              "<Figure size 432x288 with 1 Axes>"
            ]
          },
          "metadata": {
            "tags": [],
            "needs_background": "light"
          }
        }
      ]
    },
    {
      "cell_type": "markdown",
      "metadata": {
        "id": "F11nxEVUxbQ3"
      },
      "source": [
        "The yellow line here represents the random guess. By the area under the curve we can see that the model does better than the random guess."
      ]
    },
    {
      "cell_type": "markdown",
      "metadata": {
        "id": "UxdsGqXCzV8B"
      },
      "source": [
        "iv) Assume that each loan is for $\\$100$, and that you make a $\\$1$ profit if there is no default, but lose $\\$10$ if there is a default (both given in present value terms to keep things easy). Using data from the ROC curve (True Positive Rate and False Positive Rate) along with the average rate of default (total number of defaults divided by total number of loans), what is the cutoff default probability you should use as your decision criterion to maximize profits? Plot the corresponding point on the ROC curve."
      ]
    },
    {
      "cell_type": "markdown",
      "metadata": {
        "id": "iOgPInbQ8RDf"
      },
      "source": [
        "\n",
        "\n",
        "> The optimal CutOff value is the point where there is high true positive rate and low false positive rate. Given the payoff of the loan, we could derive the coding logic as followings:\n",
        " As we are maximizing function: \n",
        " \\begin{align*}\n",
        " N(1-\\text{FPR(cutoff)}) \\times 1 + P(1-\\text{TPR(cutoff})) \\times (-10) &= N-N\\times \\text{FPR(cutoff)} -10 P + 10 P \\times \\text{TPR(cutoff)}\\\\\n",
        " &= N-10P -FP+10 TP\n",
        " \\end{align*}\n",
        " As $N-10P$ is fixed, therefore, we only need to find the max difference between $10 TP-FP$\n",
        "\n"
      ]
    },
    {
      "cell_type": "code",
      "metadata": {
        "colab": {
          "base_uri": "https://localhost:8080/",
          "height": 296
        },
        "id": "iuu1DHGwkd_J",
        "outputId": "2ad3a3bf-7e27-455d-d4a9-30f165808eae"
      },
      "source": [
        "optimal_idx = np.argmax(10*glm_simple_roc['TPR'] - 1*glm_simple_roc['FPR'])\n",
        "optimal_fpr = glm_simple_roc['FPR'][optimal_idx]\n",
        "optimal_tpr = glm_simple_roc['TPR'][optimal_idx]\n",
        "optimal_fpr,optimal_tpr\n",
        "plt.figure()\n",
        "ax = sns.lineplot(data=glm_simple_roc, x=\"FPR\", y=\"TPR\")\n",
        "plt.plot([0, 1], [0, 1],color='grey', linestyle='dashed', linewidth=2)\n",
        "plt.plot(optimal_fpr, optimal_tpr,\"or \")\n",
        "plt.annotate(\"Cut-off Point\", (optimal_fpr-0.1, optimal_tpr+0.01))"
      ],
      "execution_count": 98,
      "outputs": [
        {
          "output_type": "execute_result",
          "data": {
            "text/plain": [
              "Text(0.6195082210042957, 1.01, 'Cut-off Point')"
            ]
          },
          "metadata": {
            "tags": []
          },
          "execution_count": 98
        },
        {
          "output_type": "display_data",
          "data": {
            "image/png": "[encoded data removed]",
            "text/plain": [
              "<Figure size 432x288 with 1 Axes>"
            ]
          },
          "metadata": {
            "tags": [],
            "needs_background": "light"
          }
        }
      ]
    },
    {
      "cell_type": "markdown",
      "metadata": {
        "id": "OY9r9cn-5zaI"
      },
      "source": [
        "#### c. Next, we will see if it is possible to do better than the internal \"grade\"-variable, using other information about the borrower and the loan as provided by LendingClub."
      ]
    },
    {
      "cell_type": "markdown",
      "metadata": {
        "id": "RwBc0CuX6Jr7"
      },
      "source": [
        " i) First, consider a logistic regression model that uses only loan amount (loan_amnt) and annual income (annual_inc) as explanatory variables. Report the regression results."
      ]
    },
    {
      "cell_type": "code",
      "metadata": {
        "colab": {
          "base_uri": "https://localhost:8080/",
          "height": 311
        },
        "id": "1gv6JqeF6XLJ",
        "outputId": "a2dbfdd2-ef2f-4d7d-ef58-96e59e3cb566"
      },
      "source": [
        "# fit gression uses loan_amnt, annual_inc\n",
        "y,X2 = dmatrices('Default ~ loan_amnt + annual_inc',df,return_type = 'dataframe')\n",
        "logit_model = sm.GLM(y,X2,family=sm.families.Binomial()).fit()\n",
        "logit_model.summary() #regression output"
      ],
      "execution_count": 64,
      "outputs": [
        {
          "output_type": "execute_result",
          "data": {
            "text/html": [
              "<table class=\"simpletable\">\n",
              "<caption>Generalized Linear Model Regression Results</caption>\n",
              "<tr>\n",
              "  <th>Dep. Variable:</th>        <td>Default</td>     <th>  No. Observations:  </th>  <td> 39412</td> \n",
              "</tr>\n",
              "<tr>\n",
              "  <th>Model:</th>                  <td>GLM</td>       <th>  Df Residuals:      </th>  <td> 39409</td> \n",
              "</tr>\n",
              "<tr>\n",
              "  <th>Model Family:</th>        <td>Binomial</td>     <th>  Df Model:          </th>  <td>     2</td> \n",
              "</tr>\n",
              "<tr>\n",
              "  <th>Link Function:</th>         <td>logit</td>      <th>  Scale:             </th> <td>  1.0000</td>\n",
              "</tr>\n",
              "<tr>\n",
              "  <th>Method:</th>                <td>IRLS</td>       <th>  Log-Likelihood:    </th> <td> -16013.</td>\n",
              "</tr>\n",
              "<tr>\n",
              "  <th>Date:</th>            <td>Thu, 15 Apr 2021</td> <th>  Deviance:          </th> <td>  32027.</td>\n",
              "</tr>\n",
              "<tr>\n",
              "  <th>Time:</th>                <td>23:42:32</td>     <th>  Pearson chi2:      </th> <td>6.67e+04</td>\n",
              "</tr>\n",
              "<tr>\n",
              "  <th>No. Iterations:</th>          <td>6</td>        <th>                     </th>     <td> </td>   \n",
              "</tr>\n",
              "<tr>\n",
              "  <th>Covariance Type:</th>     <td>nonrobust</td>    <th>                     </th>     <td> </td>   \n",
              "</tr>\n",
              "</table>\n",
              "<table class=\"simpletable\">\n",
              "<tr>\n",
              "       <td></td>         <th>coef</th>     <th>std err</th>      <th>z</th>      <th>P>|z|</th>  <th>[0.025</th>    <th>0.975]</th>  \n",
              "</tr>\n",
              "<tr>\n",
              "  <th>Intercept</th>  <td>   -1.7254</td> <td>    0.032</td> <td>  -53.708</td> <td> 0.000</td> <td>   -1.788</td> <td>   -1.662</td>\n",
              "</tr>\n",
              "<tr>\n",
              "  <th>loan_amnt</th>  <td> 3.484e-05</td> <td> 2.08e-06</td> <td>   16.742</td> <td> 0.000</td> <td> 3.08e-05</td> <td> 3.89e-05</td>\n",
              "</tr>\n",
              "<tr>\n",
              "  <th>annual_inc</th> <td>-7.089e-06</td> <td> 4.66e-07</td> <td>  -15.201</td> <td> 0.000</td> <td>   -8e-06</td> <td>-6.17e-06</td>\n",
              "</tr>\n",
              "</table>"
            ],
            "text/plain": [
              "<class 'statsmodels.iolib.summary.Summary'>\n",
              "\"\"\"\n",
              "                 Generalized Linear Model Regression Results                  \n",
              "==============================================================================\n",
              "Dep. Variable:                Default   No. Observations:                39412\n",
              "Model:                            GLM   Df Residuals:                    39409\n",
              "Model Family:                Binomial   Df Model:                            2\n",
              "Link Function:                  logit   Scale:                          1.0000\n",
              "Method:                          IRLS   Log-Likelihood:                -16013.\n",
              "Date:                Thu, 15 Apr 2021   Deviance:                       32027.\n",
              "Time:                        23:42:32   Pearson chi2:                 6.67e+04\n",
              "No. Iterations:                     6                                         \n",
              "Covariance Type:            nonrobust                                         \n",
              "==============================================================================\n",
              "                 coef    std err          z      P>|z|      [0.025      0.975]\n",
              "------------------------------------------------------------------------------\n",
              "Intercept     -1.7254      0.032    -53.708      0.000      -1.788      -1.662\n",
              "loan_amnt   3.484e-05   2.08e-06     16.742      0.000    3.08e-05    3.89e-05\n",
              "annual_inc -7.089e-06   4.66e-07    -15.201      0.000      -8e-06   -6.17e-06\n",
              "==============================================================================\n",
              "\"\"\""
            ]
          },
          "metadata": {
            "tags": []
          },
          "execution_count": 64
        }
      ]
    },
    {
      "cell_type": "code",
      "metadata": {
        "colab": {
          "base_uri": "https://localhost:8080/",
          "height": 390
        },
        "id": "4DO0o4lr7FpE",
        "outputId": "abbaebff-f0c9-4a1f-b969-c513738f5797"
      },
      "source": [
        "# fitted probability \n",
        "df['phat2'] = logit_model.predict(X2)\n",
        "# compute a \"lift\" table\n",
        "# Get quantiles\n",
        "df['deciles'] = pd.qcut(df['phat2'].values, 10,labels=np.arange(1, 11, 1))\n",
        "#df['deciles'] = pd.qcut(df['phat'].rank(method='first'),10,labels=np.arange(1, 11, 1)).codes\n",
        "df1 = df[['deciles','phat','Default']] \n",
        "lift_model = df1.groupby('deciles')[['deciles','Default']].mean()\n",
        "lift_model['Lift Factor_model'] = lift_model['Default']/np.mean(df.Default)\n",
        "lift_model"
      ],
      "execution_count": 70,
      "outputs": [
        {
          "output_type": "execute_result",
          "data": {
            "text/html": [
              "<div>\n",
              "<style scoped>\n",
              "    .dataframe tbody tr th:only-of-type {\n",
              "        vertical-align: middle;\n",
              "    }\n",
              "\n",
              "    .dataframe tbody tr th {\n",
              "        vertical-align: top;\n",
              "    }\n",
              "\n",
              "    .dataframe thead th {\n",
              "        text-align: right;\n",
              "    }\n",
              "</style>\n",
              "<table border=\"1\" class=\"dataframe\">\n",
              "  <thead>\n",
              "    <tr style=\"text-align: right;\">\n",
              "      <th></th>\n",
              "      <th>Default</th>\n",
              "      <th>Lift Factor_model</th>\n",
              "    </tr>\n",
              "    <tr>\n",
              "      <th>deciles</th>\n",
              "      <th></th>\n",
              "      <th></th>\n",
              "    </tr>\n",
              "  </thead>\n",
              "  <tbody>\n",
              "    <tr>\n",
              "      <th>1</th>\n",
              "      <td>0.088466</td>\n",
              "      <td>0.616341</td>\n",
              "    </tr>\n",
              "    <tr>\n",
              "      <th>2</th>\n",
              "      <td>0.104622</td>\n",
              "      <td>0.728893</td>\n",
              "    </tr>\n",
              "    <tr>\n",
              "      <th>3</th>\n",
              "      <td>0.112180</td>\n",
              "      <td>0.781554</td>\n",
              "    </tr>\n",
              "    <tr>\n",
              "      <th>4</th>\n",
              "      <td>0.126367</td>\n",
              "      <td>0.880389</td>\n",
              "    </tr>\n",
              "    <tr>\n",
              "      <th>5</th>\n",
              "      <td>0.132707</td>\n",
              "      <td>0.924565</td>\n",
              "    </tr>\n",
              "    <tr>\n",
              "      <th>6</th>\n",
              "      <td>0.142603</td>\n",
              "      <td>0.993510</td>\n",
              "    </tr>\n",
              "    <tr>\n",
              "      <th>7</th>\n",
              "      <td>0.153436</td>\n",
              "      <td>1.068983</td>\n",
              "    </tr>\n",
              "    <tr>\n",
              "      <th>8</th>\n",
              "      <td>0.149784</td>\n",
              "      <td>1.043538</td>\n",
              "    </tr>\n",
              "    <tr>\n",
              "      <th>9</th>\n",
              "      <td>0.202487</td>\n",
              "      <td>1.410713</td>\n",
              "    </tr>\n",
              "    <tr>\n",
              "      <th>10</th>\n",
              "      <td>0.222730</td>\n",
              "      <td>1.551744</td>\n",
              "    </tr>\n",
              "  </tbody>\n",
              "</table>\n",
              "</div>"
            ],
            "text/plain": [
              "          Default  Lift Factor_model\n",
              "deciles                             \n",
              "1        0.088466           0.616341\n",
              "2        0.104622           0.728893\n",
              "3        0.112180           0.781554\n",
              "4        0.126367           0.880389\n",
              "5        0.132707           0.924565\n",
              "6        0.142603           0.993510\n",
              "7        0.153436           1.068983\n",
              "8        0.149784           1.043538\n",
              "9        0.202487           1.410713\n",
              "10       0.222730           1.551744"
            ]
          },
          "metadata": {
            "tags": []
          },
          "execution_count": 70
        }
      ]
    },
    {
      "cell_type": "code",
      "metadata": {
        "colab": {
          "base_uri": "https://localhost:8080/",
          "height": 390
        },
        "id": "6Zd2OVpK8txp",
        "outputId": "0c268dc9-762d-4269-be8d-e1db9e7354ca"
      },
      "source": [
        "#compare two lift table\n",
        "table_compare = pd.concat([lift_model, lift],axis=1)\n",
        "table_compare"
      ],
      "execution_count": 75,
      "outputs": [
        {
          "output_type": "execute_result",
          "data": {
            "text/html": [
              "<div>\n",
              "<style scoped>\n",
              "    .dataframe tbody tr th:only-of-type {\n",
              "        vertical-align: middle;\n",
              "    }\n",
              "\n",
              "    .dataframe tbody tr th {\n",
              "        vertical-align: top;\n",
              "    }\n",
              "\n",
              "    .dataframe thead th {\n",
              "        text-align: right;\n",
              "    }\n",
              "</style>\n",
              "<table border=\"1\" class=\"dataframe\">\n",
              "  <thead>\n",
              "    <tr style=\"text-align: right;\">\n",
              "      <th></th>\n",
              "      <th>Default</th>\n",
              "      <th>Lift Factor_model</th>\n",
              "      <th>Default</th>\n",
              "      <th>Lift Factor</th>\n",
              "      <th>Deciles</th>\n",
              "    </tr>\n",
              "    <tr>\n",
              "      <th>deciles</th>\n",
              "      <th></th>\n",
              "      <th></th>\n",
              "      <th></th>\n",
              "      <th></th>\n",
              "      <th></th>\n",
              "    </tr>\n",
              "  </thead>\n",
              "  <tbody>\n",
              "    <tr>\n",
              "      <th>1</th>\n",
              "      <td>0.088466</td>\n",
              "      <td>0.616341</td>\n",
              "      <td>0.069001</td>\n",
              "      <td>0.480723</td>\n",
              "      <td>2</td>\n",
              "    </tr>\n",
              "    <tr>\n",
              "      <th>2</th>\n",
              "      <td>0.104622</td>\n",
              "      <td>0.728893</td>\n",
              "      <td>0.054047</td>\n",
              "      <td>0.376544</td>\n",
              "      <td>1</td>\n",
              "    </tr>\n",
              "    <tr>\n",
              "      <th>3</th>\n",
              "      <td>0.112180</td>\n",
              "      <td>0.781554</td>\n",
              "      <td>0.090586</td>\n",
              "      <td>0.631109</td>\n",
              "      <td>3</td>\n",
              "    </tr>\n",
              "    <tr>\n",
              "      <th>4</th>\n",
              "      <td>0.126367</td>\n",
              "      <td>0.880389</td>\n",
              "      <td>0.118752</td>\n",
              "      <td>0.827336</td>\n",
              "      <td>5</td>\n",
              "    </tr>\n",
              "    <tr>\n",
              "      <th>5</th>\n",
              "      <td>0.132707</td>\n",
              "      <td>0.924565</td>\n",
              "      <td>0.114945</td>\n",
              "      <td>0.800818</td>\n",
              "      <td>4</td>\n",
              "    </tr>\n",
              "    <tr>\n",
              "      <th>6</th>\n",
              "      <td>0.142603</td>\n",
              "      <td>0.993510</td>\n",
              "      <td>0.147171</td>\n",
              "      <td>1.025330</td>\n",
              "      <td>6</td>\n",
              "    </tr>\n",
              "    <tr>\n",
              "      <th>7</th>\n",
              "      <td>0.153436</td>\n",
              "      <td>1.068983</td>\n",
              "      <td>0.170515</td>\n",
              "      <td>1.187969</td>\n",
              "      <td>7</td>\n",
              "    </tr>\n",
              "    <tr>\n",
              "      <th>8</th>\n",
              "      <td>0.149784</td>\n",
              "      <td>1.043538</td>\n",
              "      <td>0.191322</td>\n",
              "      <td>1.332930</td>\n",
              "      <td>8</td>\n",
              "    </tr>\n",
              "    <tr>\n",
              "      <th>9</th>\n",
              "      <td>0.202487</td>\n",
              "      <td>1.410713</td>\n",
              "      <td>0.206039</td>\n",
              "      <td>1.435463</td>\n",
              "      <td>9</td>\n",
              "    </tr>\n",
              "    <tr>\n",
              "      <th>10</th>\n",
              "      <td>0.222730</td>\n",
              "      <td>1.551744</td>\n",
              "      <td>0.272958</td>\n",
              "      <td>1.901682</td>\n",
              "      <td>10</td>\n",
              "    </tr>\n",
              "  </tbody>\n",
              "</table>\n",
              "</div>"
            ],
            "text/plain": [
              "          Default  Lift Factor_model   Default  Lift Factor  Deciles\n",
              "deciles                                                             \n",
              "1        0.088466           0.616341  0.069001     0.480723        2\n",
              "2        0.104622           0.728893  0.054047     0.376544        1\n",
              "3        0.112180           0.781554  0.090586     0.631109        3\n",
              "4        0.126367           0.880389  0.118752     0.827336        5\n",
              "5        0.132707           0.924565  0.114945     0.800818        4\n",
              "6        0.142603           0.993510  0.147171     1.025330        6\n",
              "7        0.153436           1.068983  0.170515     1.187969        7\n",
              "8        0.149784           1.043538  0.191322     1.332930        8\n",
              "9        0.202487           1.410713  0.206039     1.435463        9\n",
              "10       0.222730           1.551744  0.272958     1.901682       10"
            ]
          },
          "metadata": {
            "tags": []
          },
          "execution_count": 75
        }
      ]
    },
    {
      "cell_type": "markdown",
      "metadata": {
        "id": "D6XVWf4r9k3A"
      },
      "source": [
        "\n",
        "\n",
        "> By comparing the Lift tables of this model and the grade model, we can see grade model do better than this model, as it differentiate the mean response rate for high fitted probabilities and low fitted probabilities better.\n",
        "\n"
      ]
    },
    {
      "cell_type": "code",
      "metadata": {
        "colab": {
          "base_uri": "https://localhost:8080/",
          "height": 296
        },
        "id": "FYjuedDL-o44",
        "outputId": "136cdfb6-79de-470e-b7dc-c78f47717485"
      },
      "source": [
        "#plot ROC curve for the alternative model, that uses only\n",
        "glm_altenative_roc = simple_roc(df.Default==1,df.phat2)\n",
        "glm_simple_roc['Model'] = 'grade'\n",
        "glm_altenative_roc['Model'] = 'Alternative'\n",
        "\n",
        "New_ROC=glm_simple_roc.append(glm_altenative_roc)\n",
        "plt.figure()\n",
        "ax = sns.lineplot(data=New_ROC, x=\"FPR\", y=\"TPR\",hue='Model')\n",
        "plt.plot([0, 1], [0, 1], color='grey', linestyle='dashed',linewidth=2)"
      ],
      "execution_count": 83,
      "outputs": [
        {
          "output_type": "execute_result",
          "data": {
            "text/plain": [
              "[<matplotlib.lines.Line2D at 0x7f93482aeb90>]"
            ]
          },
          "metadata": {
            "tags": []
          },
          "execution_count": 83
        },
        {
          "output_type": "display_data",
          "data": {
            "image/png": "[encoded data removed]",
            "text/plain": [
              "<Figure size 432x288 with 1 Axes>"
            ]
          },
          "metadata": {
            "tags": [],
            "needs_background": "light"
          }
        }
      ]
    },
    {
      "cell_type": "markdown",
      "metadata": {
        "id": "t5kCbKY7BaFQ"
      },
      "source": [
        "\n",
        "\n",
        "> By comparing the ROC curve of both models, we can see the AUC of grade model is larger and the alternative model is closer to the random guess line, grey dash line. We can also see that the grade model performs better. \n",
        "\n",
        "\n"
      ]
    },
    {
      "cell_type": "markdown",
      "metadata": {
        "id": "vU3JgG-qB_fe"
      },
      "source": [
        "ii) Now, include also information from the loan itself. In particular, include the maturity of the loan (term) and the interest rate (int_rate) in the logistic regression. Report the output. How does Python handle the term variable? In particular, what is the interpretation of the regression coefficient? Again show the lift table and ROC curve relative to the original 'grade' model. Now, which model is better? What is the likely explanation for why this new model performs better/worse?"
      ]
    },
    {
      "cell_type": "code",
      "metadata": {
        "colab": {
          "base_uri": "https://localhost:8080/",
          "height": 353
        },
        "id": "2jt7o_69CHm8",
        "outputId": "bf037afa-eb1a-4b56-9df4-7fab87ff4f2e"
      },
      "source": [
        "# fit gression uses loan_amnt, annual_inc,term, int_rate\n",
        "y,X3 = dmatrices('Default ~ loan_amnt + annual_inc + term + int_rate',df,return_type = 'dataframe')\n",
        "logit_model3 = sm.GLM(y,X3,family=sm.families.Binomial()).fit()\n",
        "logit_model3.summary() #regression output"
      ],
      "execution_count": 84,
      "outputs": [
        {
          "output_type": "execute_result",
          "data": {
            "text/html": [
              "<table class=\"simpletable\">\n",
              "<caption>Generalized Linear Model Regression Results</caption>\n",
              "<tr>\n",
              "  <th>Dep. Variable:</th>        <td>Default</td>     <th>  No. Observations:  </th>  <td> 39412</td> \n",
              "</tr>\n",
              "<tr>\n",
              "  <th>Model:</th>                  <td>GLM</td>       <th>  Df Residuals:      </th>  <td> 39407</td> \n",
              "</tr>\n",
              "<tr>\n",
              "  <th>Model Family:</th>        <td>Binomial</td>     <th>  Df Model:          </th>  <td>     4</td> \n",
              "</tr>\n",
              "<tr>\n",
              "  <th>Link Function:</th>         <td>logit</td>      <th>  Scale:             </th> <td>  1.0000</td>\n",
              "</tr>\n",
              "<tr>\n",
              "  <th>Method:</th>                <td>IRLS</td>       <th>  Log-Likelihood:    </th> <td> -15209.</td>\n",
              "</tr>\n",
              "<tr>\n",
              "  <th>Date:</th>            <td>Fri, 16 Apr 2021</td> <th>  Deviance:          </th> <td>  30418.</td>\n",
              "</tr>\n",
              "<tr>\n",
              "  <th>Time:</th>                <td>00:17:20</td>     <th>  Pearson chi2:      </th> <td>4.68e+04</td>\n",
              "</tr>\n",
              "<tr>\n",
              "  <th>No. Iterations:</th>          <td>6</td>        <th>                     </th>     <td> </td>   \n",
              "</tr>\n",
              "<tr>\n",
              "  <th>Covariance Type:</th>     <td>nonrobust</td>    <th>                     </th>     <td> </td>   \n",
              "</tr>\n",
              "</table>\n",
              "<table class=\"simpletable\">\n",
              "<tr>\n",
              "           <td></td>             <th>coef</th>     <th>std err</th>      <th>z</th>      <th>P>|z|</th>  <th>[0.025</th>    <th>0.975]</th>  \n",
              "</tr>\n",
              "<tr>\n",
              "  <th>Intercept</th>          <td>   -3.2660</td> <td>    0.061</td> <td>  -53.941</td> <td> 0.000</td> <td>   -3.385</td> <td>   -3.147</td>\n",
              "</tr>\n",
              "<tr>\n",
              "  <th>term[T. 60 months]</th> <td>    0.4538</td> <td>    0.036</td> <td>   12.732</td> <td> 0.000</td> <td>    0.384</td> <td>    0.524</td>\n",
              "</tr>\n",
              "<tr>\n",
              "  <th>loan_amnt</th>          <td> 1.176e-06</td> <td> 2.31e-06</td> <td>    0.509</td> <td> 0.611</td> <td>-3.35e-06</td> <td> 5.71e-06</td>\n",
              "</tr>\n",
              "<tr>\n",
              "  <th>annual_inc</th>         <td>-6.117e-06</td> <td> 4.64e-07</td> <td>  -13.173</td> <td> 0.000</td> <td>-7.03e-06</td> <td>-5.21e-06</td>\n",
              "</tr>\n",
              "<tr>\n",
              "  <th>int_rate</th>           <td>   13.4873</td> <td>    0.456</td> <td>   29.575</td> <td> 0.000</td> <td>   12.593</td> <td>   14.381</td>\n",
              "</tr>\n",
              "</table>"
            ],
            "text/plain": [
              "<class 'statsmodels.iolib.summary.Summary'>\n",
              "\"\"\"\n",
              "                 Generalized Linear Model Regression Results                  \n",
              "==============================================================================\n",
              "Dep. Variable:                Default   No. Observations:                39412\n",
              "Model:                            GLM   Df Residuals:                    39407\n",
              "Model Family:                Binomial   Df Model:                            4\n",
              "Link Function:                  logit   Scale:                          1.0000\n",
              "Method:                          IRLS   Log-Likelihood:                -15209.\n",
              "Date:                Fri, 16 Apr 2021   Deviance:                       30418.\n",
              "Time:                        00:17:20   Pearson chi2:                 4.68e+04\n",
              "No. Iterations:                     6                                         \n",
              "Covariance Type:            nonrobust                                         \n",
              "======================================================================================\n",
              "                         coef    std err          z      P>|z|      [0.025      0.975]\n",
              "--------------------------------------------------------------------------------------\n",
              "Intercept             -3.2660      0.061    -53.941      0.000      -3.385      -3.147\n",
              "term[T. 60 months]     0.4538      0.036     12.732      0.000       0.384       0.524\n",
              "loan_amnt           1.176e-06   2.31e-06      0.509      0.611   -3.35e-06    5.71e-06\n",
              "annual_inc         -6.117e-06   4.64e-07    -13.173      0.000   -7.03e-06   -5.21e-06\n",
              "int_rate              13.4873      0.456     29.575      0.000      12.593      14.381\n",
              "======================================================================================\n",
              "\"\"\""
            ]
          },
          "metadata": {
            "tags": []
          },
          "execution_count": 84
        }
      ]
    },
    {
      "cell_type": "markdown",
      "metadata": {
        "id": "6g4EANvZCnag"
      },
      "source": [
        "We can tell by the output that Python treats term as a dummy variable, it transforms term $=1$ when term = $60$ months and $=0$ otherwise.\n",
        "The default rate of loan term equals to 60 months is 0.4538 unit higher than the defaults rate of 36 months,holding other variables fixed.\n",
        "For the continuous variable, it could interpret as fixing other variables, increasing 1 unit in the variable, the default rate would change coeffcient unit. Take an example of annual income, holding all other variables fixed, 1 unit increase in annual income, default rate would go down $-6.117*10^{-6}$. The interpretation of loan_amount and interest rate are similar to this."
      ]
    },
    {
      "cell_type": "code",
      "metadata": {
        "colab": {
          "base_uri": "https://localhost:8080/",
          "height": 390
        },
        "id": "laXIUBHXKQLz",
        "outputId": "32175727-25fe-4014-ee7e-49864f646389"
      },
      "source": [
        "# show lift table \n",
        "# fitted probability \n",
        "df['phat3'] = logit_model3.predict(X3)\n",
        "# compute a \"lift\" table\n",
        "# Get quantiles\n",
        "df['deciles'] = pd.qcut(df['phat3'].values, 10,labels=np.arange(1, 11, 1))\n",
        "\n",
        "df1 = df[['deciles','phat','Default']] \n",
        "lift_model3 = df1.groupby('deciles')[['deciles','Default']].mean()\n",
        "lift_model3['Lift Factor_model_with_loan'] = lift_model3['Default']/np.mean(df.Default)\n",
        "lift_model3"
      ],
      "execution_count": 94,
      "outputs": [
        {
          "output_type": "execute_result",
          "data": {
            "text/html": [
              "<div>\n",
              "<style scoped>\n",
              "    .dataframe tbody tr th:only-of-type {\n",
              "        vertical-align: middle;\n",
              "    }\n",
              "\n",
              "    .dataframe tbody tr th {\n",
              "        vertical-align: top;\n",
              "    }\n",
              "\n",
              "    .dataframe thead th {\n",
              "        text-align: right;\n",
              "    }\n",
              "</style>\n",
              "<table border=\"1\" class=\"dataframe\">\n",
              "  <thead>\n",
              "    <tr style=\"text-align: right;\">\n",
              "      <th></th>\n",
              "      <th>Default</th>\n",
              "      <th>Lift Factor_model_with_loan</th>\n",
              "    </tr>\n",
              "    <tr>\n",
              "      <th>deciles</th>\n",
              "      <th></th>\n",
              "      <th></th>\n",
              "    </tr>\n",
              "  </thead>\n",
              "  <tbody>\n",
              "    <tr>\n",
              "      <th>1</th>\n",
              "      <td>0.036530</td>\n",
              "      <td>0.254500</td>\n",
              "    </tr>\n",
              "    <tr>\n",
              "      <th>2</th>\n",
              "      <td>0.063689</td>\n",
              "      <td>0.443721</td>\n",
              "    </tr>\n",
              "    <tr>\n",
              "      <th>3</th>\n",
              "      <td>0.080436</td>\n",
              "      <td>0.560396</td>\n",
              "    </tr>\n",
              "    <tr>\n",
              "      <th>4</th>\n",
              "      <td>0.098960</td>\n",
              "      <td>0.689446</td>\n",
              "    </tr>\n",
              "    <tr>\n",
              "      <th>5</th>\n",
              "      <td>0.116468</td>\n",
              "      <td>0.811425</td>\n",
              "    </tr>\n",
              "    <tr>\n",
              "      <th>6</th>\n",
              "      <td>0.145141</td>\n",
              "      <td>1.011188</td>\n",
              "    </tr>\n",
              "    <tr>\n",
              "      <th>7</th>\n",
              "      <td>0.157828</td>\n",
              "      <td>1.099579</td>\n",
              "    </tr>\n",
              "    <tr>\n",
              "      <th>8</th>\n",
              "      <td>0.187516</td>\n",
              "      <td>1.306412</td>\n",
              "    </tr>\n",
              "    <tr>\n",
              "      <th>9</th>\n",
              "      <td>0.235727</td>\n",
              "      <td>1.642297</td>\n",
              "    </tr>\n",
              "    <tr>\n",
              "      <th>10</th>\n",
              "      <td>0.313039</td>\n",
              "      <td>2.180926</td>\n",
              "    </tr>\n",
              "  </tbody>\n",
              "</table>\n",
              "</div>"
            ],
            "text/plain": [
              "          Default  Lift Factor_model_with_loan\n",
              "deciles                                       \n",
              "1        0.036530                     0.254500\n",
              "2        0.063689                     0.443721\n",
              "3        0.080436                     0.560396\n",
              "4        0.098960                     0.689446\n",
              "5        0.116468                     0.811425\n",
              "6        0.145141                     1.011188\n",
              "7        0.157828                     1.099579\n",
              "8        0.187516                     1.306412\n",
              "9        0.235727                     1.642297\n",
              "10       0.313039                     2.180926"
            ]
          },
          "metadata": {
            "tags": []
          },
          "execution_count": 94
        }
      ]
    },
    {
      "cell_type": "code",
      "metadata": {
        "colab": {
          "base_uri": "https://localhost:8080/",
          "height": 390
        },
        "id": "QJnppUQxKnvk",
        "outputId": "eab2f8e7-7b4e-4e77-97bf-1e430de1e2e8"
      },
      "source": [
        "#compare two lift table\n",
        "table_compare = pd.concat([lift_model3, lift],axis=1)\n",
        "table_compare"
      ],
      "execution_count": 95,
      "outputs": [
        {
          "output_type": "execute_result",
          "data": {
            "text/html": [
              "<div>\n",
              "<style scoped>\n",
              "    .dataframe tbody tr th:only-of-type {\n",
              "        vertical-align: middle;\n",
              "    }\n",
              "\n",
              "    .dataframe tbody tr th {\n",
              "        vertical-align: top;\n",
              "    }\n",
              "\n",
              "    .dataframe thead th {\n",
              "        text-align: right;\n",
              "    }\n",
              "</style>\n",
              "<table border=\"1\" class=\"dataframe\">\n",
              "  <thead>\n",
              "    <tr style=\"text-align: right;\">\n",
              "      <th></th>\n",
              "      <th>Default</th>\n",
              "      <th>Lift Factor_model_with_loan</th>\n",
              "      <th>Default</th>\n",
              "      <th>Lift Factor</th>\n",
              "      <th>Deciles</th>\n",
              "    </tr>\n",
              "    <tr>\n",
              "      <th>deciles</th>\n",
              "      <th></th>\n",
              "      <th></th>\n",
              "      <th></th>\n",
              "      <th></th>\n",
              "      <th></th>\n",
              "    </tr>\n",
              "  </thead>\n",
              "  <tbody>\n",
              "    <tr>\n",
              "      <th>1</th>\n",
              "      <td>0.036530</td>\n",
              "      <td>0.254500</td>\n",
              "      <td>0.069001</td>\n",
              "      <td>0.480723</td>\n",
              "      <td>2</td>\n",
              "    </tr>\n",
              "    <tr>\n",
              "      <th>2</th>\n",
              "      <td>0.063689</td>\n",
              "      <td>0.443721</td>\n",
              "      <td>0.054047</td>\n",
              "      <td>0.376544</td>\n",
              "      <td>1</td>\n",
              "    </tr>\n",
              "    <tr>\n",
              "      <th>3</th>\n",
              "      <td>0.080436</td>\n",
              "      <td>0.560396</td>\n",
              "      <td>0.090586</td>\n",
              "      <td>0.631109</td>\n",
              "      <td>3</td>\n",
              "    </tr>\n",
              "    <tr>\n",
              "      <th>4</th>\n",
              "      <td>0.098960</td>\n",
              "      <td>0.689446</td>\n",
              "      <td>0.118752</td>\n",
              "      <td>0.827336</td>\n",
              "      <td>5</td>\n",
              "    </tr>\n",
              "    <tr>\n",
              "      <th>5</th>\n",
              "      <td>0.116468</td>\n",
              "      <td>0.811425</td>\n",
              "      <td>0.114945</td>\n",
              "      <td>0.800818</td>\n",
              "      <td>4</td>\n",
              "    </tr>\n",
              "    <tr>\n",
              "      <th>6</th>\n",
              "      <td>0.145141</td>\n",
              "      <td>1.011188</td>\n",
              "      <td>0.147171</td>\n",
              "      <td>1.025330</td>\n",
              "      <td>6</td>\n",
              "    </tr>\n",
              "    <tr>\n",
              "      <th>7</th>\n",
              "      <td>0.157828</td>\n",
              "      <td>1.099579</td>\n",
              "      <td>0.170515</td>\n",
              "      <td>1.187969</td>\n",
              "      <td>7</td>\n",
              "    </tr>\n",
              "    <tr>\n",
              "      <th>8</th>\n",
              "      <td>0.187516</td>\n",
              "      <td>1.306412</td>\n",
              "      <td>0.191322</td>\n",
              "      <td>1.332930</td>\n",
              "      <td>8</td>\n",
              "    </tr>\n",
              "    <tr>\n",
              "      <th>9</th>\n",
              "      <td>0.235727</td>\n",
              "      <td>1.642297</td>\n",
              "      <td>0.206039</td>\n",
              "      <td>1.435463</td>\n",
              "      <td>9</td>\n",
              "    </tr>\n",
              "    <tr>\n",
              "      <th>10</th>\n",
              "      <td>0.313039</td>\n",
              "      <td>2.180926</td>\n",
              "      <td>0.272958</td>\n",
              "      <td>1.901682</td>\n",
              "      <td>10</td>\n",
              "    </tr>\n",
              "  </tbody>\n",
              "</table>\n",
              "</div>"
            ],
            "text/plain": [
              "          Default  Lift Factor_model_with_loan   Default  Lift Factor  Deciles\n",
              "deciles                                                                       \n",
              "1        0.036530                     0.254500  0.069001     0.480723        2\n",
              "2        0.063689                     0.443721  0.054047     0.376544        1\n",
              "3        0.080436                     0.560396  0.090586     0.631109        3\n",
              "4        0.098960                     0.689446  0.118752     0.827336        5\n",
              "5        0.116468                     0.811425  0.114945     0.800818        4\n",
              "6        0.145141                     1.011188  0.147171     1.025330        6\n",
              "7        0.157828                     1.099579  0.170515     1.187969        7\n",
              "8        0.187516                     1.306412  0.191322     1.332930        8\n",
              "9        0.235727                     1.642297  0.206039     1.435463        9\n",
              "10       0.313039                     2.180926  0.272958     1.901682       10"
            ]
          },
          "metadata": {
            "tags": []
          },
          "execution_count": 95
        }
      ]
    },
    {
      "cell_type": "code",
      "metadata": {
        "colab": {
          "base_uri": "https://localhost:8080/",
          "height": 296
        },
        "id": "clpeU5aaLaLk",
        "outputId": "e25bf8e8-2f87-4264-e53c-b490539eecfd"
      },
      "source": [
        "# draw ROC curve\n",
        "#plot ROC curve for the alternative model, that uses only\n",
        "glm_loan_roc = simple_roc(df.Default==1,df.phat3)\n",
        "glm_simple_roc['Model'] = 'grade'\n",
        "glm_loan_roc['Model'] = 'loan'\n",
        "\n",
        "New_ROC=glm_simple_roc.append(glm_loan_roc)\n",
        "plt.figure()\n",
        "ax = sns.lineplot(data=New_ROC, x=\"FPR\", y=\"TPR\",hue='Model')\n",
        "plt.plot([0, 1], [0, 1], color='grey', linestyle='dashed',linewidth=2)"
      ],
      "execution_count": 99,
      "outputs": [
        {
          "output_type": "execute_result",
          "data": {
            "text/plain": [
              "[<matplotlib.lines.Line2D at 0x7f93481993d0>]"
            ]
          },
          "metadata": {
            "tags": []
          },
          "execution_count": 99
        },
        {
          "output_type": "display_data",
          "data": {
            "image/png": "[encoded data removed]",
            "text/plain": [
              "<Figure size 432x288 with 1 Axes>"
            ]
          },
          "metadata": {
            "tags": [],
            "needs_background": "light"
          }
        }
      ]
    },
    {
      "cell_type": "markdown",
      "metadata": {
        "id": "61dihhsYN6JE"
      },
      "source": [
        "By comparing the lift table and the ROC curve, we can see that the original grade model is better. The possible reason might because the loan amount is not significant,also when thinking about the intercept, setting all variables to its fixed level, intercept won't make sense to be a negative number. Especially, when you have no loan amount, default rate would be NA"
      ]
    },
    {
      "cell_type": "markdown",
      "metadata": {
        "id": "_wZjIz2lOb76"
      },
      "source": [
        "iii) Create the squared of the interest rate and add this variable to the last model. Is the coefficient on this variable significant? Please give an intuition for what the coefficients on both int_rate and its squared value imply for the relationship between defaults and the interest rate."
      ]
    },
    {
      "cell_type": "code",
      "metadata": {
        "colab": {
          "base_uri": "https://localhost:8080/",
          "height": 374
        },
        "id": "UzZs7mItObdS",
        "outputId": "b6eeebaa-9843-4e65-dd44-9e7698de4fb1"
      },
      "source": [
        "# fit gression uses loan_amnt, annual_inc,term, int_rate\n",
        "df['int_rate_sqr']=df['int_rate']**2\n",
        "y,X4 = dmatrices('Default ~ loan_amnt + annual_inc + term + int_rate + int_rate_sqr',df,return_type = 'dataframe')\n",
        "logit_model4 = sm.GLM(y,X4,family=sm.families.Binomial()).fit()\n",
        "logit_model4.summary() #regression output"
      ],
      "execution_count": 110,
      "outputs": [
        {
          "output_type": "execute_result",
          "data": {
            "text/html": [
              "<table class=\"simpletable\">\n",
              "<caption>Generalized Linear Model Regression Results</caption>\n",
              "<tr>\n",
              "  <th>Dep. Variable:</th>        <td>Default</td>     <th>  No. Observations:  </th>  <td> 39412</td> \n",
              "</tr>\n",
              "<tr>\n",
              "  <th>Model:</th>                  <td>GLM</td>       <th>  Df Residuals:      </th>  <td> 39406</td> \n",
              "</tr>\n",
              "<tr>\n",
              "  <th>Model Family:</th>        <td>Binomial</td>     <th>  Df Model:          </th>  <td>     5</td> \n",
              "</tr>\n",
              "<tr>\n",
              "  <th>Link Function:</th>         <td>logit</td>      <th>  Scale:             </th> <td>  1.0000</td>\n",
              "</tr>\n",
              "<tr>\n",
              "  <th>Method:</th>                <td>IRLS</td>       <th>  Log-Likelihood:    </th> <td> -15196.</td>\n",
              "</tr>\n",
              "<tr>\n",
              "  <th>Date:</th>            <td>Fri, 16 Apr 2021</td> <th>  Deviance:          </th> <td>  30393.</td>\n",
              "</tr>\n",
              "<tr>\n",
              "  <th>Time:</th>                <td>01:18:02</td>     <th>  Pearson chi2:      </th> <td>4.55e+04</td>\n",
              "</tr>\n",
              "<tr>\n",
              "  <th>No. Iterations:</th>          <td>6</td>        <th>                     </th>     <td> </td>   \n",
              "</tr>\n",
              "<tr>\n",
              "  <th>Covariance Type:</th>     <td>nonrobust</td>    <th>                     </th>     <td> </td>   \n",
              "</tr>\n",
              "</table>\n",
              "<table class=\"simpletable\">\n",
              "<tr>\n",
              "           <td></td>             <th>coef</th>     <th>std err</th>      <th>z</th>      <th>P>|z|</th>  <th>[0.025</th>    <th>0.975]</th>  \n",
              "</tr>\n",
              "<tr>\n",
              "  <th>Intercept</th>          <td>   -4.0353</td> <td>    0.167</td> <td>  -24.201</td> <td> 0.000</td> <td>   -4.362</td> <td>   -3.709</td>\n",
              "</tr>\n",
              "<tr>\n",
              "  <th>term[T. 60 months]</th> <td>    0.4680</td> <td>    0.035</td> <td>   13.190</td> <td> 0.000</td> <td>    0.398</td> <td>    0.538</td>\n",
              "</tr>\n",
              "<tr>\n",
              "  <th>loan_amnt</th>          <td> 1.934e-06</td> <td> 2.31e-06</td> <td>    0.838</td> <td> 0.402</td> <td>-2.59e-06</td> <td> 6.46e-06</td>\n",
              "</tr>\n",
              "<tr>\n",
              "  <th>annual_inc</th>         <td>-5.982e-06</td> <td> 4.64e-07</td> <td>  -12.905</td> <td> 0.000</td> <td>-6.89e-06</td> <td>-5.07e-06</td>\n",
              "</tr>\n",
              "<tr>\n",
              "  <th>int_rate</th>           <td>   25.5300</td> <td>    2.458</td> <td>   10.385</td> <td> 0.000</td> <td>   20.712</td> <td>   30.348</td>\n",
              "</tr>\n",
              "<tr>\n",
              "  <th>int_rate_sqr</th>       <td>  -44.9436</td> <td>    8.985</td> <td>   -5.002</td> <td> 0.000</td> <td>  -62.554</td> <td>  -27.333</td>\n",
              "</tr>\n",
              "</table>"
            ],
            "text/plain": [
              "<class 'statsmodels.iolib.summary.Summary'>\n",
              "\"\"\"\n",
              "                 Generalized Linear Model Regression Results                  \n",
              "==============================================================================\n",
              "Dep. Variable:                Default   No. Observations:                39412\n",
              "Model:                            GLM   Df Residuals:                    39406\n",
              "Model Family:                Binomial   Df Model:                            5\n",
              "Link Function:                  logit   Scale:                          1.0000\n",
              "Method:                          IRLS   Log-Likelihood:                -15196.\n",
              "Date:                Fri, 16 Apr 2021   Deviance:                       30393.\n",
              "Time:                        01:18:02   Pearson chi2:                 4.55e+04\n",
              "No. Iterations:                     6                                         \n",
              "Covariance Type:            nonrobust                                         \n",
              "======================================================================================\n",
              "                         coef    std err          z      P>|z|      [0.025      0.975]\n",
              "--------------------------------------------------------------------------------------\n",
              "Intercept             -4.0353      0.167    -24.201      0.000      -4.362      -3.709\n",
              "term[T. 60 months]     0.4680      0.035     13.190      0.000       0.398       0.538\n",
              "loan_amnt           1.934e-06   2.31e-06      0.838      0.402   -2.59e-06    6.46e-06\n",
              "annual_inc         -5.982e-06   4.64e-07    -12.905      0.000   -6.89e-06   -5.07e-06\n",
              "int_rate              25.5300      2.458     10.385      0.000      20.712      30.348\n",
              "int_rate_sqr         -44.9436      8.985     -5.002      0.000     -62.554     -27.333\n",
              "======================================================================================\n",
              "\"\"\""
            ]
          },
          "metadata": {
            "tags": []
          },
          "execution_count": 110
        }
      ]
    },
    {
      "cell_type": "markdown",
      "metadata": {
        "id": "AccQyHmfPDys"
      },
      "source": [
        "The sqaured of interest rate variable is significant by the p-value in the output of regression. The riskier borrower would be assigned a higher interest rate and it"
      ]
    }
  ]
}