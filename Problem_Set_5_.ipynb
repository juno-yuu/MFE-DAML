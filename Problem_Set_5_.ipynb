{
  "nbformat": 4,
  "nbformat_minor": 0,
  "metadata": {
    "colab": {
      "name": "Problem Set 5 .ipynb",
      "provenance": [],
      "toc_visible": true,
      "authorship_tag": "ABX9TyPNL6VJyPqgexvpbbsvTGzz",
      "include_colab_link": true
    },
    "kernelspec": {
      "name": "python3",
      "display_name": "Python 3"
    },
    "language_info": {
      "name": "python"
    }
  },
  "cells": [
    {
      "cell_type": "markdown",
      "metadata": {
        "id": "view-in-github",
        "colab_type": "text"
      },
      "source": [
        "<a href=\"https://colab.research.google.com/github/juno-yuu/MFE-DAML/blob/main/Problem_Set_5_.ipynb\" target=\"_parent\"><img src=\"https://colab.research.google.com/assets/colab-badge.svg\" alt=\"Open In Colab\"/></a>"
      ]
    },
    {
      "cell_type": "markdown",
      "metadata": {
        "id": "tr8sPhUL1wMy"
      },
      "source": [
        "## Question 1:\n",
        "### Simulate 1500 realizations of two uncorrelated standard Normal variables. Call the simulated variables $x_1$and $x_2$ and use these simulated variables as your predictors for y. Simulate 1500 outcomes for y for each of the two models"
      ]
    },
    {
      "cell_type": "code",
      "metadata": {
        "id": "zuS-A-1b1rzY",
        "colab": {
          "base_uri": "https://localhost:8080/"
        },
        "outputId": "68f28be6-f48f-4e3a-dc99-8e9c6b689527"
      },
      "source": [
        "import os\n",
        "import pandas  as pd\n",
        "import seaborn as sns\n",
        "import numpy   as np\n",
        "import matplotlib.pyplot       as plt\n",
        "import statsmodels.api as sm\n",
        "import statsmodels.formula.api as smf\n",
        "from patsy              import dmatrices\n",
        "import xgboost as xgb\n",
        "import matplotlib.pyplot as plt\n",
        "from sklearn.ensemble import RandomForestRegressor\n",
        "from sklearn.model_selection import train_test_split,GridSearchCV\n",
        "from sklearn.linear_model import LinearRegression,ElasticNetCV,ElasticNet\n",
        "import random\n",
        "from sklearn.metrics import mean_squared_error\n",
        "import warnings\n",
        "from IPython.display import display, Latex\n",
        "warnings.filterwarnings(\"ignore\")"
      ],
      "execution_count": 1,
      "outputs": [
        {
          "output_type": "stream",
          "text": [
            "/usr/local/lib/python3.7/dist-packages/statsmodels/tools/_testing.py:19: FutureWarning: pandas.util.testing is deprecated. Use the functions in the public API at pandas.testing instead.\n",
            "  import pandas.util.testing as tm\n"
          ],
          "name": "stderr"
        }
      ]
    },
    {
      "cell_type": "code",
      "metadata": {
        "id": "XXc12PgayP0M",
        "colab": {
          "base_uri": "https://localhost:8080/"
        },
        "outputId": "c345e2de-1fb2-4901-b1e7-b5846a7426e0"
      },
      "source": [
        "# mount your Google Drive so you can locate your data files.\n",
        "from google.colab import drive\n",
        "drive.mount('/content/drive')#@title"
      ],
      "execution_count": 2,
      "outputs": [
        {
          "output_type": "stream",
          "text": [
            "Mounted at /content/drive\n"
          ],
          "name": "stdout"
        }
      ]
    },
    {
      "cell_type": "code",
      "metadata": {
        "id": "3u8c2ax_yZfZ"
      },
      "source": [
        "# set seed to guarantee the same number\n",
        "random.seed(123)\n",
        "x = pd.DataFrame(np.random.normal(size = (1500,2)),columns=['x1','x2'])\n"
      ],
      "execution_count": 9,
      "outputs": []
    },
    {
      "cell_type": "markdown",
      "metadata": {
        "id": "GImIdK8UzaGv"
      },
      "source": [
        "a) $y=1.5x_1 -2 x_2 + \\varepsilon$\n",
        "\n",
        "b)  \\begin{cases} \n",
        "      1.5x_1-2x_2+\\varepsilon & x < 0 \\\\\n",
        "      1.5ln(x_1)+\\varepsilon & x\\geq0 \n",
        "   \\end{cases}\n",
        "where $\\varepsilon$ is a Standard Normal uncorrelated with $x_1$ and $x_2$.\n",
        "\n",
        "Use the first 1000 observations\n",
        "of x_1, x_2, and y as your training sample and observations 1001-1500 as your test sample."
      ]
    },
    {
      "cell_type": "markdown",
      "metadata": {
        "id": "qGDhRkqaey2U"
      },
      "source": [
        "(i) OLS regression"
      ]
    },
    {
      "cell_type": "code",
      "metadata": {
        "id": "4hvAdtWKUfUL"
      },
      "source": [
        "  x = pd.DataFrame(np.random.normal(size = (1500,2)),columns=['x1','x2'])\n",
        "  # create y_a\n",
        "  y_a = pd.DataFrame(1.5*x.iloc[:,0]-2*x.iloc[:,1]+np.random.normal(size = 1500),columns=['y_a'])\n",
        "  # create y_b\n",
        "  y_b = pd.DataFrame(np.where(x.iloc[:,0] < 0, 1.5*x.iloc[:,0]-2*x.iloc[:,1]+np.random.normal(size = 1500), 1.5*np.log(x.iloc[:,0])+np.random.normal(size = 1500)),columns=['y_b'])\n",
        "  q1_df = pd.concat([x,y_a,y_b],axis=1)\n",
        "  train_df = q1_df.iloc[0:1000]\n",
        "  test_df = q1_df.iloc[1000:]"
      ],
      "execution_count": 10,
      "outputs": []
    },
    {
      "cell_type": "code",
      "metadata": {
        "id": "7mzmr5ZhzgHN"
      },
      "source": [
        "# write a function to the whole process\n",
        "def NormalGenerator(seed):\n",
        "  random.seed(seed)\n",
        "  x = pd.DataFrame(np.random.normal(size = (1500,2)),columns=['x1','x2'])\n",
        "  # create y_a\n",
        "  y_a = pd.DataFrame(1.5*x.iloc[:,0]-2*x.iloc[:,1]+np.random.normal(size = 1500),columns=['y_a'])\n",
        "  # create y_b\n",
        "  y_b = pd.DataFrame(np.where(x.iloc[:,0] < 0, 1.5*x.iloc[:,0]-2*x.iloc[:,1]+np.random.normal(size = 1500), 1.5*np.log(x.iloc[:,0])+np.random.normal(size = 1500)),columns=['y_b'])\n",
        "  q1_df = pd.concat([x,y_a,y_b],axis=1)\n",
        "  train_df = q1_df.iloc[0:1000]\n",
        "  test_df = q1_df.iloc[1000:]\n",
        "  out_a = smf.ols('y_a~x1+x2', data = train_df).fit()\n",
        "  y_pred_a = out_a.predict(test_df.iloc[:,0:2])\n",
        "  mse_a = mean_squared_error(test_df['y_a'], y_pred_a)\n",
        "  out_b = smf.ols('y_b~x1+x2', data = train_df).fit()\n",
        "  y_pred_b = out_b.predict(test_df.iloc[:,0:2])\n",
        "  mse_b = mean_squared_error(test_df['y_b'], y_pred_b)\n",
        "  return mse_a,mse_b"
      ],
      "execution_count": 11,
      "outputs": []
    },
    {
      "cell_type": "code",
      "metadata": {
        "id": "mHYwONsLzYFK"
      },
      "source": [
        "# repeat simulation for 500 times\n",
        "mse = pd.DataFrame()\n",
        "for i in range(500):\n",
        "  mse[i] = NormalGenerator(i)"
      ],
      "execution_count": 12,
      "outputs": []
    },
    {
      "cell_type": "code",
      "metadata": {
        "colab": {
          "base_uri": "https://localhost:8080/",
          "height": 301
        },
        "id": "ujQDE5Q-1pOW",
        "outputId": "36ecd497-1828-40b4-b6ed-ab3ab76e9894"
      },
      "source": [
        "# OLS hist\n",
        "plt.hist(mse,alpha=0.5,bins=30)\n",
        "plt.legend(('OLS MSE of $y_a$', 'OLS MSE of $y_b$'), loc='upper right')\n",
        "plt.xlim(0.5,4.5)\n",
        "plt.xlabel(\"MSE Value\", fontsize=16)  \n",
        "plt.ylabel(\"Frequency\", fontsize=16)"
      ],
      "execution_count": 16,
      "outputs": [
        {
          "output_type": "execute_result",
          "data": {
            "text/plain": [
              "Text(0, 0.5, 'Frequency')"
            ]
          },
          "metadata": {
            "tags": []
          },
          "execution_count": 16
        },
        {
          "output_type": "display_data",
          "data": {
            "image/png": "[encoded data removed]",
            "text/plain": [
              "<Figure size 432x288 with 1 Axes>"
            ]
          },
          "metadata": {
            "tags": [],
            "needs_background": "light"
          }
        }
      ]
    },
    {
      "cell_type": "markdown",
      "metadata": {
        "id": "Qi0S8-dD6Wh2"
      },
      "source": [
        "ii) Random Forest  with n_estimators = 250 and max_depth = 10"
      ]
    },
    {
      "cell_type": "code",
      "metadata": {
        "id": "OLhHGt6w6V89"
      },
      "source": [
        "def RandomForestGenerator(seed):\n",
        "  random.seed(seed)\n",
        "  x = pd.DataFrame(np.random.normal(size = (1500,2)),columns=['x1','x2'])\n",
        "  # create y_a\n",
        "  y_a = pd.DataFrame(1.5*x.iloc[:,0]-2*x.iloc[:,1]+np.random.normal(size = 1500),columns=['y_a'])\n",
        "  # create y_b\n",
        "  y_b = pd.DataFrame(np.where(x.iloc[:,0] < 0, 1.5*x.iloc[:,0]-2*x.iloc[:,1]+np.random.normal(size = 1500), 1.5*np.log(x.iloc[:,0])+np.random.normal(size = 1500)),columns=['y_b'])\n",
        "  q1_df = pd.concat([x,y_a,y_b],axis=1)\n",
        "  train_df = q1_df.iloc[0:1000]\n",
        "  test_df = q1_df.iloc[1000:]\n",
        "  rf = RandomForestRegressor(n_estimators=250,max_depth=10)\n",
        "  rf_a = rf.fit(x.iloc[0:1000],train_df['y_a'])\n",
        "  y_pred_a = rf_a.predict(test_df.iloc[:,0:2])\n",
        "  mse_a = mean_squared_error(test_df['y_a'], y_pred_a)\n",
        "  rf_b = rf.fit(x.iloc[0:1000],train_df['y_b'])\n",
        "  y_pred_b = rf_b.predict(test_df.iloc[:,0:2])\n",
        "  mse_b = mean_squared_error(test_df['y_b'], y_pred_b)\n",
        "  return mse_a,mse_b"
      ],
      "execution_count": null,
      "outputs": []
    },
    {
      "cell_type": "code",
      "metadata": {
        "id": "6vZpeDdi75Sh"
      },
      "source": [
        "mse_rf = pd.DataFrame()\n",
        "for i in range(500):\n",
        "  mse_rf[i] = RandomForestGenerator(i)"
      ],
      "execution_count": null,
      "outputs": []
    },
    {
      "cell_type": "code",
      "metadata": {
        "colab": {
          "base_uri": "https://localhost:8080/",
          "height": 301
        },
        "id": "GZJr8tiA-Gif",
        "outputId": "39ccf34b-3026-4b0f-f740-2fa3a46319c0"
      },
      "source": [
        "plt.hist(mse_rf,alpha=0.5)\n",
        "plt.legend(('Random Forest MSE of $y_a$', 'Random Forest MSE of $y_b$'), loc='upper right');\n",
        "\n",
        "plt.xlabel(\"MSE Value\", fontsize=16)  \n",
        "plt.ylabel(\"Frequency\", fontsize=16)"
      ],
      "execution_count": null,
      "outputs": [
        {
          "output_type": "execute_result",
          "data": {
            "text/plain": [
              "Text(0, 0.5, 'Frequency')"
            ]
          },
          "metadata": {
            "tags": []
          },
          "execution_count": 275
        },
        {
          "output_type": "display_data",
          "data": {
            "image/png": "[encoded data removed]",
            "text/plain": [
              "<Figure size 432x288 with 1 Axes>"
            ]
          },
          "metadata": {
            "tags": [],
            "needs_background": "light"
          }
        }
      ]
    },
    {
      "cell_type": "markdown",
      "metadata": {
        "id": "ODjwYsarGPmd"
      },
      "source": [
        "(iii) XGBoost with learning_rate=0.3, gamma=0, and max_depth=6; use 20 rounds and 10\n",
        "folds for the cross-validation procedure. Make sure that the output of the crossvalidation\n",
        "procedure does not appear in your final write-up."
      ]
    },
    {
      "cell_type": "code",
      "metadata": {
        "id": "2tyqsXt6D9nA"
      },
      "source": [
        "def XGBoostGenerator(seed):\n",
        "  random.seed(seed)\n",
        "  x = pd.DataFrame(np.random.normal(size = (1500,2)),columns=['x1','x2'])\n",
        "  # create y_a\n",
        "  y_a = pd.DataFrame(1.5*x.iloc[:,0]-2*x.iloc[:,1]+np.random.normal(size = 1500),columns=['y_a'])\n",
        "  # create y_b\n",
        "  y_b = pd.DataFrame(np.where(x.iloc[:,0] < 0, 1.5*x.iloc[:,0]-2*x.iloc[:,1]+np.random.normal(size = 1500), 1.5*np.log(x.iloc[:,0])+np.random.normal(size = 1500)),columns=['y_b'])\n",
        "  q1_df = pd.concat([x,y_a,y_b],axis=1)\n",
        "  train_df = q1_df.iloc[0:1000]\n",
        "  test_df = q1_df.iloc[1000:]\n",
        "  xgb_regressor = xgb.XGBRegressor(\n",
        "    booster = \"gbtree\",             # Which booster to use\n",
        "    objective = \"reg:squarederror\", # Specify the learning task\n",
        "    #n_estimators = 999,             # Number of trees in random forest to fit\n",
        "    #reg_lambda = 10,                 # L2 regularization term\n",
        "    gamma = 0,                      # Minimum loss reduction\n",
        "    max_depth = 6,                  # Maximum tree depth\n",
        "    learning_rate = 0.3             # Learning rate, eta \n",
        "  )\n",
        "  xgb_parm = xgb_regressor.get_xgb_params()\n",
        "  # Hyper parameter tuning for XGBOOST using cross-validation (maximal # of trees)\n",
        "  # XGBoost uses Dmatrices\n",
        "  xgb_train = xgb.DMatrix(x.iloc[0:1000],label = train_df['y_a'])\n",
        "  # Cross-validation\n",
        "  xgb_cvresult = xgb.cv(xgb_parm, xgb_train, \n",
        "                      num_boost_round = 20, \n",
        "                      metrics = \"rmse\",\n",
        "                      nfold = 10,\n",
        "                      stratified=False, \n",
        "                      seed=i,\n",
        "                      early_stopping_rounds=3)\n",
        "\n",
        "  # Update parameters (# of trees)\n",
        "  xgb_regressor.set_params(n_estimators = xgb_cvresult.shape[0])\n",
        "\n",
        "  # Train the model\n",
        "  xgb_a = xgb_regressor.fit(x.iloc[0:1000],train_df['y_a'])\n",
        "  y_pred_a = xgb_regressor.predict(test_df.iloc[:,0:2],ntree_limit = xgb_cvresult.shape[0])\n",
        "  mse_a = mean_squared_error(test_df['y_a'], y_pred_a)\n",
        "  xgb_b = xgb_regressor.fit(x.iloc[0:1000],train_df['y_b'])\n",
        "  y_pred_b = xgb_regressor.predict(test_df.iloc[:,0:2],ntree_limit = xgb_cvresult.shape[0])\n",
        "  mse_b = mean_squared_error(test_df['y_b'], y_pred_b)\n",
        "  return mse_a,mse_b"
      ],
      "execution_count": null,
      "outputs": []
    },
    {
      "cell_type": "code",
      "metadata": {
        "id": "PY_AwzsvEhQb"
      },
      "source": [
        "mse_xgb = pd.DataFrame()\n",
        "for i in range(500):\n",
        "  mse_xgb[i] = XGBoostGenerator(i)"
      ],
      "execution_count": null,
      "outputs": []
    },
    {
      "cell_type": "code",
      "metadata": {
        "colab": {
          "base_uri": "https://localhost:8080/",
          "height": 301
        },
        "id": "E1jkcpsfElMG",
        "outputId": "f32b40d9-5f78-4f72-9da9-8bd7720a7c32"
      },
      "source": [
        "plt.hist(mse_xgb,alpha=0.5)\n",
        "plt.legend(('XGBoost MSE of $y_a$', 'XGBoost MSE of $y_b$'), loc='upper right');\n",
        "\n",
        "plt.xlabel(\"MSE Value\", fontsize=16)  \n",
        "plt.ylabel(\"Frequency\", fontsize=16)"
      ],
      "execution_count": null,
      "outputs": [
        {
          "output_type": "execute_result",
          "data": {
            "text/plain": [
              "Text(0, 0.5, 'Frequency')"
            ]
          },
          "metadata": {
            "tags": []
          },
          "execution_count": 415
        },
        {
          "output_type": "display_data",
          "data": {
            "image/png": "[encoded data removed]",
            "text/plain": [
              "<Figure size 432x288 with 1 Axes>"
            ]
          },
          "metadata": {
            "tags": [],
            "needs_background": "light"
          }
        }
      ]
    },
    {
      "cell_type": "markdown",
      "metadata": {
        "id": "NHND5hz_xNl0"
      },
      "source": [
        "**Comment:** We can see from the three histogram plot that, MSE of $y_b$ is significantly larger than $y_a$. For $y_a$, OLS regression did better as $y_a$ was generated in the way of linear type. However, in terms of $y_b$, the two classfication model did better and it is conform with the generation process. XGBoost did slightly better than the Random Forest in the classification process."
      ]
    },
    {
      "cell_type": "markdown",
      "metadata": {
        "id": "DF76tIJpGsg2"
      },
      "source": [
        "## Question 2: "
      ]
    },
    {
      "cell_type": "code",
      "metadata": {
        "id": "x6oqLQIYCK2v"
      },
      "source": [
        "housing = pd.read_csv(\"/content/drive/MyDrive/MFE 431 DAML /housing.csv\") #load_data\n",
        "sample_n = 400\n",
        "X = housing.drop(columns = ['medv','nox'])\n",
        "y = housing[['medv']]\n",
        "train_X,test_X = X[:sample_n],X[sample_n:]\n",
        "train_y,test_y = y[:sample_n],y[sample_n:]"
      ],
      "execution_count": 18,
      "outputs": []
    },
    {
      "cell_type": "markdown",
      "metadata": {
        "id": "LMYcvmALIjEY"
      },
      "source": [
        "(a) Use random forest with n_estimators=250 and max_depth=10.\n",
        "Once you run the random forest, use Python’s rf.predict function to obtain predicted\n",
        "values for the test sample. What is the MSE of the prediction? Compare this to the\n",
        "benchmark MSE generated by a model that has as its predicted house value the\n",
        "mean house value in the test sample. As in the class notes, also report the Pseudo-R2\n",
        "implied by these MSEs"
      ]
    },
    {
      "cell_type": "code",
      "metadata": {
        "colab": {
          "base_uri": "https://localhost:8080/"
        },
        "id": "7KpIGYj1KQIF",
        "outputId": "45690e33-3f77-4d45-bc51-013b54c642e5"
      },
      "source": [
        "rf = RandomForestRegressor(n_estimators=250,max_depth=10)\n",
        "rf_res = rf.fit(train_X,train_y)\n",
        "y_rf_pred = rf_res.predict(test_X)\n",
        "MSE_RF = mean_squared_error(test_y, y_rf_pred)\n",
        "# Compute pseudo r2\n",
        "MSE_Baseline = np.mean(np.square((test_y - np.mean(test_y))))\n",
        "PseudoR2 = 1 - MSE_RF / MSE_Baseline\n",
        "print(\"MSE for Random Forest is {:.4}\".format(MSE_RF))\n",
        "print(\"MSE Baseline for Random Forest is {:.4}\".format(MSE_Baseline['medv']))\n",
        "print(\"Pseudo R2 for Random Forest is {:.2%}\".format(PseudoR2['medv']))"
      ],
      "execution_count": 32,
      "outputs": [
        {
          "output_type": "stream",
          "text": [
            "MSE for Random Forest is 20.27\n",
            "MSE Baseline for Random Forest is 28.26\n",
            "Pseudo R2 for Random Forest is 28.27%\n"
          ],
          "name": "stdout"
        }
      ]
    },
    {
      "cell_type": "markdown",
      "metadata": {
        "id": "dtlqf82uaL94"
      },
      "source": [
        "(b) Repeat the same exercise as above using XGBoost with learning_rate=0.1, gamma=0,\n",
        "max_depth=6. Use 10 folds and 200 rounds for the cross-validation procedure. Make\n",
        "sure that the output of the cross-validation procedure does not appear in your final\n",
        "write-up."
      ]
    },
    {
      "cell_type": "code",
      "metadata": {
        "colab": {
          "base_uri": "https://localhost:8080/"
        },
        "id": "iD7p1McJaP7x",
        "outputId": "76facbf6-ee35-4dc8-8806-796ea05d2f04"
      },
      "source": [
        "xgb_regressor = xgb.XGBRegressor(\n",
        "    booster = \"gbtree\",             # Which booster to use\n",
        "    objective = \"reg:squarederror\", # Specify the learning task\n",
        "    n_estimators = 999,             # Number of trees in random forest to fit\n",
        "    reg_lambda = 10,                 # L2 regularization term\n",
        "    gamma = 0,                      # Minimum loss reduction\n",
        "    max_depth = 6,                  # Maximum tree depth\n",
        "    learning_rate = 0.1             # Learning rate, eta \n",
        "  )\n",
        "xgb_parm = xgb_regressor.get_xgb_params()\n",
        "# Hyper parameter tuning for XGBOOST using cross-validation (maximal # of trees)\n",
        "# XGBoost uses Dmatrices\n",
        "xgb_train = xgb.DMatrix(train_X,label= train_y)\n",
        "# Cross-validation\n",
        "xgb_cvresult = xgb.cv(xgb_parm, xgb_train, \n",
        "                      num_boost_round = 200, \n",
        "                      metrics = \"rmse\",\n",
        "                      nfold = 10,\n",
        "                      stratified=False, \n",
        "                      seed=1,\n",
        "                      early_stopping_rounds=20)\n",
        "\n",
        "# Update parameters (# of trees)\n",
        "xgb_regressor.set_params(n_estimators = xgb_cvresult.shape[0])\n",
        "\n",
        "# Train the model\n",
        "xgb_housing = xgb_regressor.fit(train_X,train_y)\n",
        "y_xgb_pred = xgb_regressor.predict(test_X,ntree_limit = xgb_cvresult.shape[0])\n",
        "MSE_XGB = mean_squared_error(test_y, y_xgb_pred)\n",
        "# Compute pseudo r2\n",
        "PseudoR2_xgb = 1 - MSE_XGB / MSE_Baseline\n",
        "print(\"MSE for XGBoost is {:.4}\".format(MSE_XGB))\n",
        "print(\"Pseudo R2 for XGBoost is {:.2%}\".format(PseudoR2_xgb['medv']))"
      ],
      "execution_count": 39,
      "outputs": [
        {
          "output_type": "stream",
          "text": [
            "MSE for XGBoost is 15.83\n",
            "Pseudo R2 for XGBoost is 43.97%\n"
          ],
          "name": "stdout"
        }
      ]
    },
    {
      "cell_type": "markdown",
      "metadata": {
        "id": "HMmNAjS0bDQ5"
      },
      "source": [
        "(c) Repeat the exercise in part (a) using elastic net with l1_ratio=0.5. Use a crossvalidation\n",
        "procedure to find an optimal lambda (alpha). For that exercise, split the\n",
        "training sample into quarters (i.e., the 4-fold cross-validation).\n",
        "Comment on the performance of the linear model relative to decision trees. In\n",
        "particular, get the MSE for the test sample and compute the Pseudo-R2 relative to\n",
        "the benchmark MSE from a)."
      ]
    },
    {
      "cell_type": "code",
      "metadata": {
        "colab": {
          "base_uri": "https://localhost:8080/"
        },
        "id": "dEUFViTchaP6",
        "outputId": "0beb5520-a14a-45af-ed4e-4fb1a773f3c6"
      },
      "source": [
        "parametersGrid = {'alpha': (10 ** np.linspace(10, -10, 500) * 0.002)}\n",
        "eNet = ElasticNet(l1_ratio=0.5,max_iter=10^6)\n",
        "grid = GridSearchCV(eNet, parametersGrid, scoring='neg_mean_squared_error', cv=4)\n",
        "indx = ~np.isnan(train_X).any(axis=1)\n",
        "X_train = train_X[indx]\n",
        "Y_train = train_y[indx]\n",
        "grid.fit(X_train, Y_train)\n",
        "Y_pred_Enet = grid.predict(test_X)\n",
        "MSE_ENet = mean_squared_error(test_y, Y_pred_Enet)\n",
        "# Compute pseudo r2\n",
        "PseudoR2_enet = 1 - MSE_ENet / MSE_Baseline\n",
        "print(\"MSE for Elastic Net is {:.4}\".format(MSE_ENet))\n",
        "print(\"Pseudo R2 for Elastic Net is {:.2%}\".format(PseudoR2_enet['medv']))"
      ],
      "execution_count": 40,
      "outputs": [
        {
          "output_type": "stream",
          "text": [
            "MSE for Elastic Net is 30.1\n",
            "Pseudo R2 for Elastic Net is -6.52%\n"
          ],
          "name": "stdout"
        }
      ]
    },
    {
      "cell_type": "markdown",
      "metadata": {
        "id": "7euIWAfDwjgk"
      },
      "source": [
        "**Comment:** In terms of the Psuedo $R^2$ we can see that the regression is better than the linear model."
      ]
    },
    {
      "cell_type": "markdown",
      "metadata": {
        "id": "t6XE_IM3uiPp"
      },
      "source": [
        "(d) Repeat the exercise in part (c) but use log transformations of the following\n",
        "variables: indus, rm, rad, pt, and lstat. Drop the original variables from your model.\n",
        "Comment on the performance of this version of the linear model relative to decision\n",
        "trees in this case."
      ]
    },
    {
      "cell_type": "code",
      "metadata": {
        "id": "phVCBdN6uc2M"
      },
      "source": [
        "housing_log= pd.concat([housing,housing[['indus','rm','rad','ptratio','lstat']].apply(np.log, axis=1).add_suffix('log')],axis=1)\n",
        "X_log = housing_log.drop(columns = ['medv','nox','indus','rm','rad','ptratio','lstat'])\n",
        "y_log = housing_log[['medv']]\n",
        "train_log_X,test_log_X = X_log[:sample_n],X_log[sample_n:]\n",
        "train_log_y,test_log_y = y_log[:sample_n],y_log[sample_n:]"
      ],
      "execution_count": 42,
      "outputs": []
    },
    {
      "cell_type": "code",
      "metadata": {
        "colab": {
          "base_uri": "https://localhost:8080/"
        },
        "id": "k4dOzQx8v9Ry",
        "outputId": "324cc083-c20d-405f-f79a-874b71c67b74"
      },
      "source": [
        "parametersGrid = {'alpha': (10 ** np.linspace(10, -10, 500) * 0.002)}\n",
        "eNet = ElasticNet(l1_ratio=0.5,max_iter=10^6)\n",
        "grid = GridSearchCV(eNet, parametersGrid, scoring='neg_mean_squared_error', cv=4)\n",
        "indx = ~np.isnan(train_log_X).any(axis=1)\n",
        "X_train_log = train_log_X[indx]\n",
        "Y_train_log = train_log_y[indx]\n",
        "grid.fit(X_train_log, Y_train_log)\n",
        "Y_pred_Enet_log = grid.predict(test_log_X)\n",
        "MSE_ENet_log = mean_squared_error(test_log_y, Y_pred_Enet_log)\n",
        "# Compute pseudo r2\n",
        "PseudoR2_enet_log = 1 - MSE_ENet_log / MSE_Baseline\n",
        "print(\"MSE for Elastic Net after log transformation is {:.4}\".format(MSE_ENet_log))\n",
        "print(\"Pseudo R2 for Elastic Net after log transformation is {:.2%}\".format(PseudoR2_enet_log['medv']))"
      ],
      "execution_count": 43,
      "outputs": [
        {
          "output_type": "stream",
          "text": [
            "MSE for Elastic Net after log transformation is 15.25\n",
            "Pseudo R2 for Elastic Net after log transformation is 46.03%\n"
          ],
          "name": "stdout"
        }
      ]
    },
    {
      "cell_type": "markdown",
      "metadata": {
        "id": "yK9w7KPZw2bq"
      },
      "source": [
        "**Comment:** After the log transformation, in terms of Psuedo $R^2$ it did bettern than the decision tree."
      ]
    }
  ]
}