{
  "nbformat": 4,
  "nbformat_minor": 0,
  "metadata": {
    "colab": {
      "name": "Project2.ipynb",
      "provenance": [],
      "toc_visible": true,
      "authorship_tag": "ABX9TyPrISECFLZZXzuSiuEHoDDI",
      "include_colab_link": true
    },
    "kernelspec": {
      "name": "python3",
      "display_name": "Python 3"
    },
    "language_info": {
      "name": "python"
    }
  },
  "cells": [
    {
      "cell_type": "markdown",
      "metadata": {
        "id": "view-in-github",
        "colab_type": "text"
      },
      "source": [
        "<a href=\"https://colab.research.google.com/github/juno-yuu/MFE-DAML/blob/main/Project2.ipynb\" target=\"_parent\"><img src=\"https://colab.research.google.com/assets/colab-badge.svg\" alt=\"Open In Colab\"/></a>"
      ]
    },
    {
      "cell_type": "markdown",
      "metadata": {
        "id": "MQ2zfzZ8ngJV"
      },
      "source": [
        "## Project 2"
      ]
    },
    {
      "cell_type": "markdown",
      "metadata": {
        "id": "6XexIH_8pfG7"
      },
      "source": [
        "### Question 1: Fixed effects and within transformation\n",
        "#### You will find a modified version the imports-85.csv (imports85_modified.csv) file attached to this assignment. Again, make sure that all continuous variables of interest are numeric.\n",
        "\n",
        "\n",
        "\n",
        "\n"
      ]
    },
    {
      "cell_type": "markdown",
      "metadata": {
        "id": "WWqrtFV8CD-L"
      },
      "source": [
        "#### 1. Regress fuel efficiency (city.mpg) on horsepower without fixed effects. What would you conclude based on that regression?"
      ]
    },
    {
      "cell_type": "code",
      "metadata": {
        "id": "V0Y9gQzOH57j"
      },
      "source": [
        "!pip install linearmodels\n",
        "!pip install panel_ols"
      ],
      "execution_count": null,
      "outputs": []
    },
    {
      "cell_type": "code",
      "metadata": {
        "id": "o0gwDWoPHlbY"
      },
      "source": [
        "import os\n",
        "import matplotlib.pyplot as plt\n",
        "import pandas            as pd\n",
        "import numpy             as np\n",
        "import seaborn           as sns\n",
        "from sklearn.linear_model import LinearRegression\n",
        "import statsmodels.api as sm\n",
        "import statsmodels.formula.api as smf\n",
        "from statsmodels.nonparametric.smoothers_lowess import lowess\n",
        "import scipy.stats as stats\n",
        "from linearmodels.panel import PanelOLS, FamaMacBeth\n",
        "from patsy              import dmatrices"
      ],
      "execution_count": 109,
      "outputs": []
    },
    {
      "cell_type": "code",
      "metadata": {
        "id": "Sdh63FpuFcte"
      },
      "source": [
        "# To suppress false warnings with pandas\n",
        "pd.options.mode.chained_assignment = None  # default='warn'"
      ],
      "execution_count": 2,
      "outputs": []
    },
    {
      "cell_type": "code",
      "metadata": {
        "id": "1OTHsABiKcWX",
        "colab": {
          "base_uri": "https://localhost:8080/"
        },
        "outputId": "82a20b6e-2191-4d33-ada3-b25012719a64"
      },
      "source": [
        "# mount your Google Drive so you can locate your data files.\n",
        "from google.colab import drive\n",
        "drive.mount('/content/drive')"
      ],
      "execution_count": 3,
      "outputs": [
        {
          "output_type": "stream",
          "text": [
            "Drive already mounted at /content/drive; to attempt to forcibly remount, call drive.mount(\"/content/drive\", force_remount=True).\n"
          ],
          "name": "stdout"
        }
      ]
    },
    {
      "cell_type": "code",
      "metadata": {
        "id": "8BUvHE-hDDwv",
        "colab": {
          "base_uri": "https://localhost:8080/"
        },
        "outputId": "45585a73-a515-4c5a-8f8d-1d891a041955"
      },
      "source": [
        "#@title\n",
        "from google.colab import drive\n",
        "drive.mount('/content/drive')"
      ],
      "execution_count": 4,
      "outputs": [
        {
          "output_type": "stream",
          "text": [
            "Drive already mounted at /content/drive; to attempt to forcibly remount, call drive.mount(\"/content/drive\", force_remount=True).\n"
          ],
          "name": "stdout"
        }
      ]
    },
    {
      "cell_type": "code",
      "metadata": {
        "id": "LWLCNPX5K-YW",
        "colab": {
          "base_uri": "https://localhost:8080/",
          "height": 204
        },
        "outputId": "da8221f3-faaa-4df2-8526-d345a880d0b5"
      },
      "source": [
        "df = pd.read_csv(\"/content/imports85_modified.csv\")\n",
        "df = df.rename(columns={\"city.mpg\":\"citympg\"})\n",
        "df = df[['num.of.cylinders','horsepower','citympg']]\n",
        "df = df.dropna()\n",
        "df.head()"
      ],
      "execution_count": 83,
      "outputs": [
        {
          "output_type": "execute_result",
          "data": {
            "text/html": [
              "<div>\n",
              "<style scoped>\n",
              "    .dataframe tbody tr th:only-of-type {\n",
              "        vertical-align: middle;\n",
              "    }\n",
              "\n",
              "    .dataframe tbody tr th {\n",
              "        vertical-align: top;\n",
              "    }\n",
              "\n",
              "    .dataframe thead th {\n",
              "        text-align: right;\n",
              "    }\n",
              "</style>\n",
              "<table border=\"1\" class=\"dataframe\">\n",
              "  <thead>\n",
              "    <tr style=\"text-align: right;\">\n",
              "      <th></th>\n",
              "      <th>num.of.cylinders</th>\n",
              "      <th>horsepower</th>\n",
              "      <th>citympg</th>\n",
              "    </tr>\n",
              "  </thead>\n",
              "  <tbody>\n",
              "    <tr>\n",
              "      <th>0</th>\n",
              "      <td>four</td>\n",
              "      <td>111.0</td>\n",
              "      <td>10.5</td>\n",
              "    </tr>\n",
              "    <tr>\n",
              "      <th>1</th>\n",
              "      <td>four</td>\n",
              "      <td>111.0</td>\n",
              "      <td>10.5</td>\n",
              "    </tr>\n",
              "    <tr>\n",
              "      <th>2</th>\n",
              "      <td>six</td>\n",
              "      <td>154.0</td>\n",
              "      <td>28.5</td>\n",
              "    </tr>\n",
              "    <tr>\n",
              "      <th>3</th>\n",
              "      <td>four</td>\n",
              "      <td>102.0</td>\n",
              "      <td>12.0</td>\n",
              "    </tr>\n",
              "    <tr>\n",
              "      <th>4</th>\n",
              "      <td>five</td>\n",
              "      <td>115.0</td>\n",
              "      <td>27.0</td>\n",
              "    </tr>\n",
              "  </tbody>\n",
              "</table>\n",
              "</div>"
            ],
            "text/plain": [
              "  num.of.cylinders  horsepower  citympg\n",
              "0             four       111.0     10.5\n",
              "1             four       111.0     10.5\n",
              "2              six       154.0     28.5\n",
              "3             four       102.0     12.0\n",
              "4             five       115.0     27.0"
            ]
          },
          "metadata": {
            "tags": []
          },
          "execution_count": 83
        }
      ]
    },
    {
      "cell_type": "code",
      "metadata": {
        "colab": {
          "base_uri": "https://localhost:8080/"
        },
        "id": "j_J-i_LZZQmJ",
        "outputId": "b6a6c48e-8cd9-4481-be43-68c0903ca045"
      },
      "source": [
        "model = smf.ols(formula='citympg ~ horsepower',data= df)\n",
        "results = model.fit()\n",
        "print(results.summary())"
      ],
      "execution_count": 84,
      "outputs": [
        {
          "output_type": "stream",
          "text": [
            "                            OLS Regression Results                            \n",
            "==============================================================================\n",
            "Dep. Variable:                citympg   R-squared:                       0.049\n",
            "Model:                            OLS   Adj. R-squared:                  0.044\n",
            "Method:                 Least Squares   F-statistic:                     10.25\n",
            "Date:                Thu, 08 Apr 2021   Prob (F-statistic):            0.00159\n",
            "Time:                        22:18:58   Log-Likelihood:                -689.24\n",
            "No. Observations:                 203   AIC:                             1382.\n",
            "Df Residuals:                     201   BIC:                             1389.\n",
            "Df Model:                           1                                         \n",
            "Covariance Type:            nonrobust                                         \n",
            "==============================================================================\n",
            "                 coef    std err          t      P>|t|      [0.025      0.975]\n",
            "------------------------------------------------------------------------------\n",
            "Intercept     12.2295      1.433      8.534      0.000       9.404      15.055\n",
            "horsepower     0.0411      0.013      3.201      0.002       0.016       0.066\n",
            "==============================================================================\n",
            "Omnibus:                      159.253   Durbin-Watson:                   1.190\n",
            "Prob(Omnibus):                  0.000   Jarque-Bera (JB):             2717.537\n",
            "Skew:                           2.800   Prob(JB):                         0.00\n",
            "Kurtosis:                      20.027   Cond. No.                         314.\n",
            "==============================================================================\n",
            "\n",
            "Notes:\n",
            "[1] Standard Errors assume that the covariance matrix of the errors is correctly specified.\n"
          ],
          "name": "stdout"
        }
      ]
    },
    {
      "cell_type": "markdown",
      "metadata": {
        "id": "iRBT9GwyFBES"
      },
      "source": [
        "From the above regression, the baseline of the regession starts from 12.23 and fuel effcieny would increase 0.0411 for 1 unit horsepower increase."
      ]
    },
    {
      "cell_type": "markdown",
      "metadata": {
        "id": "WAvb_vBBFRzm"
      },
      "source": [
        "#### 2. Repeat the same regression but this time, add a fixed effect for number of cylinders being “two” or “four”. What would you conclude based on this new regression? What do you think drives the results in part 1?"
      ]
    },
    {
      "cell_type": "code",
      "metadata": {
        "colab": {
          "base_uri": "https://localhost:8080/"
        },
        "id": "kcsH-jI-IKT3",
        "outputId": "9f6c0411-ceef-4e44-de6c-5091c99be31b"
      },
      "source": [
        "def conditions(x):\n",
        "    if x == 'four':\n",
        "        return 4\n",
        "    elif x == 'two':\n",
        "        return 2\n",
        "    else:\n",
        "        return 0\n",
        "func = np.vectorize(conditions)\n",
        "df['cylinders_2or4']=func(df['num.of.cylinders'])\n",
        "df['cylinders_2or4'].head()"
      ],
      "execution_count": 85,
      "outputs": [
        {
          "output_type": "execute_result",
          "data": {
            "text/plain": [
              "0    4\n",
              "1    4\n",
              "2    0\n",
              "3    4\n",
              "4    0\n",
              "Name: cylinders_2or4, dtype: int64"
            ]
          },
          "metadata": {
            "tags": []
          },
          "execution_count": 85
        }
      ]
    },
    {
      "cell_type": "code",
      "metadata": {
        "colab": {
          "base_uri": "https://localhost:8080/"
        },
        "id": "5fS30oSgItgj",
        "outputId": "60b4b011-0528-4417-c5e6-85fccb66fb3f"
      },
      "source": [
        "df['cylinders_2or4']=df['cylinders_2or4'].astype(object)\n",
        "model_dummy_cyl = smf.ols(formula='citympg ~ 1+ horsepower + C(cylinders_2or4)',data= df)\n",
        "results = model_dummy_cyl.fit()\n",
        "print(results.summary())"
      ],
      "execution_count": 86,
      "outputs": [
        {
          "output_type": "stream",
          "text": [
            "                            OLS Regression Results                            \n",
            "==============================================================================\n",
            "Dep. Variable:                citympg   R-squared:                       0.827\n",
            "Model:                            OLS   Adj. R-squared:                  0.825\n",
            "Method:                 Least Squares   F-statistic:                     317.7\n",
            "Date:                Thu, 08 Apr 2021   Prob (F-statistic):           1.34e-75\n",
            "Time:                        22:19:08   Log-Likelihood:                -516.05\n",
            "No. Observations:                 203   AIC:                             1040.\n",
            "Df Residuals:                     199   BIC:                             1053.\n",
            "Df Model:                           3                                         \n",
            "Covariance Type:            nonrobust                                         \n",
            "==========================================================================================\n",
            "                             coef    std err          t      P>|t|      [0.025      0.975]\n",
            "------------------------------------------------------------------------------------------\n",
            "Intercept                 43.6865      1.229     35.559      0.000      41.264      46.109\n",
            "C(cylinders_2or4)[T.2]   -24.4047      1.658    -14.715      0.000     -27.675     -21.134\n",
            "C(cylinders_2or4)[T.4]   -21.0808      0.716    -29.457      0.000     -22.492     -19.670\n",
            "horsepower                -0.0996      0.007    -13.645      0.000      -0.114      -0.085\n",
            "==============================================================================\n",
            "Omnibus:                      269.395   Durbin-Watson:                   1.733\n",
            "Prob(Omnibus):                  0.000   Jarque-Bera (JB):            25082.781\n",
            "Skew:                           5.515   Prob(JB):                         0.00\n",
            "Kurtosis:                      56.327   Cond. No.                         910.\n",
            "==============================================================================\n",
            "\n",
            "Notes:\n",
            "[1] Standard Errors assume that the covariance matrix of the errors is correctly specified.\n"
          ],
          "name": "stdout"
        }
      ]
    },
    {
      "cell_type": "markdown",
      "metadata": {
        "id": "TLqosRMJSOAc"
      },
      "source": [
        "#### 3. (Within transformation) Now obtain the mean city.mpg and horsepower for each group. Use these group means to demean horsepower and city.mpg. Run the same regression you ran in part 1. Are the results different? Are the results obtained here different from the results in part 2? What does this tell you about the relation between fixed effect regressions and within transformations?"
      ]
    },
    {
      "cell_type": "code",
      "metadata": {
        "colab": {
          "base_uri": "https://localhost:8080/"
        },
        "id": "HxnQQumlSirt",
        "outputId": "2cfe3917-a6ee-410a-8069-f049824b16d4"
      },
      "source": [
        "# creat a dataset for demeaned variable\n",
        "df_demean = df.copy()\n",
        "\n",
        "# calculate the citympg by cyl\n",
        "df_demean['Mean_citympg_bycyl'] = df_demean.groupby('cylinders_2or4').citympg.transform(np.mean)\n",
        "\n",
        "# calculate the horpower by cyl\n",
        "df_demean['Mean_horsepower_bycyl'] = df_demean.groupby('cylinders_2or4').horsepower.transform(np.mean)\n",
        "\n",
        "# demean, subtract each row by the entity-mean\n",
        "df_demean[\"citympg\"] = df_demean[\"citympg\"] - df_demean['Mean_citympg_bycyl']\n",
        "df_demean[\"horsepower\"] = df_demean[\"horsepower\"] - df_demean['Mean_horsepower_bycyl']\n"
      ],
      "execution_count": 87,
      "outputs": [
        {
          "output_type": "stream",
          "text": [
            "cylinders_2or4\n",
            "0    28.250000\n",
            "2     8.375000\n",
            "4    13.585987\n",
            "Name: citympg, dtype: float64\n",
            "cylinders_2or4\n",
            "0    154.97619\n",
            "2    109.50000\n",
            "4     90.55414\n",
            "Name: horsepower, dtype: float64\n"
          ],
          "name": "stdout"
        }
      ]
    },
    {
      "cell_type": "code",
      "metadata": {
        "colab": {
          "base_uri": "https://localhost:8080/"
        },
        "id": "BC3HdEstXEzo",
        "outputId": "2770eb67-be1f-40f9-f8ab-160a0596dbc2"
      },
      "source": [
        "model = sm.OLS(df_demean.citympg, df_demean.horsepower)\n",
        "results2 = model.fit()\n",
        "print(results2.summary())"
      ],
      "execution_count": 91,
      "outputs": [
        {
          "output_type": "stream",
          "text": [
            "                                 OLS Regression Results                                \n",
            "=======================================================================================\n",
            "Dep. Variable:                citympg   R-squared (uncentered):                   0.483\n",
            "Model:                            OLS   Adj. R-squared (uncentered):              0.481\n",
            "Method:                 Least Squares   F-statistic:                              189.0\n",
            "Date:                Thu, 08 Apr 2021   Prob (F-statistic):                    8.62e-31\n",
            "Time:                        22:24:08   Log-Likelihood:                         -516.05\n",
            "No. Observations:                 203   AIC:                                      1034.\n",
            "Df Residuals:                     202   BIC:                                      1037.\n",
            "Df Model:                           1                                                  \n",
            "Covariance Type:            nonrobust                                                  \n",
            "==============================================================================\n",
            "                 coef    std err          t      P>|t|      [0.025      0.975]\n",
            "------------------------------------------------------------------------------\n",
            "horsepower    -0.0996      0.007    -13.748      0.000      -0.114      -0.085\n",
            "==============================================================================\n",
            "Omnibus:                      269.395   Durbin-Watson:                   1.733\n",
            "Prob(Omnibus):                  0.000   Jarque-Bera (JB):            25082.781\n",
            "Skew:                           5.515   Prob(JB):                         0.00\n",
            "Kurtosis:                      56.327   Cond. No.                         1.00\n",
            "==============================================================================\n",
            "\n",
            "Notes:\n",
            "[1] R² is computed without centering (uncentered) since the model does not contain a constant.\n",
            "[2] Standard Errors assume that the covariance matrix of the errors is correctly specified.\n"
          ],
          "name": "stdout"
        }
      ]
    },
    {
      "cell_type": "markdown",
      "metadata": {
        "id": "RUFhWAGCkqCC"
      },
      "source": [
        "The results are different from the part 1 regression. But the $\\beta$ is the same as the part 2. It would tell us that when introducing fixed effects into our regression, it would perform as if we are demeaning all variables at the cylinders level, which is to say that we are not explaining variation in  means across cylinders with beta."
      ]
    },
    {
      "cell_type": "markdown",
      "metadata": {
        "id": "Dew_5l_olhcX"
      },
      "source": [
        "### Question 2: On marginal significance and trading strategy improvements\n",
        "#### You come up with a signal of stock outperformance: log total asset growth. You realize that your professor has conveniently already coded up this variable for you in the dataset StockRetAcct_insample.dta. The variable is called \"lnInv\"."
      ]
    },
    {
      "cell_type": "markdown",
      "metadata": {
        "id": "6eVootnPmDGH"
      },
      "source": [
        "#### 1. Using the Fama-MacBeth regression approach, what are the average return, standard deviation and Sharpe ratio of the trading strategy implied by using only an intercept and lnInv on the right hand side in the regressions?"
      ]
    },
    {
      "cell_type": "code",
      "metadata": {
        "colab": {
          "base_uri": "https://localhost:8080/",
          "height": 204
        },
        "id": "ZYAmspL4l0tq",
        "outputId": "987cf356-e2a1-4163-b0fe-3285e260ba87"
      },
      "source": [
        "# load data\n",
        "StockRetAcct_DF= pd.read_csv(\"/content/StockRetAcct_DT.csv\")\n",
        "StockRetAcct_DF.head()"
      ],
      "execution_count": 190,
      "outputs": [
        {
          "output_type": "execute_result",
          "data": {
            "text/html": [
              "<div>\n",
              "<style scoped>\n",
              "    .dataframe tbody tr th:only-of-type {\n",
              "        vertical-align: middle;\n",
              "    }\n",
              "\n",
              "    .dataframe tbody tr th {\n",
              "        vertical-align: top;\n",
              "    }\n",
              "\n",
              "    .dataframe thead th {\n",
              "        text-align: right;\n",
              "    }\n",
              "</style>\n",
              "<table border=\"1\" class=\"dataframe\">\n",
              "  <thead>\n",
              "    <tr style=\"text-align: right;\">\n",
              "      <th></th>\n",
              "      <th>Unnamed: 0</th>\n",
              "      <th>FirmID</th>\n",
              "      <th>year</th>\n",
              "      <th>lnAnnRet</th>\n",
              "      <th>lnRf</th>\n",
              "      <th>MEwt</th>\n",
              "      <th>lnIssue</th>\n",
              "      <th>lnMom</th>\n",
              "      <th>lnME</th>\n",
              "      <th>lnProf</th>\n",
              "      <th>lnEP</th>\n",
              "      <th>lnInv</th>\n",
              "      <th>lnLever</th>\n",
              "      <th>lnROE</th>\n",
              "      <th>rv</th>\n",
              "      <th>lnBM</th>\n",
              "      <th>ff_ind</th>\n",
              "    </tr>\n",
              "  </thead>\n",
              "  <tbody>\n",
              "    <tr>\n",
              "      <th>0</th>\n",
              "      <td>1</td>\n",
              "      <td>6</td>\n",
              "      <td>1980</td>\n",
              "      <td>0.363631</td>\n",
              "      <td>0.078944</td>\n",
              "      <td>0.000281</td>\n",
              "      <td>0.031344</td>\n",
              "      <td>0.075355</td>\n",
              "      <td>12.581472</td>\n",
              "      <td>0.201767</td>\n",
              "      <td>0.146411</td>\n",
              "      <td>0.093626</td>\n",
              "      <td>0.696001</td>\n",
              "      <td>0.095294</td>\n",
              "      <td>0.084134</td>\n",
              "      <td>0.633391</td>\n",
              "      <td>3.0</td>\n",
              "    </tr>\n",
              "    <tr>\n",
              "      <th>1</th>\n",
              "      <td>2</td>\n",
              "      <td>6</td>\n",
              "      <td>1981</td>\n",
              "      <td>-0.290409</td>\n",
              "      <td>0.130199</td>\n",
              "      <td>0.000321</td>\n",
              "      <td>0.044213</td>\n",
              "      <td>0.512652</td>\n",
              "      <td>12.907996</td>\n",
              "      <td>0.215661</td>\n",
              "      <td>0.102555</td>\n",
              "      <td>0.087242</td>\n",
              "      <td>0.709843</td>\n",
              "      <td>0.082180</td>\n",
              "      <td>0.056381</td>\n",
              "      <td>0.356723</td>\n",
              "      <td>3.0</td>\n",
              "    </tr>\n",
              "    <tr>\n",
              "      <th>2</th>\n",
              "      <td>3</td>\n",
              "      <td>6</td>\n",
              "      <td>1982</td>\n",
              "      <td>0.186630</td>\n",
              "      <td>0.130703</td>\n",
              "      <td>0.000266</td>\n",
              "      <td>-0.068195</td>\n",
              "      <td>-0.220505</td>\n",
              "      <td>12.557775</td>\n",
              "      <td>0.184087</td>\n",
              "      <td>0.119548</td>\n",
              "      <td>0.111663</td>\n",
              "      <td>0.730972</td>\n",
              "      <td>0.079516</td>\n",
              "      <td>0.062072</td>\n",
              "      <td>0.779405</td>\n",
              "      <td>3.0</td>\n",
              "    </tr>\n",
              "    <tr>\n",
              "      <th>3</th>\n",
              "      <td>4</td>\n",
              "      <td>6</td>\n",
              "      <td>1983</td>\n",
              "      <td>0.489819</td>\n",
              "      <td>0.089830</td>\n",
              "      <td>0.000170</td>\n",
              "      <td>-0.071780</td>\n",
              "      <td>0.046218</td>\n",
              "      <td>12.561954</td>\n",
              "      <td>0.165531</td>\n",
              "      <td>0.115924</td>\n",
              "      <td>-0.033117</td>\n",
              "      <td>0.710885</td>\n",
              "      <td>0.055374</td>\n",
              "      <td>0.076955</td>\n",
              "      <td>0.702113</td>\n",
              "      <td>3.0</td>\n",
              "    </tr>\n",
              "    <tr>\n",
              "      <th>4</th>\n",
              "      <td>5</td>\n",
              "      <td>10</td>\n",
              "      <td>1991</td>\n",
              "      <td>-0.508005</td>\n",
              "      <td>0.061216</td>\n",
              "      <td>0.000033</td>\n",
              "      <td>0.115204</td>\n",
              "      <td>1.341053</td>\n",
              "      <td>11.565831</td>\n",
              "      <td>0.239788</td>\n",
              "      <td>0.023147</td>\n",
              "      <td>0.300051</td>\n",
              "      <td>0.418764</td>\n",
              "      <td>0.146828</td>\n",
              "      <td>0.374368</td>\n",
              "      <td>-2.160942</td>\n",
              "      <td>10.0</td>\n",
              "    </tr>\n",
              "  </tbody>\n",
              "</table>\n",
              "</div>"
            ],
            "text/plain": [
              "   Unnamed: 0  FirmID  year  lnAnnRet  ...     lnROE        rv      lnBM  ff_ind\n",
              "0           1       6  1980  0.363631  ...  0.095294  0.084134  0.633391     3.0\n",
              "1           2       6  1981 -0.290409  ...  0.082180  0.056381  0.356723     3.0\n",
              "2           3       6  1982  0.186630  ...  0.079516  0.062072  0.779405     3.0\n",
              "3           4       6  1983  0.489819  ...  0.055374  0.076955  0.702113     3.0\n",
              "4           5      10  1991 -0.508005  ...  0.146828  0.374368 -2.160942    10.0\n",
              "\n",
              "[5 rows x 17 columns]"
            ]
          },
          "metadata": {
            "tags": []
          },
          "execution_count": 190
        }
      ]
    },
    {
      "cell_type": "code",
      "metadata": {
        "id": "d2pxDNGqnIz1"
      },
      "source": [
        "# Excess return, add a constant column for use in regressions\n",
        "StockRetAcct_DF['ExRet'] = np.exp(StockRetAcct_DF.lnAnnRet)- np.exp(StockRetAcct_DF.lnRf)\n",
        "StockRetAcct_DF['c']     = 1"
      ],
      "execution_count": 168,
      "outputs": []
    },
    {
      "cell_type": "code",
      "metadata": {
        "colab": {
          "base_uri": "https://localhost:8080/"
        },
        "id": "reT0x23HnuPq",
        "outputId": "099af7fb-fca0-4439-c3bd-33ee918fac15"
      },
      "source": [
        "StockRetAcct_DF['lnInv'].head()"
      ],
      "execution_count": 167,
      "outputs": [
        {
          "output_type": "execute_result",
          "data": {
            "text/plain": [
              "0    0.093626\n",
              "1    0.087242\n",
              "2    0.111663\n",
              "3   -0.033117\n",
              "4    0.300051\n",
              "Name: lnInv, dtype: float64"
            ]
          },
          "metadata": {
            "tags": []
          },
          "execution_count": 167
        }
      ]
    },
    {
      "cell_type": "code",
      "metadata": {
        "colab": {
          "base_uri": "https://localhost:8080/",
          "height": 111
        },
        "id": "yE1WdrNqmG7d",
        "outputId": "b2d83d7f-4ff2-437d-91d5-ff2be3755331"
      },
      "source": [
        "# define FMB regreesion\n",
        "def fmreg(data,formula):\n",
        "  return smf.ols(formula,data=data).fit().params[:]\n",
        "\n",
        "# define output of the regression\n",
        "def fm_summary(p):\n",
        "  s = p.describe().T\n",
        "  s['std_error'] = s['std']/np.sqrt(s['count'])\n",
        "  s['tstat'] = s['mean']/s['std_error']\n",
        "  s['Sharpe Ratio'] = s['mean']/s['std']\n",
        "  return s[['mean','std','tstat','Sharpe Ratio']]\n",
        "\n",
        "out = StockRetAcct_DF.groupby('year').apply(fmreg,'ExRet ~ lnInv')\n",
        "fm_summary(out)"
      ],
      "execution_count": 169,
      "outputs": [
        {
          "output_type": "execute_result",
          "data": {
            "text/html": [
              "<div>\n",
              "<style scoped>\n",
              "    .dataframe tbody tr th:only-of-type {\n",
              "        vertical-align: middle;\n",
              "    }\n",
              "\n",
              "    .dataframe tbody tr th {\n",
              "        vertical-align: top;\n",
              "    }\n",
              "\n",
              "    .dataframe thead th {\n",
              "        text-align: right;\n",
              "    }\n",
              "</style>\n",
              "<table border=\"1\" class=\"dataframe\">\n",
              "  <thead>\n",
              "    <tr style=\"text-align: right;\">\n",
              "      <th></th>\n",
              "      <th>mean</th>\n",
              "      <th>std</th>\n",
              "      <th>tstat</th>\n",
              "      <th>Sharpe Ratio</th>\n",
              "    </tr>\n",
              "  </thead>\n",
              "  <tbody>\n",
              "    <tr>\n",
              "      <th>Intercept</th>\n",
              "      <td>0.107785</td>\n",
              "      <td>0.183065</td>\n",
              "      <td>3.483271</td>\n",
              "      <td>0.588780</td>\n",
              "    </tr>\n",
              "    <tr>\n",
              "      <th>lnInv</th>\n",
              "      <td>-0.086791</td>\n",
              "      <td>0.148644</td>\n",
              "      <td>-3.454326</td>\n",
              "      <td>-0.583888</td>\n",
              "    </tr>\n",
              "  </tbody>\n",
              "</table>\n",
              "</div>"
            ],
            "text/plain": [
              "               mean       std     tstat  Sharpe Ratio\n",
              "Intercept  0.107785  0.183065  3.483271      0.588780\n",
              "lnInv     -0.086791  0.148644 -3.454326     -0.583888"
            ]
          },
          "metadata": {
            "tags": []
          },
          "execution_count": 169
        }
      ]
    },
    {
      "cell_type": "markdown",
      "metadata": {
        "id": "U4_9bx0wokgb"
      },
      "source": [
        "#### 2. What is the analytical expression for the portfolio weights in this case? (I'm looking for a formula)"
      ]
    },
    {
      "cell_type": "markdown",
      "metadata": {
        "id": "GF2sYPaNpr6u"
      },
      "source": [
        "$\\lambda = \\sum^N_{i=1}\\frac{1}{N}\\frac{(x_{i,t-1}-E_N[x_{i,t-1}])}{Var_N[x_{i,t-1}]}R_{i,t}$"
      ]
    },
    {
      "cell_type": "markdown",
      "metadata": {
        "id": "Liw4diWOqq24"
      },
      "source": [
        "#### 3. You worry that there is industry-related noise associated with the characteristic lnInv and want to clean up your trading strategy with the goal of reducing exposure to unpriced industry risks. What regressions to you run? Report mean, standard deviation, and Sharpe ratio of the 'cleaned-up' trading strategy."
      ]
    },
    {
      "cell_type": "markdown",
      "metadata": {
        "id": "ZzqRajMNrj3D"
      },
      "source": [
        "To reduce the industry noise risk, I would run regression with industry dummies in the Fama-MacBeth regression."
      ]
    },
    {
      "cell_type": "code",
      "metadata": {
        "colab": {
          "base_uri": "https://localhost:8080/",
          "height": 452
        },
        "id": "kSwQFaxfqwam",
        "outputId": "58b8b5cf-e816-4506-86a1-bbc1d3b5ed92"
      },
      "source": [
        "\n",
        "# Add industry dummies\n",
        "StockRetAcct_DF['Industry']=StockRetAcct_DF['ff_ind'].astype(object)\n",
        "# run FMB regression\n",
        "out1 = (StockRetAcct_DF.groupby('year').apply(fmreg,'ExRet~ lnInv+Industry'))\n",
        "fm_summary(out1)"
      ],
      "execution_count": 170,
      "outputs": [
        {
          "output_type": "execute_result",
          "data": {
            "text/html": [
              "<div>\n",
              "<style scoped>\n",
              "    .dataframe tbody tr th:only-of-type {\n",
              "        vertical-align: middle;\n",
              "    }\n",
              "\n",
              "    .dataframe tbody tr th {\n",
              "        vertical-align: top;\n",
              "    }\n",
              "\n",
              "    .dataframe thead th {\n",
              "        text-align: right;\n",
              "    }\n",
              "</style>\n",
              "<table border=\"1\" class=\"dataframe\">\n",
              "  <thead>\n",
              "    <tr style=\"text-align: right;\">\n",
              "      <th></th>\n",
              "      <th>mean</th>\n",
              "      <th>std</th>\n",
              "      <th>tstat</th>\n",
              "      <th>Sharpe Ratio</th>\n",
              "    </tr>\n",
              "  </thead>\n",
              "  <tbody>\n",
              "    <tr>\n",
              "      <th>Intercept</th>\n",
              "      <td>0.112763</td>\n",
              "      <td>0.193545</td>\n",
              "      <td>3.446823</td>\n",
              "      <td>0.582619</td>\n",
              "    </tr>\n",
              "    <tr>\n",
              "      <th>Industry[T.2.0]</th>\n",
              "      <td>-0.012202</td>\n",
              "      <td>0.130250</td>\n",
              "      <td>-0.554223</td>\n",
              "      <td>-0.093681</td>\n",
              "    </tr>\n",
              "    <tr>\n",
              "      <th>Industry[T.3.0]</th>\n",
              "      <td>-0.016387</td>\n",
              "      <td>0.129407</td>\n",
              "      <td>-0.749142</td>\n",
              "      <td>-0.126628</td>\n",
              "    </tr>\n",
              "    <tr>\n",
              "      <th>Industry[T.4.0]</th>\n",
              "      <td>-0.029597</td>\n",
              "      <td>0.297996</td>\n",
              "      <td>-0.587584</td>\n",
              "      <td>-0.099320</td>\n",
              "    </tr>\n",
              "    <tr>\n",
              "      <th>Industry[T.5.0]</th>\n",
              "      <td>-0.001101</td>\n",
              "      <td>0.098524</td>\n",
              "      <td>-0.066126</td>\n",
              "      <td>-0.011177</td>\n",
              "    </tr>\n",
              "    <tr>\n",
              "      <th>Industry[T.6.0]</th>\n",
              "      <td>0.006305</td>\n",
              "      <td>0.280174</td>\n",
              "      <td>0.133133</td>\n",
              "      <td>0.022504</td>\n",
              "    </tr>\n",
              "    <tr>\n",
              "      <th>Industry[T.7.0]</th>\n",
              "      <td>0.023252</td>\n",
              "      <td>0.217234</td>\n",
              "      <td>0.633249</td>\n",
              "      <td>0.107039</td>\n",
              "    </tr>\n",
              "    <tr>\n",
              "      <th>Industry[T.8.0]</th>\n",
              "      <td>-0.018057</td>\n",
              "      <td>0.143258</td>\n",
              "      <td>-0.745693</td>\n",
              "      <td>-0.126045</td>\n",
              "    </tr>\n",
              "    <tr>\n",
              "      <th>Industry[T.9.0]</th>\n",
              "      <td>0.008121</td>\n",
              "      <td>0.093976</td>\n",
              "      <td>0.511272</td>\n",
              "      <td>0.086421</td>\n",
              "    </tr>\n",
              "    <tr>\n",
              "      <th>Industry[T.10.0]</th>\n",
              "      <td>0.029135</td>\n",
              "      <td>0.184509</td>\n",
              "      <td>0.934180</td>\n",
              "      <td>0.157905</td>\n",
              "    </tr>\n",
              "    <tr>\n",
              "      <th>Industry[T.11.0]</th>\n",
              "      <td>0.012417</td>\n",
              "      <td>0.118847</td>\n",
              "      <td>0.618091</td>\n",
              "      <td>0.104476</td>\n",
              "    </tr>\n",
              "    <tr>\n",
              "      <th>Industry[T.12.0]</th>\n",
              "      <td>-0.023147</td>\n",
              "      <td>0.090814</td>\n",
              "      <td>-1.507913</td>\n",
              "      <td>-0.254884</td>\n",
              "    </tr>\n",
              "    <tr>\n",
              "      <th>lnInv</th>\n",
              "      <td>-0.082578</td>\n",
              "      <td>0.101964</td>\n",
              "      <td>-4.791247</td>\n",
              "      <td>-0.809868</td>\n",
              "    </tr>\n",
              "  </tbody>\n",
              "</table>\n",
              "</div>"
            ],
            "text/plain": [
              "                      mean       std     tstat  Sharpe Ratio\n",
              "Intercept         0.112763  0.193545  3.446823      0.582619\n",
              "Industry[T.2.0]  -0.012202  0.130250 -0.554223     -0.093681\n",
              "Industry[T.3.0]  -0.016387  0.129407 -0.749142     -0.126628\n",
              "Industry[T.4.0]  -0.029597  0.297996 -0.587584     -0.099320\n",
              "Industry[T.5.0]  -0.001101  0.098524 -0.066126     -0.011177\n",
              "Industry[T.6.0]   0.006305  0.280174  0.133133      0.022504\n",
              "Industry[T.7.0]   0.023252  0.217234  0.633249      0.107039\n",
              "Industry[T.8.0]  -0.018057  0.143258 -0.745693     -0.126045\n",
              "Industry[T.9.0]   0.008121  0.093976  0.511272      0.086421\n",
              "Industry[T.10.0]  0.029135  0.184509  0.934180      0.157905\n",
              "Industry[T.11.0]  0.012417  0.118847  0.618091      0.104476\n",
              "Industry[T.12.0] -0.023147  0.090814 -1.507913     -0.254884\n",
              "lnInv            -0.082578  0.101964 -4.791247     -0.809868"
            ]
          },
          "metadata": {
            "tags": []
          },
          "execution_count": 170
        }
      ]
    },
    {
      "cell_type": "markdown",
      "metadata": {
        "id": "PdIISFWhsxju"
      },
      "source": [
        "#### 4. As in the class notes, plot the cumulative returns to the simple and the 'cleaned-up' trading strategies based on your new signal, lnInv. Make sure both trading strategies result in portfolios with a 15% return standard deviation."
      ]
    },
    {
      "cell_type": "code",
      "metadata": {
        "colab": {
          "base_uri": "https://localhost:8080/",
          "height": 346
        },
        "id": "yv3K5aU1s__a",
        "outputId": "8f2ff813-955c-4907-8ea6-488b54f744da"
      },
      "source": [
        "lnInvstdev = out1['lnInv'].std()\n",
        "lnInvret = out1['lnInv']\n",
        "# for plotting, get the scaled excess portfolio returns\n",
        "lnInv_ret = lnInvret*0.15/lnInvstdev\n",
        "\n",
        "# create cumulative log return series\n",
        "cum_ret_lnInv = pd.DataFrame.cumsum(np.log(1+lnInv_ret))\n",
        "\n",
        "# get \"old\" simple value strategy returns\n",
        "lnInvstdev = out['lnInv'].std()\n",
        "lnInvret = out1['lnInv']\n",
        "lnInv_old_ret = pd.DataFrame.cumsum(np.log(1+lnInvret*0.15/lnInvstdev))\n",
        "\n",
        "summary = pd.DataFrame()\n",
        "summary['NewValue'] = np.exp(cum_ret_lnInv)\n",
        "summary['OldValue'] = np.exp(lnInv_old_ret)\n",
        "\n",
        "# Plot Old Value vs New Value\n",
        "sns.set_style('darkgrid')\n",
        "plt.figure()\n",
        "ax=sns.lineplot(data=summary,dashes = False,linewidth = 3)\n",
        "ax.set(xlabel = 'Year',\n",
        "ylabel = 'Cumulative Return',\n",
        "title = \"Old Value vs New Value\")"
      ],
      "execution_count": 171,
      "outputs": [
        {
          "output_type": "execute_result",
          "data": {
            "text/plain": [
              "[Text(0, 0.5, 'Cumulative Return'),\n",
              " Text(0.5, 0, 'Year'),\n",
              " Text(0.5, 1.0, 'Old Value vs New Value')]"
            ]
          },
          "metadata": {
            "tags": []
          },
          "execution_count": 171
        },
        {
          "output_type": "display_data",
          "data": {
            "image/png": "[encoded data removed]",
            "text/plain": [
              "<Figure size 432x288 with 1 Axes>"
            ]
          },
          "metadata": {
            "tags": []
          }
        }
      ]
    },
    {
      "cell_type": "markdown",
      "metadata": {
        "id": "9fbnCHYT4S7d"
      },
      "source": [
        "### Question 3: Predicting medium to long-run firm-level return variance\n",
        "\n",
        "#### There are many return volatility models, such as GARCH. These work best at shorter horizons. As an alternative, we will explore a panel regression approach to predicting firmlevel return variance. The data set StockRetAcct_insample.dta has annual realized variance (rv), calculated as the sum of squared daily returns to each firm, each year.\n",
        "\n",
        "#### Run panel forecasting regressions to forecast firm-level one-year ahead rv along the lines of what we did with lnROE in class."
      ]
    },
    {
      "cell_type": "markdown",
      "metadata": {
        "id": "M-vpAiot4jVg"
      },
      "source": [
        "#### 1. Try with and without industry and year fixed effects, with and without clustering of standard errors. Discuss which specification makes most sense to you. In particular, discuss the effect of a year fixed effect. What is the intuition for the impact of this fixed effect?"
      ]
    },
    {
      "cell_type": "code",
      "metadata": {
        "colab": {
          "base_uri": "https://localhost:8080/"
        },
        "id": "Jy8fnCLW4y5u",
        "outputId": "3a539cf1-a461-4578-bbff-1ac2fe81c6d3"
      },
      "source": [
        "#get lead_rv\n",
        "StockRetAcct_DF['lead_rv']= StockRetAcct_DF.groupby('FirmID')['rv'].shift(-1)\n",
        "StockRetAcct_DF=StockRetAcct_DF[~StockRetAcct_DF.ff_ind.isna()]\n",
        "StockRetAcct_DF['year_col'] = StockRetAcct_DF['year']\n",
        "StockRetAcct_DF = StockRetAcct_DF.set_index(['FirmID','year'])\n",
        "# Regression with no FE or SE\n",
        "rv_panel = PanelOLS.from_formula(formula='lead_rv ~ 1+rv', data=StockRetAcct_DF).fit()\n",
        "print(\"no FE or SE\", rv_panel)"
      ],
      "execution_count": 191,
      "outputs": [
        {
          "output_type": "stream",
          "text": [
            "no FE or SE                           PanelOLS Estimation Summary                           \n",
            "================================================================================\n",
            "Dep. Variable:                lead_rv   R-squared:                        0.2629\n",
            "Estimator:                   PanelOLS   R-squared (Between):              0.5283\n",
            "No. Observations:               55654   R-squared (Within):               0.0017\n",
            "Date:                Fri, Apr 09 2021   R-squared (Overall):              0.2629\n",
            "Time:                        00:12:01   Log-likelihood                 2.598e+04\n",
            "Cov. Estimator:            Unadjusted                                           \n",
            "                                        F-statistic:                   1.985e+04\n",
            "Entities:                        6081   P-value                           0.0000\n",
            "Avg Obs:                       9.1521   Distribution:                 F(1,55652)\n",
            "Min Obs:                       1.0000                                           \n",
            "Max Obs:                       34.000   F-statistic (robust):          1.985e+04\n",
            "                                        P-value                           0.0000\n",
            "Time periods:                      34   Distribution:                 F(1,55652)\n",
            "Avg Obs:                       1636.9                                           \n",
            "Min Obs:                       1075.0                                           \n",
            "Max Obs:                       2130.0                                           \n",
            "                                                                                \n",
            "                             Parameter Estimates                              \n",
            "==============================================================================\n",
            "            Parameter  Std. Err.     T-stat    P-value    Lower CI    Upper CI\n",
            "------------------------------------------------------------------------------\n",
            "Intercept      0.0800     0.0009     89.991     0.0000      0.0782      0.0817\n",
            "rv             0.5070     0.0036     140.89     0.0000      0.4999      0.5140\n",
            "==============================================================================\n",
            "\n",
            "\n"
          ],
          "name": "stdout"
        },
        {
          "output_type": "stream",
          "text": [
            "/usr/local/lib/python3.7/dist-packages/linearmodels/shared/exceptions.py:35: MissingValueWarning: \n",
            "Inputs contain missing values. Dropping rows with missing observations.\n",
            "  warnings.warn(missing_value_warning_msg, MissingValueWarning)\n"
          ],
          "name": "stderr"
        }
      ]
    },
    {
      "cell_type": "code",
      "metadata": {
        "colab": {
          "base_uri": "https://localhost:8080/"
        },
        "id": "HNX1HS1-7i_K",
        "outputId": "be52656d-4251-4f91-be05-326657cd48c8"
      },
      "source": [
        "# Regression with no FE, standard errors clustered at the firm level\n",
        "rv_panel2 = PanelOLS.from_formula(formula='lead_rv ~ 1+rv', data = StockRetAcct_DF).fit(cov_type = 'clustered', cluster_entity=True, cluster_time=False)\n",
        "print(\"no FE,clustered at Firm Level\",rv_panel2)"
      ],
      "execution_count": 192,
      "outputs": [
        {
          "output_type": "stream",
          "text": [
            "/usr/local/lib/python3.7/dist-packages/linearmodels/shared/exceptions.py:35: MissingValueWarning: \n",
            "Inputs contain missing values. Dropping rows with missing observations.\n",
            "  warnings.warn(missing_value_warning_msg, MissingValueWarning)\n"
          ],
          "name": "stderr"
        },
        {
          "output_type": "stream",
          "text": [
            "no FE,clustered at Firm Level                           PanelOLS Estimation Summary                           \n",
            "================================================================================\n",
            "Dep. Variable:                lead_rv   R-squared:                        0.2629\n",
            "Estimator:                   PanelOLS   R-squared (Between):              0.5283\n",
            "No. Observations:               55654   R-squared (Within):               0.0017\n",
            "Date:                Fri, Apr 09 2021   R-squared (Overall):              0.2629\n",
            "Time:                        00:12:35   Log-likelihood                 2.598e+04\n",
            "Cov. Estimator:             Clustered                                           \n",
            "                                        F-statistic:                   1.985e+04\n",
            "Entities:                        6081   P-value                           0.0000\n",
            "Avg Obs:                       9.1521   Distribution:                 F(1,55652)\n",
            "Min Obs:                       1.0000                                           \n",
            "Max Obs:                       34.000   F-statistic (robust):             4370.7\n",
            "                                        P-value                           0.0000\n",
            "Time periods:                      34   Distribution:                 F(1,55652)\n",
            "Avg Obs:                       1636.9                                           \n",
            "Min Obs:                       1075.0                                           \n",
            "Max Obs:                       2130.0                                           \n",
            "                                                                                \n",
            "                             Parameter Estimates                              \n",
            "==============================================================================\n",
            "            Parameter  Std. Err.     T-stat    P-value    Lower CI    Upper CI\n",
            "------------------------------------------------------------------------------\n",
            "Intercept      0.0800     0.0014     56.038     0.0000      0.0772      0.0828\n",
            "rv             0.5070     0.0077     66.111     0.0000      0.4920      0.5220\n",
            "==============================================================================\n",
            "\n",
            "\n"
          ],
          "name": "stdout"
        }
      ]
    },
    {
      "cell_type": "markdown",
      "metadata": {
        "id": "1AG8hVWi-Y3h"
      },
      "source": [
        "By compare to $Panel \\ 1$ regression, $R^2$ does not change but a smaller t-stat."
      ]
    },
    {
      "cell_type": "code",
      "metadata": {
        "colab": {
          "base_uri": "https://localhost:8080/"
        },
        "id": "KSbzcUGg7t3C",
        "outputId": "379451a0-9f8f-4ab1-e63d-69c76c420641"
      },
      "source": [
        "# Regression with no FE, standard errors clustered at the firm and year level\n",
        "rv_panel3 = PanelOLS.from_formula(formula='lead_rv ~ 1+rv', data = StockRetAcct_DF).fit(cov_type = 'clustered', cluster_entity=True, cluster_time=True)\n",
        "print(rv_panel3)"
      ],
      "execution_count": 186,
      "outputs": [
        {
          "output_type": "stream",
          "text": [
            "/usr/local/lib/python3.7/dist-packages/linearmodels/shared/exceptions.py:35: MissingValueWarning: \n",
            "Inputs contain missing values. Dropping rows with missing observations.\n",
            "  warnings.warn(missing_value_warning_msg, MissingValueWarning)\n"
          ],
          "name": "stderr"
        },
        {
          "output_type": "stream",
          "text": [
            "                          PanelOLS Estimation Summary                           \n",
            "================================================================================\n",
            "Dep. Variable:                lead_rv   R-squared:                        0.2629\n",
            "Estimator:                   PanelOLS   R-squared (Between):              0.5283\n",
            "No. Observations:               55654   R-squared (Within):               0.0017\n",
            "Date:                Fri, Apr 09 2021   R-squared (Overall):              0.2629\n",
            "Time:                        00:10:03   Log-likelihood                 2.598e+04\n",
            "Cov. Estimator:             Clustered                                           \n",
            "                                        F-statistic:                   1.985e+04\n",
            "Entities:                        6081   P-value                           0.0000\n",
            "Avg Obs:                       9.1521   Distribution:                 F(1,55652)\n",
            "Min Obs:                       1.0000                                           \n",
            "Max Obs:                       34.000   F-statistic (robust):             8.5179\n",
            "                                        P-value                           0.0035\n",
            "Time periods:                      34   Distribution:                 F(1,55652)\n",
            "Avg Obs:                       1636.9                                           \n",
            "Min Obs:                       1075.0                                           \n",
            "Max Obs:                       2130.0                                           \n",
            "                                                                                \n",
            "                             Parameter Estimates                              \n",
            "==============================================================================\n",
            "            Parameter  Std. Err.     T-stat    P-value    Lower CI    Upper CI\n",
            "------------------------------------------------------------------------------\n",
            "Intercept      0.0800     0.0240     3.3263     0.0009      0.0329      0.1271\n",
            "rv             0.5070     0.1737     2.9185     0.0035      0.1665      0.8475\n",
            "==============================================================================\n",
            "\n",
            "\n"
          ],
          "name": "stdout"
        }
      ]
    },
    {
      "cell_type": "markdown",
      "metadata": {
        "id": "2dQMr7NB-pXm"
      },
      "source": [
        "Compaare to $Panel \\ 1 $ and $Panel \\ 2$, by clustering by time does not change $R^2$, but greatly reduced t-stat, which is the evidence of both firm and time dependencies in the errors."
      ]
    },
    {
      "cell_type": "code",
      "metadata": {
        "colab": {
          "base_uri": "https://localhost:8080/"
        },
        "id": "2-OQr-le711w",
        "outputId": "47a41387-0b3b-4fa0-9fb2-513b82db0bc6"
      },
      "source": [
        "# Regression with industry FE, standard errors clustered at the year level\n",
        "rv_panel4 = PanelOLS.from_formula(formula='lead_rv~1+rv+C(ff_ind)',data = StockRetAcct_DF).fit(cov_type = 'clustered', cluster_entity=False, cluster_time=True)\n",
        "print(rv_panel4)"
      ],
      "execution_count": 193,
      "outputs": [
        {
          "output_type": "stream",
          "text": [
            "/usr/local/lib/python3.7/dist-packages/linearmodels/shared/exceptions.py:35: MissingValueWarning: \n",
            "Inputs contain missing values. Dropping rows with missing observations.\n",
            "  warnings.warn(missing_value_warning_msg, MissingValueWarning)\n"
          ],
          "name": "stderr"
        },
        {
          "output_type": "stream",
          "text": [
            "                          PanelOLS Estimation Summary                           \n",
            "================================================================================\n",
            "Dep. Variable:                lead_rv   R-squared:                        0.2837\n",
            "Estimator:                   PanelOLS   R-squared (Between):              0.5489\n",
            "No. Observations:               55654   R-squared (Within):               0.0208\n",
            "Date:                Fri, Apr 09 2021   R-squared (Overall):              0.2837\n",
            "Time:                        00:18:45   Log-likelihood                 2.678e+04\n",
            "Cov. Estimator:             Clustered                                           \n",
            "                                        F-statistic:                      1836.8\n",
            "Entities:                        6081   P-value                           0.0000\n",
            "Avg Obs:                       9.1521   Distribution:                F(12,55641)\n",
            "Min Obs:                       1.0000                                           \n",
            "Max Obs:                       34.000   F-statistic (robust):             40.334\n",
            "                                        P-value                           0.0000\n",
            "Time periods:                      34   Distribution:                F(12,55641)\n",
            "Avg Obs:                       1636.9                                           \n",
            "Min Obs:                       1075.0                                           \n",
            "Max Obs:                       2130.0                                           \n",
            "                                                                                \n",
            "                                 Parameter Estimates                                 \n",
            "=====================================================================================\n",
            "                   Parameter  Std. Err.     T-stat    P-value    Lower CI    Upper CI\n",
            "-------------------------------------------------------------------------------------\n",
            "Intercept             0.0630     0.0187     3.3706     0.0008      0.0263      0.0996\n",
            "C(ff_ind)[T.2.0]      0.0162     0.0066     2.4585     0.0140      0.0033      0.0291\n",
            "C(ff_ind)[T.3.0]      0.0160     0.0052     3.0793     0.0021      0.0058      0.0261\n",
            "C(ff_ind)[T.4.0]      0.0387     0.0227     1.6998     0.0892     -0.0059      0.0833\n",
            "C(ff_ind)[T.5.0]      0.0009     0.0047     0.1958     0.8448     -0.0083      0.0102\n",
            "C(ff_ind)[T.6.0]      0.0744     0.0212     3.5181     0.0004      0.0330      0.1159\n",
            "C(ff_ind)[T.7.0]      0.0405     0.0133     3.0491     0.0023      0.0145      0.0665\n",
            "C(ff_ind)[T.8.0]     -0.0295     0.0096    -3.0653     0.0022     -0.0484     -0.0107\n",
            "C(ff_ind)[T.9.0]      0.0271     0.0073     3.7090     0.0002      0.0128      0.0414\n",
            "C(ff_ind)[T.10.0]     0.0432     0.0138     3.1282     0.0018      0.0161      0.0702\n",
            "C(ff_ind)[T.11.0]     0.0082     0.0110     0.7466     0.4553     -0.0134      0.0298\n",
            "C(ff_ind)[T.12.0]     0.0321     0.0096     3.3562     0.0008      0.0134      0.0508\n",
            "rv                    0.4613     0.1715     2.6904     0.0071      0.1252      0.7973\n",
            "=====================================================================================\n",
            "\n",
            "\n"
          ],
          "name": "stdout"
        }
      ]
    },
    {
      "cell_type": "markdown",
      "metadata": {
        "id": "LkAWF8lpADQI"
      },
      "source": [
        "By inducing fixed effect at the industry level, $R^2$ slightly increased."
      ]
    },
    {
      "cell_type": "code",
      "metadata": {
        "colab": {
          "base_uri": "https://localhost:8080/"
        },
        "id": "s49SrDK97_m1",
        "outputId": "e660cc3c-05b2-484c-bd2f-0fb2a164ea86"
      },
      "source": [
        "# Regression with time and industry FE, standard errors clustered at the firm \n",
        "# and year level\n",
        "rv_panel5 = PanelOLS.from_formula(formula='lead_rv ~ 1+rv+C(ff_ind)+TimeEffects', data = StockRetAcct_DF).fit(cov_type = 'clustered', cluster_entity=True, cluster_time=True)\n",
        "print(rv_panel5)"
      ],
      "execution_count": 183,
      "outputs": [
        {
          "output_type": "stream",
          "text": [
            "/usr/local/lib/python3.7/dist-packages/linearmodels/shared/exceptions.py:35: MissingValueWarning: \n",
            "Inputs contain missing values. Dropping rows with missing observations.\n",
            "  warnings.warn(missing_value_warning_msg, MissingValueWarning)\n"
          ],
          "name": "stderr"
        },
        {
          "output_type": "stream",
          "text": [
            "                          PanelOLS Estimation Summary                           \n",
            "================================================================================\n",
            "Dep. Variable:                lead_rv   R-squared:                        0.3951\n",
            "Estimator:                   PanelOLS   R-squared (Between):              0.5985\n",
            "No. Observations:               55654   R-squared (Within):              -0.0385\n",
            "Date:                Fri, Apr 09 2021   R-squared (Overall):              0.2717\n",
            "Time:                        00:07:20   Log-likelihood                 4.457e+04\n",
            "Cov. Estimator:             Clustered                                           \n",
            "                                        F-statistic:                      3026.4\n",
            "Entities:                        6081   P-value                           0.0000\n",
            "Avg Obs:                       9.1521   Distribution:                F(12,55608)\n",
            "Min Obs:                       1.0000                                           \n",
            "Max Obs:                       34.000   F-statistic (robust):             48.150\n",
            "                                        P-value                           0.0000\n",
            "Time periods:                      34   Distribution:                F(12,55608)\n",
            "Avg Obs:                       1636.9                                           \n",
            "Min Obs:                       1075.0                                           \n",
            "Max Obs:                       2130.0                                           \n",
            "                                                                                \n",
            "                                 Parameter Estimates                                 \n",
            "=====================================================================================\n",
            "                   Parameter  Std. Err.     T-stat    P-value    Lower CI    Upper CI\n",
            "-------------------------------------------------------------------------------------\n",
            "Intercept             0.0503     0.0216     2.3275     0.0199      0.0079      0.0926\n",
            "C(ff_ind)[T.2.0]      0.0133     0.0072     1.8501     0.0643     -0.0008      0.0274\n",
            "C(ff_ind)[T.3.0]      0.0121     0.0044     2.7565     0.0058      0.0035      0.0207\n",
            "C(ff_ind)[T.4.0]      0.0275     0.0153     1.7935     0.0729     -0.0025      0.0575\n",
            "C(ff_ind)[T.5.0]      0.0008     0.0039     0.2075     0.8356     -0.0069      0.0085\n",
            "C(ff_ind)[T.6.0]      0.0546     0.0168     3.2514     0.0011      0.0217      0.0876\n",
            "C(ff_ind)[T.7.0]      0.0277     0.0094     2.9537     0.0031      0.0093      0.0462\n",
            "C(ff_ind)[T.8.0]     -0.0210     0.0073    -2.8705     0.0041     -0.0353     -0.0067\n",
            "C(ff_ind)[T.9.0]      0.0202     0.0048     4.1703     0.0000      0.0107      0.0297\n",
            "C(ff_ind)[T.10.0]     0.0320     0.0122     2.6195     0.0088      0.0081      0.0560\n",
            "C(ff_ind)[T.11.0]     0.0054     0.0105     0.5183     0.6043     -0.0151      0.0260\n",
            "C(ff_ind)[T.12.0]     0.0226     0.0056     4.0521     0.0001      0.0117      0.0335\n",
            "rv                    0.5749     0.1310     4.3868     0.0000      0.3180      0.8317\n",
            "=====================================================================================\n",
            "\n",
            "F-test for Poolability: 1508.1\n",
            "P-value: 0.0000\n",
            "Distribution: F(33,55608)\n",
            "\n",
            "Included effects: Time\n"
          ],
          "name": "stdout"
        }
      ]
    },
    {
      "cell_type": "markdown",
      "metadata": {
        "id": "0d0ref6lAQVU"
      },
      "source": [
        "In this case, $R^2$ increased to around $39\\%$, and most of the variables are significant, which can see that the time-series variation of beta is significant."
      ]
    },
    {
      "cell_type": "markdown",
      "metadata": {
        "id": "MogtbmhTBj0c"
      },
      "source": [
        "#### 2. Also try forecasting at the 5-year horizon (rv in 5 years). How do the results change? Can we predict return variance 5-years ahead? Is the 5-year lagged rv significant, or are other variables more important?"
      ]
    },
    {
      "cell_type": "code",
      "metadata": {
        "colab": {
          "base_uri": "https://localhost:8080/"
        },
        "id": "ukEDREvaBzsu",
        "outputId": "c044c56d-7236-41b7-ded4-ce46d839c96c"
      },
      "source": [
        "# creat 5-year lead rv\n",
        "StockRetAcct_DF['lead_rv5'] = StockRetAcct_DF.groupby('FirmID')['rv'].shift(-5)\n",
        "# Industry component in accounting variables, include industry FE,\n",
        "# standard errors clustered at the firm and year level\n",
        "rv_panel6 = PanelOLS.from_formula(formula='lead_rv5~1+rv+C(ff_ind)+TimeEffects',data = StockRetAcct_DF).fit(cov_type = 'clustered',\n",
        "cluster_entity=True, cluster_time=True)\n",
        "print(rv_panel6)"
      ],
      "execution_count": 197,
      "outputs": [
        {
          "output_type": "stream",
          "text": [
            "/usr/local/lib/python3.7/dist-packages/linearmodels/shared/exceptions.py:35: MissingValueWarning: \n",
            "Inputs contain missing values. Dropping rows with missing observations.\n",
            "  warnings.warn(missing_value_warning_msg, MissingValueWarning)\n"
          ],
          "name": "stderr"
        },
        {
          "output_type": "stream",
          "text": [
            "                          PanelOLS Estimation Summary                           \n",
            "================================================================================\n",
            "Dep. Variable:               lead_rv5   R-squared:                        0.1191\n",
            "Estimator:                   PanelOLS   R-squared (Between):              0.1329\n",
            "No. Observations:               36076   R-squared (Within):              -0.1224\n",
            "Date:                Fri, Apr 09 2021   R-squared (Overall):              0.0166\n",
            "Time:                        00:35:35   Log-likelihood                 2.484e+04\n",
            "Cov. Estimator:             Clustered                                           \n",
            "                                        F-statistic:                      406.12\n",
            "Entities:                        3556   P-value                           0.0000\n",
            "Avg Obs:                       10.145   Distribution:                F(12,36034)\n",
            "Min Obs:                       1.0000                                           \n",
            "Max Obs:                       30.000   F-statistic (robust):             20.764\n",
            "                                        P-value                           0.0000\n",
            "Time periods:                      30   Distribution:                F(12,36034)\n",
            "Avg Obs:                       1202.5                                           \n",
            "Min Obs:                       812.00                                           \n",
            "Max Obs:                       1483.0                                           \n",
            "                                                                                \n",
            "                                 Parameter Estimates                                 \n",
            "=====================================================================================\n",
            "                   Parameter  Std. Err.     T-stat    P-value    Lower CI    Upper CI\n",
            "-------------------------------------------------------------------------------------\n",
            "Intercept             0.0853     0.0125     6.8481     0.0000      0.0609      0.1097\n",
            "C(ff_ind)[T.2.0]      0.0244     0.0077     3.1590     0.0016      0.0092      0.0395\n",
            "C(ff_ind)[T.3.0]      0.0253     0.0064     3.9516     0.0001      0.0128      0.0379\n",
            "C(ff_ind)[T.4.0]      0.0504     0.0170     2.9690     0.0030      0.0171      0.0837\n",
            "C(ff_ind)[T.5.0]      0.0014     0.0055     0.2529     0.8003     -0.0095      0.0123\n",
            "C(ff_ind)[T.6.0]      0.0739     0.0173     4.2771     0.0000      0.0401      0.1078\n",
            "C(ff_ind)[T.7.0]      0.0307     0.0113     2.7192     0.0065      0.0086      0.0529\n",
            "C(ff_ind)[T.8.0]     -0.0344     0.0057    -6.0125     0.0000     -0.0456     -0.0232\n",
            "C(ff_ind)[T.9.0]      0.0335     0.0060     5.5589     0.0000      0.0217      0.0453\n",
            "C(ff_ind)[T.10.0]     0.0370     0.0121     3.0574     0.0022      0.0133      0.0607\n",
            "C(ff_ind)[T.11.0]     0.0158     0.0141     1.1181     0.2635     -0.0119      0.0434\n",
            "C(ff_ind)[T.12.0]     0.0392     0.0067     5.8160     0.0000      0.0260      0.0524\n",
            "rv                    0.2027     0.0661     3.0676     0.0022      0.0732      0.3322\n",
            "=====================================================================================\n",
            "\n",
            "F-test for Poolability: 726.31\n",
            "P-value: 0.0000\n",
            "Distribution: F(29,36034)\n",
            "\n",
            "Included effects: Time\n"
          ],
          "name": "stdout"
        }
      ]
    },
    {
      "cell_type": "markdown",
      "metadata": {
        "id": "yMa9zaMtEWlt"
      },
      "source": [
        "The $R^2$ of this variable is quite a bit lower, around $12\\%$. We would still do prediction in 5 year, but the accuracy can not be guaranteed. There are quite a lot variables are significant, especially rv in 5 years is significant. "
      ]
    },
    {
      "cell_type": "markdown",
      "metadata": {
        "id": "8A8o5ttTHa82"
      },
      "source": [
        "#### 3. What are the benefits of the panel approach, versus simply running one regression for each firm? What are the potential costs?"
      ]
    },
    {
      "cell_type": "markdown",
      "metadata": {
        "id": "fEQFcYvMHf_I"
      },
      "source": [
        "Panel regression estimates usually will have a big increase in power, regression coefficients have low standard error. However, requires assumption that regression coefficients are constant over time\n",
        "and in cross-section (potentially with exception of intercepts)"
      ]
    }
  ]
}